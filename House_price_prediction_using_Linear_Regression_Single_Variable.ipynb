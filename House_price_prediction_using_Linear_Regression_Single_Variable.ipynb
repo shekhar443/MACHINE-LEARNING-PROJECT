{
 "cells": [
  {
   "cell_type": "markdown",
   "metadata": {
    "id": "lhs4jSbDtfCH"
   },
   "source": [
    "# <font color = \"green\" > <b><i>House_price_prediction_using_Linear_Regression_Single_Variable</b>\n",
    "<b><i>NAKKA SHEKHAR</b>\n",
    "* [linkedin](https://www.linkedin.com/in/nakka-shekhar-2019a987/)\n",
    "* [github](https://github.com/shekhar443/MACHINE-LEARNING-PROJECT)"
   ]
  },
  {
   "cell_type": "markdown",
   "metadata": {},
   "source": [
    "## Importing Required Libraries"
   ]
  },
  {
   "cell_type": "code",
   "execution_count": 1,
   "metadata": {
    "id": "lhs4jSbDtfCH"
   },
   "outputs": [],
   "source": [
    "import pandas as pd\n",
    "import numpy as np\n",
    "import matplotlib.pyplot as plt\n",
    "import warnings\n",
    "warnings.filterwarnings(\"ignore\")"
   ]
  },
  {
   "cell_type": "markdown",
   "metadata": {},
   "source": [
    "## Data Profiling / Data Loading"
   ]
  },
  {
   "cell_type": "code",
   "execution_count": 2,
   "metadata": {
    "id": "DEDKvS3ot6PY"
   },
   "outputs": [],
   "source": [
    "df=pd.read_csv(\"ML/dataset11.csv\")"
   ]
  },
  {
   "cell_type": "markdown",
   "metadata": {},
   "source": [
    "## Summarize Dataset"
   ]
  },
  {
   "cell_type": "code",
   "execution_count": 3,
   "metadata": {
    "colab": {
     "base_uri": "https://localhost:8080/",
     "height": 206
    },
    "id": "Q69Os3gXvCwM",
    "outputId": "3a856c34-6327-4099-ddab-a0b6b30800a0"
   },
   "outputs": [
    {
     "data": {
      "text/html": [
       "<div>\n",
       "<style scoped>\n",
       "    .dataframe tbody tr th:only-of-type {\n",
       "        vertical-align: middle;\n",
       "    }\n",
       "\n",
       "    .dataframe tbody tr th {\n",
       "        vertical-align: top;\n",
       "    }\n",
       "\n",
       "    .dataframe thead th {\n",
       "        text-align: right;\n",
       "    }\n",
       "</style>\n",
       "<table border=\"1\" class=\"dataframe\">\n",
       "  <thead>\n",
       "    <tr style=\"text-align: right;\">\n",
       "      <th></th>\n",
       "      <th>area</th>\n",
       "      <th>price</th>\n",
       "    </tr>\n",
       "  </thead>\n",
       "  <tbody>\n",
       "    <tr>\n",
       "      <th>0</th>\n",
       "      <td>8450</td>\n",
       "      <td>208500</td>\n",
       "    </tr>\n",
       "    <tr>\n",
       "      <th>1</th>\n",
       "      <td>9600</td>\n",
       "      <td>181500</td>\n",
       "    </tr>\n",
       "    <tr>\n",
       "      <th>2</th>\n",
       "      <td>11250</td>\n",
       "      <td>223500</td>\n",
       "    </tr>\n",
       "    <tr>\n",
       "      <th>3</th>\n",
       "      <td>9550</td>\n",
       "      <td>140000</td>\n",
       "    </tr>\n",
       "    <tr>\n",
       "      <th>4</th>\n",
       "      <td>14260</td>\n",
       "      <td>250000</td>\n",
       "    </tr>\n",
       "  </tbody>\n",
       "</table>\n",
       "</div>"
      ],
      "text/plain": [
       "    area   price\n",
       "0   8450  208500\n",
       "1   9600  181500\n",
       "2  11250  223500\n",
       "3   9550  140000\n",
       "4  14260  250000"
      ]
     },
     "execution_count": 3,
     "metadata": {},
     "output_type": "execute_result"
    }
   ],
   "source": [
    "df.head()"
   ]
  },
  {
   "cell_type": "code",
   "execution_count": 4,
   "metadata": {
    "colab": {
     "base_uri": "https://localhost:8080/",
     "height": 206
    },
    "id": "rJd27rYhvEYr",
    "outputId": "598bb5f6-d0de-4a86-ffde-c724fcdd3ee7"
   },
   "outputs": [
    {
     "data": {
      "text/html": [
       "<div>\n",
       "<style scoped>\n",
       "    .dataframe tbody tr th:only-of-type {\n",
       "        vertical-align: middle;\n",
       "    }\n",
       "\n",
       "    .dataframe tbody tr th {\n",
       "        vertical-align: top;\n",
       "    }\n",
       "\n",
       "    .dataframe thead th {\n",
       "        text-align: right;\n",
       "    }\n",
       "</style>\n",
       "<table border=\"1\" class=\"dataframe\">\n",
       "  <thead>\n",
       "    <tr style=\"text-align: right;\">\n",
       "      <th></th>\n",
       "      <th>area</th>\n",
       "      <th>price</th>\n",
       "    </tr>\n",
       "  </thead>\n",
       "  <tbody>\n",
       "    <tr>\n",
       "      <th>1455</th>\n",
       "      <td>7917</td>\n",
       "      <td>175000</td>\n",
       "    </tr>\n",
       "    <tr>\n",
       "      <th>1456</th>\n",
       "      <td>13175</td>\n",
       "      <td>210000</td>\n",
       "    </tr>\n",
       "    <tr>\n",
       "      <th>1457</th>\n",
       "      <td>9042</td>\n",
       "      <td>266500</td>\n",
       "    </tr>\n",
       "    <tr>\n",
       "      <th>1458</th>\n",
       "      <td>9717</td>\n",
       "      <td>142125</td>\n",
       "    </tr>\n",
       "    <tr>\n",
       "      <th>1459</th>\n",
       "      <td>9937</td>\n",
       "      <td>147500</td>\n",
       "    </tr>\n",
       "  </tbody>\n",
       "</table>\n",
       "</div>"
      ],
      "text/plain": [
       "       area   price\n",
       "1455   7917  175000\n",
       "1456  13175  210000\n",
       "1457   9042  266500\n",
       "1458   9717  142125\n",
       "1459   9937  147500"
      ]
     },
     "execution_count": 4,
     "metadata": {},
     "output_type": "execute_result"
    }
   ],
   "source": [
    "df.tail()"
   ]
  },
  {
   "cell_type": "code",
   "execution_count": 5,
   "metadata": {
    "colab": {
     "base_uri": "https://localhost:8080/"
    },
    "id": "vQqz_OkYvFyl",
    "outputId": "bd12b5e2-bb7f-4367-bdf8-733ff1dcc56a"
   },
   "outputs": [
    {
     "data": {
      "text/plain": [
       "Index(['area', 'price'], dtype='object')"
      ]
     },
     "execution_count": 5,
     "metadata": {},
     "output_type": "execute_result"
    }
   ],
   "source": [
    "df.columns"
   ]
  },
  {
   "cell_type": "code",
   "execution_count": 6,
   "metadata": {
    "colab": {
     "base_uri": "https://localhost:8080/"
    },
    "id": "yEjajErJvJiA",
    "outputId": "794930d8-77d8-4a57-8c62-90e253cae801"
   },
   "outputs": [
    {
     "name": "stdout",
     "output_type": "stream",
     "text": [
      "<class 'pandas.core.frame.DataFrame'>\n",
      "RangeIndex: 1460 entries, 0 to 1459\n",
      "Data columns (total 2 columns):\n",
      " #   Column  Non-Null Count  Dtype\n",
      "---  ------  --------------  -----\n",
      " 0   area    1460 non-null   int64\n",
      " 1   price   1460 non-null   int64\n",
      "dtypes: int64(2)\n",
      "memory usage: 22.9 KB\n"
     ]
    }
   ],
   "source": [
    "df.info()"
   ]
  },
  {
   "cell_type": "code",
   "execution_count": 7,
   "metadata": {
    "colab": {
     "base_uri": "https://localhost:8080/",
     "height": 300
    },
    "id": "CszBwCkVvPFs",
    "outputId": "7ef2827a-a75b-4971-f865-634821ce6ea8",
    "scrolled": true
   },
   "outputs": [
    {
     "data": {
      "text/html": [
       "<div>\n",
       "<style scoped>\n",
       "    .dataframe tbody tr th:only-of-type {\n",
       "        vertical-align: middle;\n",
       "    }\n",
       "\n",
       "    .dataframe tbody tr th {\n",
       "        vertical-align: top;\n",
       "    }\n",
       "\n",
       "    .dataframe thead th {\n",
       "        text-align: right;\n",
       "    }\n",
       "</style>\n",
       "<table border=\"1\" class=\"dataframe\">\n",
       "  <thead>\n",
       "    <tr style=\"text-align: right;\">\n",
       "      <th></th>\n",
       "      <th>area</th>\n",
       "      <th>price</th>\n",
       "    </tr>\n",
       "  </thead>\n",
       "  <tbody>\n",
       "    <tr>\n",
       "      <th>count</th>\n",
       "      <td>1460.000000</td>\n",
       "      <td>1460.000000</td>\n",
       "    </tr>\n",
       "    <tr>\n",
       "      <th>mean</th>\n",
       "      <td>10516.828082</td>\n",
       "      <td>180921.195890</td>\n",
       "    </tr>\n",
       "    <tr>\n",
       "      <th>std</th>\n",
       "      <td>9981.264932</td>\n",
       "      <td>79442.502883</td>\n",
       "    </tr>\n",
       "    <tr>\n",
       "      <th>min</th>\n",
       "      <td>1300.000000</td>\n",
       "      <td>34900.000000</td>\n",
       "    </tr>\n",
       "    <tr>\n",
       "      <th>25%</th>\n",
       "      <td>7553.500000</td>\n",
       "      <td>129975.000000</td>\n",
       "    </tr>\n",
       "    <tr>\n",
       "      <th>50%</th>\n",
       "      <td>9478.500000</td>\n",
       "      <td>163000.000000</td>\n",
       "    </tr>\n",
       "    <tr>\n",
       "      <th>75%</th>\n",
       "      <td>11601.500000</td>\n",
       "      <td>214000.000000</td>\n",
       "    </tr>\n",
       "    <tr>\n",
       "      <th>max</th>\n",
       "      <td>215245.000000</td>\n",
       "      <td>755000.000000</td>\n",
       "    </tr>\n",
       "  </tbody>\n",
       "</table>\n",
       "</div>"
      ],
      "text/plain": [
       "                area          price\n",
       "count    1460.000000    1460.000000\n",
       "mean    10516.828082  180921.195890\n",
       "std      9981.264932   79442.502883\n",
       "min      1300.000000   34900.000000\n",
       "25%      7553.500000  129975.000000\n",
       "50%      9478.500000  163000.000000\n",
       "75%     11601.500000  214000.000000\n",
       "max    215245.000000  755000.000000"
      ]
     },
     "execution_count": 7,
     "metadata": {},
     "output_type": "execute_result"
    }
   ],
   "source": [
    "df.describe()"
   ]
  },
  {
   "cell_type": "markdown",
   "metadata": {},
   "source": [
    "## Check Null Values and Duplicate Values"
   ]
  },
  {
   "cell_type": "code",
   "execution_count": 8,
   "metadata": {
    "colab": {
     "base_uri": "https://localhost:8080/"
    },
    "id": "y73Fws8MvQmR",
    "outputId": "2945ed7e-3484-4563-f251-98a946152d0f"
   },
   "outputs": [
    {
     "data": {
      "text/plain": [
       "area     0\n",
       "price    0\n",
       "dtype: int64"
      ]
     },
     "execution_count": 8,
     "metadata": {},
     "output_type": "execute_result"
    }
   ],
   "source": [
    "df.isnull().sum()"
   ]
  },
  {
   "cell_type": "code",
   "execution_count": 9,
   "metadata": {
    "colab": {
     "base_uri": "https://localhost:8080/"
    },
    "id": "shAFmaCsvUQM",
    "outputId": "0df5eb71-398f-490f-c404-fdc58608d4eb"
   },
   "outputs": [
    {
     "data": {
      "text/plain": [
       "9"
      ]
     },
     "execution_count": 9,
     "metadata": {},
     "output_type": "execute_result"
    }
   ],
   "source": [
    "df.duplicated().sum()"
   ]
  },
  {
   "cell_type": "markdown",
   "metadata": {},
   "source": [
    "## Graphical Analysis"
   ]
  },
  {
   "cell_type": "code",
   "execution_count": 10,
   "metadata": {
    "colab": {
     "base_uri": "https://localhost:8080/",
     "height": 428
    },
    "id": "I8KyOrndwfl6",
    "outputId": "e2b53f5b-a1db-4537-a8e9-98c8b4304b47"
   },
   "outputs": [
    {
     "data": {
      "image/png": "[encoded data removed]",
      "text/plain": [
       "<Figure size 936x504 with 1 Axes>"
      ]
     },
     "metadata": {
      "needs_background": "light"
     },
     "output_type": "display_data"
    }
   ],
   "source": [
    "plt.figure(figsize=(13,7))\n",
    "plt.scatter(df.area,df.price,color=\"k\",marker=\"*\")\n",
    "plt.show()"
   ]
  },
  {
   "cell_type": "markdown",
   "metadata": {},
   "source": [
    "## Segregate Data into X and y(Independent and Independent Features)"
   ]
  },
  {
   "cell_type": "code",
   "execution_count": 11,
   "metadata": {
    "id": "OL9FQcNMvZdn"
   },
   "outputs": [],
   "source": [
    "X=df.drop(\"price\",axis=1)"
   ]
  },
  {
   "cell_type": "code",
   "execution_count": 12,
   "metadata": {
    "colab": {
     "base_uri": "https://localhost:8080/",
     "height": 424
    },
    "id": "xy7guUd8vjo4",
    "outputId": "b3ca6b37-01d4-45bc-8ef7-bdabb7a613b1",
    "scrolled": false
   },
   "outputs": [
    {
     "data": {
      "text/html": [
       "<div>\n",
       "<style scoped>\n",
       "    .dataframe tbody tr th:only-of-type {\n",
       "        vertical-align: middle;\n",
       "    }\n",
       "\n",
       "    .dataframe tbody tr th {\n",
       "        vertical-align: top;\n",
       "    }\n",
       "\n",
       "    .dataframe thead th {\n",
       "        text-align: right;\n",
       "    }\n",
       "</style>\n",
       "<table border=\"1\" class=\"dataframe\">\n",
       "  <thead>\n",
       "    <tr style=\"text-align: right;\">\n",
       "      <th></th>\n",
       "      <th>area</th>\n",
       "    </tr>\n",
       "  </thead>\n",
       "  <tbody>\n",
       "    <tr>\n",
       "      <th>0</th>\n",
       "      <td>8450</td>\n",
       "    </tr>\n",
       "    <tr>\n",
       "      <th>1</th>\n",
       "      <td>9600</td>\n",
       "    </tr>\n",
       "    <tr>\n",
       "      <th>2</th>\n",
       "      <td>11250</td>\n",
       "    </tr>\n",
       "    <tr>\n",
       "      <th>3</th>\n",
       "      <td>9550</td>\n",
       "    </tr>\n",
       "    <tr>\n",
       "      <th>4</th>\n",
       "      <td>14260</td>\n",
       "    </tr>\n",
       "    <tr>\n",
       "      <th>...</th>\n",
       "      <td>...</td>\n",
       "    </tr>\n",
       "    <tr>\n",
       "      <th>1455</th>\n",
       "      <td>7917</td>\n",
       "    </tr>\n",
       "    <tr>\n",
       "      <th>1456</th>\n",
       "      <td>13175</td>\n",
       "    </tr>\n",
       "    <tr>\n",
       "      <th>1457</th>\n",
       "      <td>9042</td>\n",
       "    </tr>\n",
       "    <tr>\n",
       "      <th>1458</th>\n",
       "      <td>9717</td>\n",
       "    </tr>\n",
       "    <tr>\n",
       "      <th>1459</th>\n",
       "      <td>9937</td>\n",
       "    </tr>\n",
       "  </tbody>\n",
       "</table>\n",
       "<p>1460 rows × 1 columns</p>\n",
       "</div>"
      ],
      "text/plain": [
       "       area\n",
       "0      8450\n",
       "1      9600\n",
       "2     11250\n",
       "3      9550\n",
       "4     14260\n",
       "...     ...\n",
       "1455   7917\n",
       "1456  13175\n",
       "1457   9042\n",
       "1458   9717\n",
       "1459   9937\n",
       "\n",
       "[1460 rows x 1 columns]"
      ]
     },
     "execution_count": 12,
     "metadata": {},
     "output_type": "execute_result"
    }
   ],
   "source": [
    "X"
   ]
  },
  {
   "cell_type": "code",
   "execution_count": 13,
   "metadata": {
    "id": "xSuG3roHvkP4"
   },
   "outputs": [],
   "source": [
    "y=df.drop(\"area\",axis=1)"
   ]
  },
  {
   "cell_type": "code",
   "execution_count": 14,
   "metadata": {
    "colab": {
     "base_uri": "https://localhost:8080/",
     "height": 424
    },
    "id": "M-ST_tcdvsVS",
    "outputId": "7cadbd28-d6b6-406c-e368-73be99d1b41f",
    "scrolled": false
   },
   "outputs": [
    {
     "data": {
      "text/html": [
       "<div>\n",
       "<style scoped>\n",
       "    .dataframe tbody tr th:only-of-type {\n",
       "        vertical-align: middle;\n",
       "    }\n",
       "\n",
       "    .dataframe tbody tr th {\n",
       "        vertical-align: top;\n",
       "    }\n",
       "\n",
       "    .dataframe thead th {\n",
       "        text-align: right;\n",
       "    }\n",
       "</style>\n",
       "<table border=\"1\" class=\"dataframe\">\n",
       "  <thead>\n",
       "    <tr style=\"text-align: right;\">\n",
       "      <th></th>\n",
       "      <th>price</th>\n",
       "    </tr>\n",
       "  </thead>\n",
       "  <tbody>\n",
       "    <tr>\n",
       "      <th>0</th>\n",
       "      <td>208500</td>\n",
       "    </tr>\n",
       "    <tr>\n",
       "      <th>1</th>\n",
       "      <td>181500</td>\n",
       "    </tr>\n",
       "    <tr>\n",
       "      <th>2</th>\n",
       "      <td>223500</td>\n",
       "    </tr>\n",
       "    <tr>\n",
       "      <th>3</th>\n",
       "      <td>140000</td>\n",
       "    </tr>\n",
       "    <tr>\n",
       "      <th>4</th>\n",
       "      <td>250000</td>\n",
       "    </tr>\n",
       "    <tr>\n",
       "      <th>...</th>\n",
       "      <td>...</td>\n",
       "    </tr>\n",
       "    <tr>\n",
       "      <th>1455</th>\n",
       "      <td>175000</td>\n",
       "    </tr>\n",
       "    <tr>\n",
       "      <th>1456</th>\n",
       "      <td>210000</td>\n",
       "    </tr>\n",
       "    <tr>\n",
       "      <th>1457</th>\n",
       "      <td>266500</td>\n",
       "    </tr>\n",
       "    <tr>\n",
       "      <th>1458</th>\n",
       "      <td>142125</td>\n",
       "    </tr>\n",
       "    <tr>\n",
       "      <th>1459</th>\n",
       "      <td>147500</td>\n",
       "    </tr>\n",
       "  </tbody>\n",
       "</table>\n",
       "<p>1460 rows × 1 columns</p>\n",
       "</div>"
      ],
      "text/plain": [
       "       price\n",
       "0     208500\n",
       "1     181500\n",
       "2     223500\n",
       "3     140000\n",
       "4     250000\n",
       "...      ...\n",
       "1455  175000\n",
       "1456  210000\n",
       "1457  266500\n",
       "1458  142125\n",
       "1459  147500\n",
       "\n",
       "[1460 rows x 1 columns]"
      ]
     },
     "execution_count": 14,
     "metadata": {},
     "output_type": "execute_result"
    }
   ],
   "source": [
    "y"
   ]
  },
  {
   "cell_type": "markdown",
   "metadata": {},
   "source": [
    "## Splitting data into Train and Test"
   ]
  },
  {
   "cell_type": "code",
   "execution_count": 15,
   "metadata": {
    "id": "0UvP9q9nvtwZ"
   },
   "outputs": [],
   "source": [
    "from sklearn.model_selection import train_test_split\n",
    "X_train,X_test,y_train,y_test=train_test_split(X,y,test_size=0.25,random_state=42)"
   ]
  },
  {
   "cell_type": "markdown",
   "metadata": {},
   "source": [
    "## Model Building and Training"
   ]
  },
  {
   "cell_type": "code",
   "execution_count": 16,
   "metadata": {
    "id": "f785wagRwKSn"
   },
   "outputs": [
    {
     "data": {
      "text/plain": [
       "LinearRegression()"
      ]
     },
     "execution_count": 16,
     "metadata": {},
     "output_type": "execute_result"
    }
   ],
   "source": [
    "from sklearn.linear_model import LinearRegression\n",
    "lr=LinearRegression()\n",
    "lr.fit(X_train,y_train)"
   ]
  },
  {
   "cell_type": "code",
   "execution_count": 17,
   "metadata": {
    "colab": {
     "base_uri": "https://localhost:8080/"
    },
    "id": "K5lHGZCIxiZI",
    "outputId": "b89e1c07-74ee-42e1-f8dd-3437798693af"
   },
   "outputs": [
    {
     "data": {
      "text/plain": [
       "array([[1.87089456]])"
      ]
     },
     "execution_count": 17,
     "metadata": {},
     "output_type": "execute_result"
    }
   ],
   "source": [
    "lr.coef_"
   ]
  },
  {
   "cell_type": "code",
   "execution_count": 18,
   "metadata": {
    "colab": {
     "base_uri": "https://localhost:8080/"
    },
    "id": "oCYP4f4t1IQP",
    "outputId": "07285ab4-504a-44a0-d339-cff0a8a33c9f"
   },
   "outputs": [
    {
     "data": {
      "text/plain": [
       "array([161605.69577771])"
      ]
     },
     "execution_count": 18,
     "metadata": {},
     "output_type": "execute_result"
    }
   ],
   "source": [
    "lr.intercept_"
   ]
  },
  {
   "cell_type": "code",
   "execution_count": 19,
   "metadata": {
    "colab": {
     "base_uri": "https://localhost:8080/"
    },
    "id": "GbggrFaE1LAc",
    "outputId": "768bd5cd-c67e-4948-a3ed-68a825c6e1ef"
   },
   "outputs": [
    {
     "data": {
      "text/plain": [
       "array(['area'], dtype=object)"
      ]
     },
     "execution_count": 19,
     "metadata": {},
     "output_type": "execute_result"
    }
   ],
   "source": [
    "lr.feature_names_in_"
   ]
  },
  {
   "cell_type": "markdown",
   "metadata": {},
   "source": [
    "## Prediction for all test data"
   ]
  },
  {
   "cell_type": "code",
   "execution_count": 20,
   "metadata": {
    "id": "TFQfy32u1Nqo"
   },
   "outputs": [],
   "source": [
    "y_pred=lr.predict(X_test)"
   ]
  },
  {
   "cell_type": "code",
   "execution_count": 21,
   "metadata": {
    "colab": {
     "base_uri": "https://localhost:8080/"
    },
    "id": "Mqt1DX7o1pu6",
    "outputId": "2d5bdb64-1a98-4cd0-9792-b5d5db5199df"
   },
   "outputs": [
    {
     "data": {
      "text/plain": [
       "array([[177347.40261056],\n",
       "       [184535.37951238],\n",
       "       [178368.91104065],\n",
       "       [170960.16858069],\n",
       "       [185736.49382028],\n",
       "       [164395.19956756],\n",
       "       [190903.90459665],\n",
       "       [165871.33537587],\n",
       "       [165227.74764702],\n",
       "       [192411.84561249],\n",
       "       [173377.36435298],\n",
       "       [180048.97435607],\n",
       "       [195281.79786844],\n",
       "       [180634.56435353],\n",
       "       [176690.7186198 ],\n",
       "       [178299.68794191],\n",
       "       [177029.35053526],\n",
       "       [174701.95770188],\n",
       "       [177064.89753191],\n",
       "       [181558.78626647],\n",
       "       [186161.18688553],\n",
       "       [178443.74682307],\n",
       "       [177757.12851934],\n",
       "       [172584.10505929],\n",
       "       [178475.5520306 ],\n",
       "       [176370.79564993],\n",
       "       [178254.78647245],\n",
       "       [197410.8758784 ],\n",
       "       [181884.32192001],\n",
       "       [169519.57976903],\n",
       "       [175521.40951942],\n",
       "       [181483.95048404],\n",
       "       [195337.92470526],\n",
       "       [177461.52717876],\n",
       "       [186864.64324032],\n",
       "       [178817.92573519],\n",
       "       [175076.136614  ],\n",
       "       [176947.0311746 ],\n",
       "       [188810.37358334],\n",
       "       [185369.7984864 ],\n",
       "       [173280.07783583],\n",
       "       [178219.2394758 ],\n",
       "       [179861.88490001],\n",
       "       [185373.54027552],\n",
       "       [180211.74218284],\n",
       "       [180127.55192761],\n",
       "       [176198.67335036],\n",
       "       [176090.16146584],\n",
       "       [186821.61266542],\n",
       "       [182829.12367311],\n",
       "       [175076.136614  ],\n",
       "       [179976.0094682 ],\n",
       "       [166591.6297817 ],\n",
       "       [190600.81967783],\n",
       "       [169908.72583763],\n",
       "       [183392.26293585],\n",
       "       [179036.82039878],\n",
       "       [190812.23076318],\n",
       "       [176234.22034701],\n",
       "       [175076.136614  ],\n",
       "       [173437.23297892],\n",
       "       [175637.40498218],\n",
       "       [179549.44550839],\n",
       "       [188896.43473313],\n",
       "       [190241.60792219],\n",
       "       [185207.03065963],\n",
       "       [180565.34125479],\n",
       "       [184512.92877765],\n",
       "       [181646.71831082],\n",
       "       [167648.68520843],\n",
       "       [174735.63380397],\n",
       "       [177040.57590263],\n",
       "       [177682.29273691],\n",
       "       [177590.61890344],\n",
       "       [185775.78260605],\n",
       "       [167006.96837415],\n",
       "       [179289.39116446],\n",
       "       [181328.66623551],\n",
       "       [176469.95306165],\n",
       "       [175076.136614  ],\n",
       "       [164748.79863951],\n",
       "       [178382.00730257],\n",
       "       [202297.65247068],\n",
       "       [172426.9499162 ],\n",
       "       [176280.99271103],\n",
       "       [173055.57048856],\n",
       "       [181676.65262378],\n",
       "       [171467.18100661],\n",
       "       [169903.11315395],\n",
       "       [182378.23808401],\n",
       "       [176759.94171854],\n",
       "       [181798.26077022],\n",
       "       [177160.31315451],\n",
       "       [181025.5813167 ],\n",
       "       [181770.19735181],\n",
       "       [180758.04339453],\n",
       "       [175195.87386588],\n",
       "       [168593.48696154],\n",
       "       [178425.03787747],\n",
       "       [185936.67953826],\n",
       "       [184346.41916176],\n",
       "       [176868.45360305],\n",
       "       [187145.27742441],\n",
       "       [173055.57048856],\n",
       "       [191833.73919326],\n",
       "       [177321.21008672],\n",
       "       [176441.88964324],\n",
       "       [173884.3767789 ],\n",
       "       [178902.11599042],\n",
       "       [183319.29804799],\n",
       "       [173055.57048856],\n",
       "       [177377.33692353],\n",
       "       [174509.25556214],\n",
       "       [173055.57048856],\n",
       "       [178902.11599042],\n",
       "       [175076.136614  ],\n",
       "       [172831.06314129],\n",
       "       [177122.89526329],\n",
       "       [178312.78420383],\n",
       "       [181540.07732086],\n",
       "       [169197.78590461],\n",
       "       [169908.72583763],\n",
       "       [178019.05375782],\n",
       "       [186026.48247717],\n",
       "       [183040.53475846],\n",
       "       [186911.41560433],\n",
       "       [178060.21343815],\n",
       "       [178630.83627913],\n",
       "       [179425.96646739],\n",
       "       [180576.56662215],\n",
       "       [177171.53852187],\n",
       "       [183014.34223461],\n",
       "       [181062.99920791],\n",
       "       [171933.0337522 ],\n",
       "       [178443.74682307],\n",
       "       [184909.55842449],\n",
       "       [178011.57017958],\n",
       "       [178817.92573519],\n",
       "       [176806.71408255],\n",
       "       [201895.41014015],\n",
       "       [189927.29763601],\n",
       "       [186488.59343364],\n",
       "       [178829.15110256],\n",
       "       [177321.21008672],\n",
       "       [226432.19230237],\n",
       "       [176269.76734366],\n",
       "       [183120.98322456],\n",
       "       [192073.21369702],\n",
       "       [175076.136614  ],\n",
       "       [177036.83411351],\n",
       "       [183308.07268062],\n",
       "       [175805.78549263],\n",
       "       [222724.07928327],\n",
       "       [183308.07268062],\n",
       "       [179914.2699477 ],\n",
       "       [178443.74682307],\n",
       "       [185740.2356094 ],\n",
       "       [182765.51325805],\n",
       "       [178627.09449001],\n",
       "       [180314.64138367],\n",
       "       [182277.20977774],\n",
       "       [174662.66891611],\n",
       "       [179416.61199458],\n",
       "       [177624.29500553],\n",
       "       [177470.88165156],\n",
       "       [176572.85226248],\n",
       "       [175448.44463156],\n",
       "       [179543.8328247 ],\n",
       "       [191644.77884264],\n",
       "       [206675.54574247],\n",
       "       [184763.62864877],\n",
       "       [171895.61586099],\n",
       "       [172831.06314129],\n",
       "       [165253.94017087],\n",
       "       [181583.10789575],\n",
       "       [193635.41065512],\n",
       "       [177959.18513188],\n",
       "       [187345.46314239],\n",
       "       [175076.136614  ],\n",
       "       [165566.37956249],\n",
       "       [179098.55991928],\n",
       "       [177904.92918962],\n",
       "       [181773.93914094],\n",
       "       [167925.5776034 ],\n",
       "       [182872.15424801],\n",
       "       [180875.90975185],\n",
       "       [186423.11212402],\n",
       "       [169173.46427532],\n",
       "       [174617.76744666],\n",
       "       [165349.35579346],\n",
       "       [165197.81333405],\n",
       "       [171708.52640493],\n",
       "       [179566.28355943],\n",
       "       [180090.1340364 ],\n",
       "       [171672.97940828],\n",
       "       [176198.67335036],\n",
       "       [167809.58214065],\n",
       "       [177508.29954278],\n",
       "       [166554.21189049],\n",
       "       [175976.03689765],\n",
       "       [293992.06578006],\n",
       "       [202525.90160707],\n",
       "       [181605.55863048],\n",
       "       [178817.92573519],\n",
       "       [177414.75481475],\n",
       "       [179846.91774352],\n",
       "       [179992.84751925],\n",
       "       [178099.50222392],\n",
       "       [177321.21008672],\n",
       "       [179336.16352848],\n",
       "       [186814.12908718],\n",
       "       [176941.41849092],\n",
       "       [179042.43308247],\n",
       "       [167648.68520843],\n",
       "       [234765.15667526],\n",
       "       [178443.74682307],\n",
       "       [168943.34424437],\n",
       "       [176877.80807586],\n",
       "       [174570.99508264],\n",
       "       [180548.50320375],\n",
       "       [186582.13816167],\n",
       "       [173280.07783583],\n",
       "       [185897.39075249],\n",
       "       [172307.21266432],\n",
       "       [178303.42973103],\n",
       "       [184804.7883291 ],\n",
       "       [175637.40498218],\n",
       "       [181811.35703215],\n",
       "       [178686.96311595],\n",
       "       [177904.92918962],\n",
       "       [182372.62540033],\n",
       "       [175983.52047589],\n",
       "       [175323.094696  ],\n",
       "       [193672.82854633],\n",
       "       [180391.34806066],\n",
       "       [177938.60529171],\n",
       "       [174256.68479646],\n",
       "       [178572.83854776],\n",
       "       [188479.22524611],\n",
       "       [176595.30299721],\n",
       "       [177545.71743399],\n",
       "       [182700.03194843],\n",
       "       [179291.26205902],\n",
       "       [187203.27515579],\n",
       "       [178668.25417035],\n",
       "       [174701.95770188],\n",
       "       [178724.38100716],\n",
       "       [187444.6205541 ],\n",
       "       [169508.35440167],\n",
       "       [172831.06314129],\n",
       "       [202634.41349158],\n",
       "       [181781.42271918],\n",
       "       [178713.1556398 ],\n",
       "       [171708.52640493],\n",
       "       [183220.14063628],\n",
       "       [169169.7224862 ],\n",
       "       [168995.72929206],\n",
       "       [164748.79863951],\n",
       "       [174988.20456965],\n",
       "       [180314.64138367],\n",
       "       [188221.04179675],\n",
       "       [182653.25958442],\n",
       "       [181530.72284806],\n",
       "       [185553.14615334],\n",
       "       [179222.03896028],\n",
       "       [188917.01457329],\n",
       "       [170024.72130039],\n",
       "       [169903.11315395],\n",
       "       [181126.60962297],\n",
       "       [176105.12862233],\n",
       "       [187594.29211895],\n",
       "       [171699.17193212],\n",
       "       [179706.60065148],\n",
       "       [166455.05447877],\n",
       "       [180019.0400431 ],\n",
       "       [177976.02318293],\n",
       "       [166324.09185953],\n",
       "       [176236.09124157],\n",
       "       [208555.79477587],\n",
       "       [182054.57332503],\n",
       "       [187809.44499342],\n",
       "       [164473.7771391 ],\n",
       "       [176806.71408255],\n",
       "       [178484.90650341],\n",
       "       [181506.40121877],\n",
       "       [178735.60637453],\n",
       "       [184842.20622031],\n",
       "       [172690.74604924],\n",
       "       [191835.61008782],\n",
       "       [176945.16028004],\n",
       "       [178600.90196616],\n",
       "       [176797.35960975],\n",
       "       [177321.21008672],\n",
       "       [176267.8964491 ],\n",
       "       [178026.53733606],\n",
       "       [175076.136614  ],\n",
       "       [170960.16858069],\n",
       "       [179940.46247155],\n",
       "       [183889.92088897],\n",
       "       [171775.87860911],\n",
       "       [184224.81101532],\n",
       "       [178739.34816365],\n",
       "       [177321.21008672],\n",
       "       [186675.6828897 ],\n",
       "       [183831.92315759],\n",
       "       [187049.86180182],\n",
       "       [179566.28355943],\n",
       "       [176700.0730926 ],\n",
       "       [200894.48155023],\n",
       "       [177012.51248422],\n",
       "       [176479.30753445],\n",
       "       [184834.72264207],\n",
       "       [181425.95275266],\n",
       "       [183388.52114673],\n",
       "       [173280.07783583],\n",
       "       [180758.04339453],\n",
       "       [180469.9256322 ],\n",
       "       [169558.8685548 ],\n",
       "       [194346.35058814],\n",
       "       [177590.61890344],\n",
       "       [179455.90078036],\n",
       "       [177590.61890344],\n",
       "       [184325.83932159],\n",
       "       [172090.18889529],\n",
       "       [180763.65607821],\n",
       "       [180297.80333263],\n",
       "       [175173.42313115],\n",
       "       [175076.136614  ],\n",
       "       [184355.77363456],\n",
       "       [179104.17260296],\n",
       "       [174735.63380397],\n",
       "       [186458.65912067],\n",
       "       [173953.59987764],\n",
       "       [174814.21137552],\n",
       "       [168348.3997741 ],\n",
       "       [178241.69021053],\n",
       "       [171637.43241163],\n",
       "       [169942.40193973],\n",
       "       [179566.28355943],\n",
       "       [183381.03756849],\n",
       "       [176572.85226248],\n",
       "       [175076.136614  ],\n",
       "       [174855.37105585],\n",
       "       [177321.21008672],\n",
       "       [187899.24793233],\n",
       "       [182191.14862795],\n",
       "       [183768.31274253],\n",
       "       [177545.71743399],\n",
       "       [182239.79188652],\n",
       "       [180774.88144558],\n",
       "       [186862.77234576],\n",
       "       [187223.85499595],\n",
       "       [168793.67267952],\n",
       "       [182559.71485639],\n",
       "       [181203.31629995],\n",
       "       [185500.76110564],\n",
       "       [180698.17476859],\n",
       "       [173470.90908101],\n",
       "       [175637.40498218],\n",
       "       [181132.22230665],\n",
       "       [184142.49165465],\n",
       "       [181740.26303884],\n",
       "       [179145.3322833 ],\n",
       "       [217655.82591861],\n",
       "       [178825.40931344]])"
      ]
     },
     "execution_count": 21,
     "metadata": {},
     "output_type": "execute_result"
    }
   ],
   "source": [
    "y_pred"
   ]
  },
  {
   "cell_type": "markdown",
   "metadata": {},
   "source": [
    "## Prediction for new data"
   ]
  },
  {
   "cell_type": "code",
   "execution_count": 22,
   "metadata": {
    "colab": {
     "base_uri": "https://localhost:8080/"
    },
    "id": "y4OXplnmxR1B",
    "outputId": "9fa2946f-b298-4e94-9977-3f6808503777"
   },
   "outputs": [
    {
     "name": "stdout",
     "output_type": "stream",
     "text": [
      "[[255150.42380752]]\n"
     ]
    }
   ],
   "source": [
    "x=50000\n",
    "LandAreainSqFt=[[x]]\n",
    "LandPriceResult=lr.predict(LandAreainSqFt)\n",
    "print(LandPriceResult)"
   ]
  }
 ],
 "metadata": {
  "colab": {
   "provenance": []
  },
  "kernelspec": {
   "display_name": "Python 3 (ipykernel)",
   "language": "python",
   "name": "python3"
  },
  "language_info": {
   "codemirror_mode": {
    "name": "ipython",
    "version": 3
   },
   "file_extension": ".py",
   "mimetype": "text/x-python",
   "name": "python",
   "nbconvert_exporter": "python",
   "pygments_lexer": "ipython3",
   "version": "3.9.12"
  },
  "latex_envs": {
   "LaTeX_envs_menu_present": true,
   "autoclose": false,
   "autocomplete": true,
   "bibliofile": "biblio.bib",
   "cite_by": "apalike",
   "current_citInitial": 1,
   "eqLabelWithNumbers": true,
   "eqNumInitial": 1,
   "hotkeys": {
    "equation": "Ctrl-E",
    "itemize": "Ctrl-I"
   },
   "labels_anchors": false,
   "latex_user_defs": false,
   "report_style_numbering": false,
   "user_envs_cfg": false
  },
  "varInspector": {
   "cols": {
    "lenName": 16,
    "lenType": 16,
    "lenVar": 40
   },
   "kernels_config": {
    "python": {
     "delete_cmd_postfix": "",
     "delete_cmd_prefix": "del ",
     "library": "var_list.py",
     "varRefreshCmd": "print(var_dic_list())"
    },
    "r": {
     "delete_cmd_postfix": ") ",
     "delete_cmd_prefix": "rm(",
     "library": "var_list.r",
     "varRefreshCmd": "cat(var_dic_list()) "
    }
   },
   "types_to_exclude": [
    "module",
    "function",
    "builtin_function_or_method",
    "instance",
    "_Feature"
   ],
   "window_display": false
  }
 },
 "nbformat": 4,
 "nbformat_minor": 1
}
