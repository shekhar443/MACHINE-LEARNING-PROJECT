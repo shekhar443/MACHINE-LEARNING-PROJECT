{
 "cells": [
  {
   "cell_type": "markdown",
   "id": "7177d408",
   "metadata": {},
   "source": [
    "# <font color= green > <b>Handwritten Digit Recognition using SUPPORT VECTOR MACHINE CLASSIFIER</b></font>\n",
    "<b>NAKKA SHEKHAR</b>\n",
    "\n",
    "* [GITHUB](https://github.com/shekhar443/MACHINE-LEARNING-PROJECT)\n",
    "* [LINKEDIN](https://www.linkedin.com/in/nakka-shekhar-2019a987/)"
   ]
  },
  {
   "cell_type": "markdown",
   "id": "01c8cc69",
   "metadata": {},
   "source": [
    "<b>steps followed by</b>\n",
    "* Importing required libraries\n",
    "* Loading Dataset from sklearn datasets\n",
    "* Splitting data into train and test\n",
    "* Model development and training\n",
    "* Evaluate model - Accuracy\n",
    "* Play with different methods"
   ]
  },
  {
   "cell_type": "markdown",
   "id": "7780543d",
   "metadata": {},
   "source": [
    "## Importing required libraries"
   ]
  },
  {
   "cell_type": "code",
   "execution_count": 2,
   "id": "6333a680",
   "metadata": {},
   "outputs": [],
   "source": [
    "import pandas as pd\n",
    "import numpy as np\n",
    "import matplotlib.pyplot as plt\n",
    "import seaborn as sns\n",
    "from sklearn import *\n",
    "import warnings\n",
    "warnings.filterwarnings(\"ignore\")"
   ]
  },
  {
   "cell_type": "markdown",
   "id": "1b84840f",
   "metadata": {},
   "source": [
    "## Loading Dataset from sklearn datasets"
   ]
  },
  {
   "cell_type": "code",
   "execution_count": 4,
   "id": "805ceda8",
   "metadata": {},
   "outputs": [],
   "source": [
    "from sklearn.datasets import load_digits"
   ]
  },
  {
   "cell_type": "code",
   "execution_count": 5,
   "id": "9ae4edaf",
   "metadata": {},
   "outputs": [],
   "source": [
    "df=load_digits()"
   ]
  },
  {
   "cell_type": "code",
   "execution_count": 10,
   "id": "785db026",
   "metadata": {
    "scrolled": true
   },
   "outputs": [
    {
     "data": {
      "text/plain": [
       "array([[ 0.,  0.,  5., ...,  0.,  0.,  0.],\n",
       "       [ 0.,  0.,  0., ..., 10.,  0.,  0.],\n",
       "       [ 0.,  0.,  0., ..., 16.,  9.,  0.],\n",
       "       ...,\n",
       "       [ 0.,  0.,  1., ...,  6.,  0.,  0.],\n",
       "       [ 0.,  0.,  2., ..., 12.,  0.,  0.],\n",
       "       [ 0.,  0., 10., ..., 12.,  1.,  0.]])"
      ]
     },
     "execution_count": 10,
     "metadata": {},
     "output_type": "execute_result"
    }
   ],
   "source": [
    "df.data"
   ]
  },
  {
   "cell_type": "code",
   "execution_count": 25,
   "id": "586d6701",
   "metadata": {},
   "outputs": [],
   "source": [
    "dataimageLength=len(df.images)"
   ]
  },
  {
   "cell_type": "code",
   "execution_count": 9,
   "id": "f6b56acf",
   "metadata": {},
   "outputs": [
    {
     "data": {
      "text/plain": [
       "1797"
      ]
     },
     "execution_count": 9,
     "metadata": {},
     "output_type": "execute_result"
    }
   ],
   "source": [
    "len(df.data)"
   ]
  },
  {
   "cell_type": "code",
   "execution_count": 11,
   "id": "42bcbf19",
   "metadata": {},
   "outputs": [
    {
     "data": {
      "text/plain": [
       "(1797, 64)"
      ]
     },
     "execution_count": 11,
     "metadata": {},
     "output_type": "execute_result"
    }
   ],
   "source": [
    "df.data.shape"
   ]
  },
  {
   "cell_type": "code",
   "execution_count": 8,
   "id": "7347fdc5",
   "metadata": {},
   "outputs": [
    {
     "data": {
      "text/plain": [
       "array([0, 1, 2, ..., 8, 9, 8])"
      ]
     },
     "execution_count": 8,
     "metadata": {},
     "output_type": "execute_result"
    }
   ],
   "source": [
    "df.target"
   ]
  },
  {
   "cell_type": "code",
   "execution_count": 12,
   "id": "21568e0e",
   "metadata": {},
   "outputs": [
    {
     "data": {
      "text/plain": [
       "(1797,)"
      ]
     },
     "execution_count": 12,
     "metadata": {},
     "output_type": "execute_result"
    }
   ],
   "source": [
    "df.target.shape"
   ]
  },
  {
   "cell_type": "code",
   "execution_count": 13,
   "id": "ae62cda6",
   "metadata": {},
   "outputs": [
    {
     "data": {
      "text/plain": [
       "(1797, 8, 8)"
      ]
     },
     "execution_count": 13,
     "metadata": {},
     "output_type": "execute_result"
    }
   ],
   "source": [
    "df.images.shape"
   ]
  },
  {
   "cell_type": "code",
   "execution_count": 21,
   "id": "c34f14d0",
   "metadata": {},
   "outputs": [
    {
     "name": "stdout",
     "output_type": "stream",
     "text": [
      "enter the range from 1 to 1797 22\n"
     ]
    },
    {
     "data": {
      "text/plain": [
       "<Figure size 1440x720 with 0 Axes>"
      ]
     },
     "metadata": {},
     "output_type": "display_data"
    },
    {
     "data": {
      "image/png": "[encoded data removed]",
      "text/plain": [
       "<Figure size 288x288 with 1 Axes>"
      ]
     },
     "metadata": {
      "needs_background": "light"
     },
     "output_type": "display_data"
    },
    {
     "data": {
      "text/plain": [
       "array([[ 0.,  0.,  8., 16.,  5.,  0.,  0.,  0.],\n",
       "       [ 0.,  1., 13., 11., 16.,  0.,  0.,  0.],\n",
       "       [ 0.,  0., 10.,  0., 13.,  3.,  0.,  0.],\n",
       "       [ 0.,  0.,  3.,  1., 16.,  1.,  0.,  0.],\n",
       "       [ 0.,  0.,  0.,  9., 12.,  0.,  0.,  0.],\n",
       "       [ 0.,  0.,  3., 15.,  5.,  0.,  0.,  0.],\n",
       "       [ 0.,  0., 14., 15.,  8.,  8.,  3.,  0.],\n",
       "       [ 0.,  0.,  7., 12., 12., 12., 13.,  1.]])"
      ]
     },
     "execution_count": 21,
     "metadata": {},
     "output_type": "execute_result"
    }
   ],
   "source": [
    "n=int(input(\"enter the range from 1 to 1797 \"))\n",
    "plt.gray()\n",
    "plt.matshow(df.images[n])\n",
    "plt.show()\n",
    "\n",
    "df.images[n]"
   ]
  },
  {
   "cell_type": "code",
   "execution_count": 27,
   "id": "6bce3e85",
   "metadata": {},
   "outputs": [
    {
     "data": {
      "text/plain": [
       "array([[ 0.,  0.,  5., ...,  0.,  0.,  0.],\n",
       "       [ 0.,  0.,  0., ..., 10.,  0.,  0.],\n",
       "       [ 0.,  0.,  0., ..., 16.,  9.,  0.],\n",
       "       ...,\n",
       "       [ 0.,  0.,  1., ...,  6.,  0.,  0.],\n",
       "       [ 0.,  0.,  2., ..., 12.,  0.,  0.],\n",
       "       [ 0.,  0., 10., ..., 12.,  1.,  0.]])"
      ]
     },
     "execution_count": 27,
     "metadata": {},
     "output_type": "execute_result"
    }
   ],
   "source": [
    "X=df.images.reshape((dataimageLength,-1))\n",
    "X"
   ]
  },
  {
   "cell_type": "code",
   "execution_count": 28,
   "id": "34f02c8a",
   "metadata": {},
   "outputs": [
    {
     "data": {
      "text/plain": [
       "array([0, 1, 2, ..., 8, 9, 8])"
      ]
     },
     "execution_count": 28,
     "metadata": {},
     "output_type": "execute_result"
    }
   ],
   "source": [
    "y=df.target\n",
    "y"
   ]
  },
  {
   "cell_type": "markdown",
   "id": "8ff919cb",
   "metadata": {},
   "source": [
    "## Splitting data into train and test"
   ]
  },
  {
   "cell_type": "code",
   "execution_count": 29,
   "id": "da3b5bfd",
   "metadata": {},
   "outputs": [],
   "source": [
    "from sklearn.model_selection import train_test_split\n",
    "X_train,X_test,y_train,y_test=train_test_split(X,y,test_size=0.25,random_state=123)"
   ]
  },
  {
   "cell_type": "markdown",
   "id": "9ef494e0",
   "metadata": {},
   "source": [
    "## Model development and training"
   ]
  },
  {
   "cell_type": "code",
   "execution_count": 30,
   "id": "73e95cf3",
   "metadata": {},
   "outputs": [
    {
     "data": {
      "text/plain": [
       "SVC(kernel='linear')"
      ]
     },
     "execution_count": 30,
     "metadata": {},
     "output_type": "execute_result"
    }
   ],
   "source": [
    "from sklearn.svm import SVC\n",
    "svc=SVC(kernel=\"linear\")\n",
    "svc.fit(X_train,y_train)"
   ]
  },
  {
   "cell_type": "code",
   "execution_count": 48,
   "id": "b95a140a",
   "metadata": {},
   "outputs": [
    {
     "name": "stdout",
     "output_type": "stream",
     "text": [
      "enter the number15\n",
      "[5]\n",
      "/n\n"
     ]
    },
    {
     "data": {
      "image/png": "[encoded data removed]",
      "text/plain": [
       "<Figure size 432x288 with 1 Axes>"
      ]
     },
     "metadata": {
      "needs_background": "light"
     },
     "output_type": "display_data"
    }
   ],
   "source": [
    "n=int(input(\"enter the number\"))\n",
    "result=svc.predict((df.images[n].reshape(1,-1)))\n",
    "plt.imshow(df.images[n],cmap=plt.cm.gray_r,interpolation=\"nearest\")\n",
    "print(result)\n",
    "print(\"/n\")\n",
    "plt.axis(\"off\")\n",
    "plt.title(\"%i\" %result)\n",
    "plt.show()"
   ]
  },
  {
   "cell_type": "code",
   "execution_count": 53,
   "id": "e575a6e5",
   "metadata": {},
   "outputs": [
    {
     "data": {
      "text/plain": [
       "(array([3, 3, 4, 4, 1, 3, 1, 0, 7, 4, 0, 0, 5, 1, 6, 0, 3, 1, 0, 6, 9, 7,\n",
       "        7, 5, 4, 7, 7, 0, 0, 9, 1, 6, 8, 6, 8, 4, 6, 2, 1, 6, 0, 6, 2, 0,\n",
       "        2, 3, 9, 8, 8, 1, 2, 8, 6, 5, 1, 6, 4, 6, 0, 4, 3, 5, 6, 2, 8, 8,\n",
       "        1, 2, 0, 1, 7, 9, 4, 7, 3, 9, 4, 3, 3, 8, 9, 5, 4, 6, 1, 2, 4, 2,\n",
       "        4, 5, 8, 4, 1, 7, 6, 7, 5, 5, 1, 3, 9, 4, 6, 6, 8, 1, 7, 5, 6, 4,\n",
       "        9, 8, 7, 0, 9, 0, 2, 9, 0, 5, 1, 4, 4, 2, 2, 0, 7, 3, 6, 8, 2, 9,\n",
       "        2, 3, 3, 9, 6, 7, 4, 0, 7, 3, 2, 2, 2, 3, 8, 1, 7, 1, 5, 7, 9, 1,\n",
       "        3, 2, 6, 0, 7, 9, 6, 0, 2, 6, 3, 1, 5, 5, 9, 6, 1, 8, 6, 1, 3, 4,\n",
       "        4, 2, 0, 5, 9, 0, 7, 0, 7, 5, 8, 4, 8, 8, 3, 7, 9, 8, 2, 0, 3, 4,\n",
       "        9, 4, 1, 8, 7, 0, 5, 4, 5, 2, 2, 1, 4, 2, 0, 8, 7, 3, 2, 9, 2, 3,\n",
       "        8, 0, 6, 0, 2, 8, 7, 5, 4, 8, 0, 1, 5, 5, 0, 9, 8, 7, 7, 1, 4, 2,\n",
       "        4, 7, 1, 3, 0, 8, 2, 8, 6, 6, 3, 5, 6, 4, 5, 4, 6, 5, 7, 7, 9, 9,\n",
       "        1, 0, 4, 6, 1, 4, 3, 9, 8, 1, 0, 4, 5, 6, 8, 2, 5, 8, 4, 0, 8, 3,\n",
       "        1, 6, 6, 4, 6, 1, 4, 6, 6, 4, 1, 5, 3, 0, 1, 6, 0, 2, 5, 5, 8, 8,\n",
       "        2, 6, 0, 1, 1, 5, 1, 6, 9, 2, 8, 2, 4, 9, 8, 3, 3, 3, 2, 4, 0, 9,\n",
       "        4, 3, 6, 0, 2, 1, 3, 3, 2, 5, 9, 0, 7, 5, 9, 7, 6, 4, 7, 9, 6, 7,\n",
       "        4, 1, 5, 9, 6, 5, 5, 0, 8, 9, 3, 2, 7, 9, 7, 5, 7, 9, 8, 7, 5, 5,\n",
       "        8, 4, 1, 0, 0, 8, 3, 0, 9, 2, 9, 1, 0, 0, 6, 9, 0, 7, 1, 4, 7, 1,\n",
       "        0, 4, 1, 4, 1, 0, 2, 5, 4, 2, 3, 9, 7, 0, 6, 7, 5, 0, 8, 5, 3, 4,\n",
       "        2, 6, 4, 1, 4, 3, 8, 3, 4, 3, 9, 6, 0, 3, 7, 5, 9, 4, 9, 9, 1, 9,\n",
       "        5, 7, 8, 6, 9, 1, 0, 5, 5, 9]),\n",
       " array([3, 3, 4, 4, 1, 3, 1, 0, 7, 4, 0, 0, 5, 1, 6, 0, 3, 1, 0, 6, 9, 7,\n",
       "        7, 5, 4, 5, 7, 0, 0, 9, 1, 6, 8, 6, 8, 4, 6, 2, 1, 6, 0, 6, 2, 0,\n",
       "        2, 3, 5, 8, 8, 8, 2, 8, 6, 5, 1, 6, 4, 6, 0, 4, 3, 5, 6, 2, 8, 8,\n",
       "        8, 2, 0, 1, 7, 9, 4, 7, 3, 9, 4, 3, 3, 8, 9, 5, 4, 6, 1, 2, 4, 2,\n",
       "        4, 5, 8, 4, 1, 7, 6, 7, 5, 5, 6, 3, 9, 4, 6, 6, 8, 1, 7, 5, 6, 4,\n",
       "        9, 8, 7, 0, 9, 0, 2, 9, 0, 5, 1, 4, 4, 2, 2, 0, 7, 3, 6, 8, 2, 5,\n",
       "        2, 3, 3, 9, 6, 7, 4, 0, 7, 3, 2, 2, 2, 3, 8, 1, 7, 1, 5, 7, 9, 1,\n",
       "        3, 2, 6, 0, 7, 9, 6, 0, 2, 6, 3, 1, 5, 5, 9, 6, 1, 8, 6, 1, 3, 4,\n",
       "        4, 2, 0, 5, 9, 0, 7, 0, 7, 5, 8, 4, 8, 8, 3, 7, 9, 8, 2, 0, 3, 4,\n",
       "        9, 4, 8, 8, 7, 0, 5, 4, 5, 2, 2, 1, 4, 2, 0, 8, 7, 3, 2, 9, 2, 3,\n",
       "        8, 0, 6, 0, 2, 8, 7, 5, 4, 8, 0, 1, 5, 5, 0, 9, 8, 7, 7, 1, 4, 2,\n",
       "        4, 7, 1, 3, 0, 8, 2, 8, 6, 6, 3, 5, 6, 4, 5, 4, 6, 5, 7, 7, 9, 9,\n",
       "        1, 0, 4, 6, 1, 4, 3, 9, 8, 1, 0, 4, 5, 6, 8, 2, 5, 8, 4, 0, 8, 3,\n",
       "        1, 6, 6, 4, 6, 1, 4, 6, 6, 4, 1, 5, 3, 0, 1, 6, 0, 2, 5, 5, 8, 8,\n",
       "        2, 6, 0, 1, 1, 5, 1, 6, 9, 2, 8, 2, 4, 9, 8, 3, 3, 3, 2, 4, 0, 9,\n",
       "        4, 3, 6, 0, 2, 1, 3, 3, 2, 5, 9, 0, 7, 5, 9, 7, 6, 4, 7, 9, 6, 7,\n",
       "        4, 1, 5, 9, 6, 5, 5, 0, 8, 9, 3, 2, 7, 9, 7, 5, 7, 9, 8, 7, 5, 5,\n",
       "        8, 4, 1, 0, 0, 8, 3, 0, 9, 2, 9, 1, 0, 0, 6, 9, 0, 7, 1, 4, 7, 1,\n",
       "        0, 4, 1, 4, 8, 0, 2, 5, 4, 2, 3, 9, 7, 0, 6, 7, 5, 0, 8, 5, 3, 4,\n",
       "        2, 6, 4, 1, 4, 3, 9, 8, 4, 3, 5, 6, 0, 3, 7, 5, 9, 4, 9, 9, 1, 9,\n",
       "        5, 7, 8, 6, 9, 1, 0, 5, 5, 9]))"
      ]
     },
     "execution_count": 53,
     "metadata": {},
     "output_type": "execute_result"
    }
   ],
   "source": [
    "y_pred=svc.predict(X_test)\n",
    "y_pred,y_test"
   ]
  },
  {
   "cell_type": "code",
   "execution_count": 65,
   "id": "89e52b3d",
   "metadata": {
    "scrolled": false
   },
   "outputs": [
    {
     "name": "stdout",
     "output_type": "stream",
     "text": [
      "[[3 3]\n",
      " [3 3]\n",
      " [4 4]\n",
      " [4 4]\n",
      " [1 1]\n",
      " [3 3]\n",
      " [1 1]\n",
      " [0 0]\n",
      " [7 7]\n",
      " [4 4]\n",
      " [0 0]\n",
      " [0 0]\n",
      " [5 5]\n",
      " [1 1]\n",
      " [6 6]\n",
      " [0 0]\n",
      " [3 3]\n",
      " [1 1]\n",
      " [0 0]\n",
      " [6 6]\n",
      " [9 9]\n",
      " [7 7]\n",
      " [7 7]\n",
      " [5 5]\n",
      " [4 4]\n",
      " [7 5]\n",
      " [7 7]\n",
      " [0 0]\n",
      " [0 0]\n",
      " [9 9]\n",
      " [1 1]\n",
      " [6 6]\n",
      " [8 8]\n",
      " [6 6]\n",
      " [8 8]\n",
      " [4 4]\n",
      " [6 6]\n",
      " [2 2]\n",
      " [1 1]\n",
      " [6 6]\n",
      " [0 0]\n",
      " [6 6]\n",
      " [2 2]\n",
      " [0 0]\n",
      " [2 2]\n",
      " [3 3]\n",
      " [9 5]\n",
      " [8 8]\n",
      " [8 8]\n",
      " [1 8]\n",
      " [2 2]\n",
      " [8 8]\n",
      " [6 6]\n",
      " [5 5]\n",
      " [1 1]\n",
      " [6 6]\n",
      " [4 4]\n",
      " [6 6]\n",
      " [0 0]\n",
      " [4 4]\n",
      " [3 3]\n",
      " [5 5]\n",
      " [6 6]\n",
      " [2 2]\n",
      " [8 8]\n",
      " [8 8]\n",
      " [1 8]\n",
      " [2 2]\n",
      " [0 0]\n",
      " [1 1]\n",
      " [7 7]\n",
      " [9 9]\n",
      " [4 4]\n",
      " [7 7]\n",
      " [3 3]\n",
      " [9 9]\n",
      " [4 4]\n",
      " [3 3]\n",
      " [3 3]\n",
      " [8 8]\n",
      " [9 9]\n",
      " [5 5]\n",
      " [4 4]\n",
      " [6 6]\n",
      " [1 1]\n",
      " [2 2]\n",
      " [4 4]\n",
      " [2 2]\n",
      " [4 4]\n",
      " [5 5]\n",
      " [8 8]\n",
      " [4 4]\n",
      " [1 1]\n",
      " [7 7]\n",
      " [6 6]\n",
      " [7 7]\n",
      " [5 5]\n",
      " [5 5]\n",
      " [1 6]\n",
      " [3 3]\n",
      " [9 9]\n",
      " [4 4]\n",
      " [6 6]\n",
      " [6 6]\n",
      " [8 8]\n",
      " [1 1]\n",
      " [7 7]\n",
      " [5 5]\n",
      " [6 6]\n",
      " [4 4]\n",
      " [9 9]\n",
      " [8 8]\n",
      " [7 7]\n",
      " [0 0]\n",
      " [9 9]\n",
      " [0 0]\n",
      " [2 2]\n",
      " [9 9]\n",
      " [0 0]\n",
      " [5 5]\n",
      " [1 1]\n",
      " [4 4]\n",
      " [4 4]\n",
      " [2 2]\n",
      " [2 2]\n",
      " [0 0]\n",
      " [7 7]\n",
      " [3 3]\n",
      " [6 6]\n",
      " [8 8]\n",
      " [2 2]\n",
      " [9 5]\n",
      " [2 2]\n",
      " [3 3]\n",
      " [3 3]\n",
      " [9 9]\n",
      " [6 6]\n",
      " [7 7]\n",
      " [4 4]\n",
      " [0 0]\n",
      " [7 7]\n",
      " [3 3]\n",
      " [2 2]\n",
      " [2 2]\n",
      " [2 2]\n",
      " [3 3]\n",
      " [8 8]\n",
      " [1 1]\n",
      " [7 7]\n",
      " [1 1]\n",
      " [5 5]\n",
      " [7 7]\n",
      " [9 9]\n",
      " [1 1]\n",
      " [3 3]\n",
      " [2 2]\n",
      " [6 6]\n",
      " [0 0]\n",
      " [7 7]\n",
      " [9 9]\n",
      " [6 6]\n",
      " [0 0]\n",
      " [2 2]\n",
      " [6 6]\n",
      " [3 3]\n",
      " [1 1]\n",
      " [5 5]\n",
      " [5 5]\n",
      " [9 9]\n",
      " [6 6]\n",
      " [1 1]\n",
      " [8 8]\n",
      " [6 6]\n",
      " [1 1]\n",
      " [3 3]\n",
      " [4 4]\n",
      " [4 4]\n",
      " [2 2]\n",
      " [0 0]\n",
      " [5 5]\n",
      " [9 9]\n",
      " [0 0]\n",
      " [7 7]\n",
      " [0 0]\n",
      " [7 7]\n",
      " [5 5]\n",
      " [8 8]\n",
      " [4 4]\n",
      " [8 8]\n",
      " [8 8]\n",
      " [3 3]\n",
      " [7 7]\n",
      " [9 9]\n",
      " [8 8]\n",
      " [2 2]\n",
      " [0 0]\n",
      " [3 3]\n",
      " [4 4]\n",
      " [9 9]\n",
      " [4 4]\n",
      " [1 8]\n",
      " [8 8]\n",
      " [7 7]\n",
      " [0 0]\n",
      " [5 5]\n",
      " [4 4]\n",
      " [5 5]\n",
      " [2 2]\n",
      " [2 2]\n",
      " [1 1]\n",
      " [4 4]\n",
      " [2 2]\n",
      " [0 0]\n",
      " [8 8]\n",
      " [7 7]\n",
      " [3 3]\n",
      " [2 2]\n",
      " [9 9]\n",
      " [2 2]\n",
      " [3 3]\n",
      " [8 8]\n",
      " [0 0]\n",
      " [6 6]\n",
      " [0 0]\n",
      " [2 2]\n",
      " [8 8]\n",
      " [7 7]\n",
      " [5 5]\n",
      " [4 4]\n",
      " [8 8]\n",
      " [0 0]\n",
      " [1 1]\n",
      " [5 5]\n",
      " [5 5]\n",
      " [0 0]\n",
      " [9 9]\n",
      " [8 8]\n",
      " [7 7]\n",
      " [7 7]\n",
      " [1 1]\n",
      " [4 4]\n",
      " [2 2]\n",
      " [4 4]\n",
      " [7 7]\n",
      " [1 1]\n",
      " [3 3]\n",
      " [0 0]\n",
      " [8 8]\n",
      " [2 2]\n",
      " [8 8]\n",
      " [6 6]\n",
      " [6 6]\n",
      " [3 3]\n",
      " [5 5]\n",
      " [6 6]\n",
      " [4 4]\n",
      " [5 5]\n",
      " [4 4]\n",
      " [6 6]\n",
      " [5 5]\n",
      " [7 7]\n",
      " [7 7]\n",
      " [9 9]\n",
      " [9 9]\n",
      " [1 1]\n",
      " [0 0]\n",
      " [4 4]\n",
      " [6 6]\n",
      " [1 1]\n",
      " [4 4]\n",
      " [3 3]\n",
      " [9 9]\n",
      " [8 8]\n",
      " [1 1]\n",
      " [0 0]\n",
      " [4 4]\n",
      " [5 5]\n",
      " [6 6]\n",
      " [8 8]\n",
      " [2 2]\n",
      " [5 5]\n",
      " [8 8]\n",
      " [4 4]\n",
      " [0 0]\n",
      " [8 8]\n",
      " [3 3]\n",
      " [1 1]\n",
      " [6 6]\n",
      " [6 6]\n",
      " [4 4]\n",
      " [6 6]\n",
      " [1 1]\n",
      " [4 4]\n",
      " [6 6]\n",
      " [6 6]\n",
      " [4 4]\n",
      " [1 1]\n",
      " [5 5]\n",
      " [3 3]\n",
      " [0 0]\n",
      " [1 1]\n",
      " [6 6]\n",
      " [0 0]\n",
      " [2 2]\n",
      " [5 5]\n",
      " [5 5]\n",
      " [8 8]\n",
      " [8 8]\n",
      " [2 2]\n",
      " [6 6]\n",
      " [0 0]\n",
      " [1 1]\n",
      " [1 1]\n",
      " [5 5]\n",
      " [1 1]\n",
      " [6 6]\n",
      " [9 9]\n",
      " [2 2]\n",
      " [8 8]\n",
      " [2 2]\n",
      " [4 4]\n",
      " [9 9]\n",
      " [8 8]\n",
      " [3 3]\n",
      " [3 3]\n",
      " [3 3]\n",
      " [2 2]\n",
      " [4 4]\n",
      " [0 0]\n",
      " [9 9]\n",
      " [4 4]\n",
      " [3 3]\n",
      " [6 6]\n",
      " [0 0]\n",
      " [2 2]\n",
      " [1 1]\n",
      " [3 3]\n",
      " [3 3]\n",
      " [2 2]\n",
      " [5 5]\n",
      " [9 9]\n",
      " [0 0]\n",
      " [7 7]\n",
      " [5 5]\n",
      " [9 9]\n",
      " [7 7]\n",
      " [6 6]\n",
      " [4 4]\n",
      " [7 7]\n",
      " [9 9]\n",
      " [6 6]\n",
      " [7 7]\n",
      " [4 4]\n",
      " [1 1]\n",
      " [5 5]\n",
      " [9 9]\n",
      " [6 6]\n",
      " [5 5]\n",
      " [5 5]\n",
      " [0 0]\n",
      " [8 8]\n",
      " [9 9]\n",
      " [3 3]\n",
      " [2 2]\n",
      " [7 7]\n",
      " [9 9]\n",
      " [7 7]\n",
      " [5 5]\n",
      " [7 7]\n",
      " [9 9]\n",
      " [8 8]\n",
      " [7 7]\n",
      " [5 5]\n",
      " [5 5]\n",
      " [8 8]\n",
      " [4 4]\n",
      " [1 1]\n",
      " [0 0]\n",
      " [0 0]\n",
      " [8 8]\n",
      " [3 3]\n",
      " [0 0]\n",
      " [9 9]\n",
      " [2 2]\n",
      " [9 9]\n",
      " [1 1]\n",
      " [0 0]\n",
      " [0 0]\n",
      " [6 6]\n",
      " [9 9]\n",
      " [0 0]\n",
      " [7 7]\n",
      " [1 1]\n",
      " [4 4]\n",
      " [7 7]\n",
      " [1 1]\n",
      " [0 0]\n",
      " [4 4]\n",
      " [1 1]\n",
      " [4 4]\n",
      " [1 8]\n",
      " [0 0]\n",
      " [2 2]\n",
      " [5 5]\n",
      " [4 4]\n",
      " [2 2]\n",
      " [3 3]\n",
      " [9 9]\n",
      " [7 7]\n",
      " [0 0]\n",
      " [6 6]\n",
      " [7 7]\n",
      " [5 5]\n",
      " [0 0]\n",
      " [8 8]\n",
      " [5 5]\n",
      " [3 3]\n",
      " [4 4]\n",
      " [2 2]\n",
      " [6 6]\n",
      " [4 4]\n",
      " [1 1]\n",
      " [4 4]\n",
      " [3 3]\n",
      " [8 9]\n",
      " [3 8]\n",
      " [4 4]\n",
      " [3 3]\n",
      " [9 5]\n",
      " [6 6]\n",
      " [0 0]\n",
      " [3 3]\n",
      " [7 7]\n",
      " [5 5]\n",
      " [9 9]\n",
      " [4 4]\n",
      " [9 9]\n",
      " [9 9]\n",
      " [1 1]\n",
      " [9 9]\n",
      " [5 5]\n",
      " [7 7]\n",
      " [8 8]\n",
      " [6 6]\n",
      " [9 9]\n",
      " [1 1]\n",
      " [0 0]\n",
      " [5 5]\n",
      " [5 5]\n",
      " [9 9]]\n"
     ]
    }
   ],
   "source": [
    "print(np.concatenate((y_pred.reshape(len(y_pred),1),y_test.reshape(len(y_test),1)),1))"
   ]
  },
  {
   "cell_type": "markdown",
   "id": "7b11296c",
   "metadata": {},
   "source": [
    "## Evaluate model - Accuracy"
   ]
  },
  {
   "cell_type": "code",
   "execution_count": 71,
   "id": "55078181",
   "metadata": {},
   "outputs": [
    {
     "name": "stdout",
     "output_type": "stream",
     "text": [
      "the accuracy score is 97.56 %\n"
     ]
    }
   ],
   "source": [
    "from sklearn.metrics import accuracy_score\n",
    "print(\"the accuracy score is {} %\".format(((accuracy_score(y_test,y_pred))*100).round(2)))"
   ]
  },
  {
   "cell_type": "markdown",
   "id": "f72f262b",
   "metadata": {},
   "source": [
    "## Play with different methods"
   ]
  },
  {
   "cell_type": "code",
   "execution_count": 75,
   "id": "9ec7cc36",
   "metadata": {},
   "outputs": [
    {
     "name": "stdout",
     "output_type": "stream",
     "text": [
      "model1 the accuracy score is 97.56 %\n",
      "model2 the accuracy score is 98.44 %\n",
      "model3 the accuracy score is 98.67 %\n",
      "model4 the accuracy score is 94.44 %\n"
     ]
    }
   ],
   "source": [
    "from sklearn.svm import SVC\n",
    "model1=SVC(kernel=\"linear\")\n",
    "model2=SVC(kernel=\"rbf\")\n",
    "model3=SVC(gamma=0.001)\n",
    "model4=SVC(gamma=0.001,C=0.1)\n",
    "\n",
    "model1.fit(X_train,y_train)\n",
    "model2.fit(X_train,y_train)\n",
    "model3.fit(X_train,y_train)\n",
    "model4.fit(X_train,y_train)\n",
    "\n",
    "\n",
    "y_pred_model1=model1.predict(X_test)\n",
    "y_pred_model2=model2.predict(X_test)\n",
    "y_pred_model3=model3.predict(X_test)\n",
    "y_pred_model4=model4.predict(X_test)\n",
    "\n",
    "print(\"model1 the accuracy score is {} %\".format(((accuracy_score(y_test,y_pred_model1))*100).round(2)))\n",
    "print(\"model2 the accuracy score is {} %\".format(((accuracy_score(y_test,y_pred_model2))*100).round(2)))\n",
    "print(\"model3 the accuracy score is {} %\".format(((accuracy_score(y_test,y_pred_model3))*100).round(2)))\n",
    "print(\"model4 the accuracy score is {} %\".format(((accuracy_score(y_test,y_pred_model4))*100).round(2)))"
   ]
  }
 ],
 "metadata": {
  "kernelspec": {
   "display_name": "Python 3 (ipykernel)",
   "language": "python",
   "name": "python3"
  },
  "language_info": {
   "codemirror_mode": {
    "name": "ipython",
    "version": 3
   },
   "file_extension": ".py",
   "mimetype": "text/x-python",
   "name": "python",
   "nbconvert_exporter": "python",
   "pygments_lexer": "ipython3",
   "version": "3.9.12"
  },
  "latex_envs": {
   "LaTeX_envs_menu_present": true,
   "autoclose": false,
   "autocomplete": true,
   "bibliofile": "biblio.bib",
   "cite_by": "apalike",
   "current_citInitial": 1,
   "eqLabelWithNumbers": true,
   "eqNumInitial": 1,
   "hotkeys": {
    "equation": "Ctrl-E",
    "itemize": "Ctrl-I"
   },
   "labels_anchors": false,
   "latex_user_defs": false,
   "report_style_numbering": false,
   "user_envs_cfg": false
  },
  "varInspector": {
   "cols": {
    "lenName": 16,
    "lenType": 16,
    "lenVar": 40
   },
   "kernels_config": {
    "python": {
     "delete_cmd_postfix": "",
     "delete_cmd_prefix": "del ",
     "library": "var_list.py",
     "varRefreshCmd": "print(var_dic_list())"
    },
    "r": {
     "delete_cmd_postfix": ") ",
     "delete_cmd_prefix": "rm(",
     "library": "var_list.r",
     "varRefreshCmd": "cat(var_dic_list()) "
    }
   },
   "types_to_exclude": [
    "module",
    "function",
    "builtin_function_or_method",
    "instance",
    "_Feature"
   ],
   "window_display": false
  }
 },
 "nbformat": 4,
 "nbformat_minor": 5
}
