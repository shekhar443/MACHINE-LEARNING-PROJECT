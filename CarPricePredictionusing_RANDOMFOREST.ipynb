{
 "cells": [
  {
   "cell_type": "markdown",
   "metadata": {
    "id": "vBPyEplZTYQ-"
   },
   "source": [
    "# <font color = \"green\" > <b><i>Car Price Prediction using RANDOM FOREST</b>\n",
    "<b><i>NAKKA SHEKHAR</b>\n",
    "* [linkedin](https://www.linkedin.com/in/nakka-shekhar-2019a987/)\n",
    "* [github](https://github.com/shekhar443/MACHINE-LEARNING-PROJECT)"
   ]
  },
  {
   "cell_type": "markdown",
   "metadata": {},
   "source": [
    "# <i>Importing required libraries"
   ]
  },
  {
   "cell_type": "code",
   "execution_count": 1,
   "metadata": {
    "id": "ThDmNqanTWZ6"
   },
   "outputs": [],
   "source": [
    "import pandas as pd"
   ]
  },
  {
   "cell_type": "markdown",
   "metadata": {
    "id": "uCexKWWzUCFz"
   },
   "source": [
    "# *Load Dataset*"
   ]
  },
  {
   "cell_type": "code",
   "execution_count": 2,
   "metadata": {
    "id": "3WdAk6WFUEwk"
   },
   "outputs": [],
   "source": [
    "dataset = pd.read_csv('ML/dataset16.csv')\n",
    "dataset = dataset.drop(['car_ID'],axis=1)"
   ]
  },
  {
   "cell_type": "markdown",
   "metadata": {
    "id": "ZfXS387YT5nm"
   },
   "source": [
    "### *Summarize Dataset*"
   ]
  },
  {
   "cell_type": "code",
   "execution_count": 3,
   "metadata": {
    "colab": {
     "base_uri": "https://localhost:8080/"
    },
    "id": "4RYyqUj1T8x9",
    "outputId": "522f4f82-0ebb-46f9-f9c9-95125f79ff9d"
   },
   "outputs": [
    {
     "name": "stdout",
     "output_type": "stream",
     "text": [
      "(205, 25)\n",
      "   symboling                   CarName fueltype aspiration doornumber  \\\n",
      "0          3        alfa-romero giulia      gas        std        two   \n",
      "1          3       alfa-romero stelvio      gas        std        two   \n",
      "2          1  alfa-romero Quadrifoglio      gas        std        two   \n",
      "3          2               audi 100 ls      gas        std       four   \n",
      "4          2                audi 100ls      gas        std       four   \n",
      "\n",
      "       carbody drivewheel enginelocation  wheelbase  carlength  ...  \\\n",
      "0  convertible        rwd          front       88.6      168.8  ...   \n",
      "1  convertible        rwd          front       88.6      168.8  ...   \n",
      "2    hatchback        rwd          front       94.5      171.2  ...   \n",
      "3        sedan        fwd          front       99.8      176.6  ...   \n",
      "4        sedan        4wd          front       99.4      176.6  ...   \n",
      "\n",
      "   enginesize  fuelsystem  boreratio stroke compressionratio  horsepower  \\\n",
      "0         130        mpfi       3.47   2.68              9.0         111   \n",
      "1         130        mpfi       3.47   2.68              9.0         111   \n",
      "2         152        mpfi       2.68   3.47              9.0         154   \n",
      "3         109        mpfi       3.19   3.40             10.0         102   \n",
      "4         136        mpfi       3.19   3.40              8.0         115   \n",
      "\n",
      "  peakrpm  citympg  highwaympg    price  \n",
      "0    5000       21          27  13495.0  \n",
      "1    5000       21          27  16500.0  \n",
      "2    5000       19          26  16500.0  \n",
      "3    5500       24          30  13950.0  \n",
      "4    5500       18          22  17450.0  \n",
      "\n",
      "[5 rows x 25 columns]\n"
     ]
    }
   ],
   "source": [
    "print(dataset.shape)\n",
    "print(dataset.head(5))"
   ]
  },
  {
   "cell_type": "markdown",
   "metadata": {
    "id": "cL4m_Zwd3fIG"
   },
   "source": [
    "### *Splitting Dataset into X & Y*\n",
    "### *This X contains Both Numerical & Text Data*"
   ]
  },
  {
   "cell_type": "code",
   "execution_count": 4,
   "metadata": {
    "colab": {
     "base_uri": "https://localhost:8080/",
     "height": 488
    },
    "id": "XQhO2v6Q3sRY",
    "outputId": "af6487d5-b152-4c7e-d093-b63d54f258f4"
   },
   "outputs": [
    {
     "data": {
      "text/html": [
       "<div>\n",
       "<style scoped>\n",
       "    .dataframe tbody tr th:only-of-type {\n",
       "        vertical-align: middle;\n",
       "    }\n",
       "\n",
       "    .dataframe tbody tr th {\n",
       "        vertical-align: top;\n",
       "    }\n",
       "\n",
       "    .dataframe thead th {\n",
       "        text-align: right;\n",
       "    }\n",
       "</style>\n",
       "<table border=\"1\" class=\"dataframe\">\n",
       "  <thead>\n",
       "    <tr style=\"text-align: right;\">\n",
       "      <th></th>\n",
       "      <th>symboling</th>\n",
       "      <th>wheelbase</th>\n",
       "      <th>carlength</th>\n",
       "      <th>carwidth</th>\n",
       "      <th>carheight</th>\n",
       "      <th>curbweight</th>\n",
       "      <th>enginesize</th>\n",
       "      <th>boreratio</th>\n",
       "      <th>stroke</th>\n",
       "      <th>compressionratio</th>\n",
       "      <th>horsepower</th>\n",
       "      <th>peakrpm</th>\n",
       "      <th>citympg</th>\n",
       "      <th>highwaympg</th>\n",
       "    </tr>\n",
       "  </thead>\n",
       "  <tbody>\n",
       "    <tr>\n",
       "      <th>0</th>\n",
       "      <td>3</td>\n",
       "      <td>88.6</td>\n",
       "      <td>168.8</td>\n",
       "      <td>64.1</td>\n",
       "      <td>48.8</td>\n",
       "      <td>2548</td>\n",
       "      <td>130</td>\n",
       "      <td>3.47</td>\n",
       "      <td>2.68</td>\n",
       "      <td>9.0</td>\n",
       "      <td>111</td>\n",
       "      <td>5000</td>\n",
       "      <td>21</td>\n",
       "      <td>27</td>\n",
       "    </tr>\n",
       "    <tr>\n",
       "      <th>1</th>\n",
       "      <td>3</td>\n",
       "      <td>88.6</td>\n",
       "      <td>168.8</td>\n",
       "      <td>64.1</td>\n",
       "      <td>48.8</td>\n",
       "      <td>2548</td>\n",
       "      <td>130</td>\n",
       "      <td>3.47</td>\n",
       "      <td>2.68</td>\n",
       "      <td>9.0</td>\n",
       "      <td>111</td>\n",
       "      <td>5000</td>\n",
       "      <td>21</td>\n",
       "      <td>27</td>\n",
       "    </tr>\n",
       "    <tr>\n",
       "      <th>2</th>\n",
       "      <td>1</td>\n",
       "      <td>94.5</td>\n",
       "      <td>171.2</td>\n",
       "      <td>65.5</td>\n",
       "      <td>52.4</td>\n",
       "      <td>2823</td>\n",
       "      <td>152</td>\n",
       "      <td>2.68</td>\n",
       "      <td>3.47</td>\n",
       "      <td>9.0</td>\n",
       "      <td>154</td>\n",
       "      <td>5000</td>\n",
       "      <td>19</td>\n",
       "      <td>26</td>\n",
       "    </tr>\n",
       "    <tr>\n",
       "      <th>3</th>\n",
       "      <td>2</td>\n",
       "      <td>99.8</td>\n",
       "      <td>176.6</td>\n",
       "      <td>66.2</td>\n",
       "      <td>54.3</td>\n",
       "      <td>2337</td>\n",
       "      <td>109</td>\n",
       "      <td>3.19</td>\n",
       "      <td>3.40</td>\n",
       "      <td>10.0</td>\n",
       "      <td>102</td>\n",
       "      <td>5500</td>\n",
       "      <td>24</td>\n",
       "      <td>30</td>\n",
       "    </tr>\n",
       "    <tr>\n",
       "      <th>4</th>\n",
       "      <td>2</td>\n",
       "      <td>99.4</td>\n",
       "      <td>176.6</td>\n",
       "      <td>66.4</td>\n",
       "      <td>54.3</td>\n",
       "      <td>2824</td>\n",
       "      <td>136</td>\n",
       "      <td>3.19</td>\n",
       "      <td>3.40</td>\n",
       "      <td>8.0</td>\n",
       "      <td>115</td>\n",
       "      <td>5500</td>\n",
       "      <td>18</td>\n",
       "      <td>22</td>\n",
       "    </tr>\n",
       "    <tr>\n",
       "      <th>...</th>\n",
       "      <td>...</td>\n",
       "      <td>...</td>\n",
       "      <td>...</td>\n",
       "      <td>...</td>\n",
       "      <td>...</td>\n",
       "      <td>...</td>\n",
       "      <td>...</td>\n",
       "      <td>...</td>\n",
       "      <td>...</td>\n",
       "      <td>...</td>\n",
       "      <td>...</td>\n",
       "      <td>...</td>\n",
       "      <td>...</td>\n",
       "      <td>...</td>\n",
       "    </tr>\n",
       "    <tr>\n",
       "      <th>200</th>\n",
       "      <td>-1</td>\n",
       "      <td>109.1</td>\n",
       "      <td>188.8</td>\n",
       "      <td>68.9</td>\n",
       "      <td>55.5</td>\n",
       "      <td>2952</td>\n",
       "      <td>141</td>\n",
       "      <td>3.78</td>\n",
       "      <td>3.15</td>\n",
       "      <td>9.5</td>\n",
       "      <td>114</td>\n",
       "      <td>5400</td>\n",
       "      <td>23</td>\n",
       "      <td>28</td>\n",
       "    </tr>\n",
       "    <tr>\n",
       "      <th>201</th>\n",
       "      <td>-1</td>\n",
       "      <td>109.1</td>\n",
       "      <td>188.8</td>\n",
       "      <td>68.8</td>\n",
       "      <td>55.5</td>\n",
       "      <td>3049</td>\n",
       "      <td>141</td>\n",
       "      <td>3.78</td>\n",
       "      <td>3.15</td>\n",
       "      <td>8.7</td>\n",
       "      <td>160</td>\n",
       "      <td>5300</td>\n",
       "      <td>19</td>\n",
       "      <td>25</td>\n",
       "    </tr>\n",
       "    <tr>\n",
       "      <th>202</th>\n",
       "      <td>-1</td>\n",
       "      <td>109.1</td>\n",
       "      <td>188.8</td>\n",
       "      <td>68.9</td>\n",
       "      <td>55.5</td>\n",
       "      <td>3012</td>\n",
       "      <td>173</td>\n",
       "      <td>3.58</td>\n",
       "      <td>2.87</td>\n",
       "      <td>8.8</td>\n",
       "      <td>134</td>\n",
       "      <td>5500</td>\n",
       "      <td>18</td>\n",
       "      <td>23</td>\n",
       "    </tr>\n",
       "    <tr>\n",
       "      <th>203</th>\n",
       "      <td>-1</td>\n",
       "      <td>109.1</td>\n",
       "      <td>188.8</td>\n",
       "      <td>68.9</td>\n",
       "      <td>55.5</td>\n",
       "      <td>3217</td>\n",
       "      <td>145</td>\n",
       "      <td>3.01</td>\n",
       "      <td>3.40</td>\n",
       "      <td>23.0</td>\n",
       "      <td>106</td>\n",
       "      <td>4800</td>\n",
       "      <td>26</td>\n",
       "      <td>27</td>\n",
       "    </tr>\n",
       "    <tr>\n",
       "      <th>204</th>\n",
       "      <td>-1</td>\n",
       "      <td>109.1</td>\n",
       "      <td>188.8</td>\n",
       "      <td>68.9</td>\n",
       "      <td>55.5</td>\n",
       "      <td>3062</td>\n",
       "      <td>141</td>\n",
       "      <td>3.78</td>\n",
       "      <td>3.15</td>\n",
       "      <td>9.5</td>\n",
       "      <td>114</td>\n",
       "      <td>5400</td>\n",
       "      <td>19</td>\n",
       "      <td>25</td>\n",
       "    </tr>\n",
       "  </tbody>\n",
       "</table>\n",
       "<p>205 rows × 14 columns</p>\n",
       "</div>"
      ],
      "text/plain": [
       "     symboling  wheelbase  carlength  carwidth  carheight  curbweight  \\\n",
       "0            3       88.6      168.8      64.1       48.8        2548   \n",
       "1            3       88.6      168.8      64.1       48.8        2548   \n",
       "2            1       94.5      171.2      65.5       52.4        2823   \n",
       "3            2       99.8      176.6      66.2       54.3        2337   \n",
       "4            2       99.4      176.6      66.4       54.3        2824   \n",
       "..         ...        ...        ...       ...        ...         ...   \n",
       "200         -1      109.1      188.8      68.9       55.5        2952   \n",
       "201         -1      109.1      188.8      68.8       55.5        3049   \n",
       "202         -1      109.1      188.8      68.9       55.5        3012   \n",
       "203         -1      109.1      188.8      68.9       55.5        3217   \n",
       "204         -1      109.1      188.8      68.9       55.5        3062   \n",
       "\n",
       "     enginesize  boreratio  stroke  compressionratio  horsepower  peakrpm  \\\n",
       "0           130       3.47    2.68               9.0         111     5000   \n",
       "1           130       3.47    2.68               9.0         111     5000   \n",
       "2           152       2.68    3.47               9.0         154     5000   \n",
       "3           109       3.19    3.40              10.0         102     5500   \n",
       "4           136       3.19    3.40               8.0         115     5500   \n",
       "..          ...        ...     ...               ...         ...      ...   \n",
       "200         141       3.78    3.15               9.5         114     5400   \n",
       "201         141       3.78    3.15               8.7         160     5300   \n",
       "202         173       3.58    2.87               8.8         134     5500   \n",
       "203         145       3.01    3.40              23.0         106     4800   \n",
       "204         141       3.78    3.15               9.5         114     5400   \n",
       "\n",
       "     citympg  highwaympg  \n",
       "0         21          27  \n",
       "1         21          27  \n",
       "2         19          26  \n",
       "3         24          30  \n",
       "4         18          22  \n",
       "..       ...         ...  \n",
       "200       23          28  \n",
       "201       19          25  \n",
       "202       18          23  \n",
       "203       26          27  \n",
       "204       19          25  \n",
       "\n",
       "[205 rows x 14 columns]"
      ]
     },
     "execution_count": 4,
     "metadata": {},
     "output_type": "execute_result"
    }
   ],
   "source": [
    "Xdata = dataset.drop('price',axis='columns')\n",
    "numericalCols=Xdata.select_dtypes(exclude=['object']).columns\n",
    "X=Xdata[numericalCols]\n",
    "X"
   ]
  },
  {
   "cell_type": "code",
   "execution_count": 5,
   "metadata": {
    "colab": {
     "base_uri": "https://localhost:8080/"
    },
    "id": "u7B0WWoB6Oic",
    "outputId": "677aa23c-64e2-4cba-bece-fc99122f2c21"
   },
   "outputs": [
    {
     "data": {
      "text/plain": [
       "0      13495.0\n",
       "1      16500.0\n",
       "2      16500.0\n",
       "3      13950.0\n",
       "4      17450.0\n",
       "        ...   \n",
       "200    16845.0\n",
       "201    19045.0\n",
       "202    21485.0\n",
       "203    22470.0\n",
       "204    22625.0\n",
       "Name: price, Length: 205, dtype: float64"
      ]
     },
     "execution_count": 5,
     "metadata": {},
     "output_type": "execute_result"
    }
   ],
   "source": [
    "y = dataset['price']\n",
    "y"
   ]
  },
  {
   "cell_type": "markdown",
   "metadata": {
    "id": "LKeaTIwD6l0u"
   },
   "source": [
    "### *Scaling the Independent Variables (Features)*"
   ]
  },
  {
   "cell_type": "code",
   "execution_count": 6,
   "metadata": {
    "colab": {
     "base_uri": "https://localhost:8080/",
     "height": 488
    },
    "id": "CC9Ms9Xz6yIz",
    "outputId": "b6da0889-33cc-484c-e49a-b5c13c665c7c"
   },
   "outputs": [
    {
     "data": {
      "text/html": [
       "<div>\n",
       "<style scoped>\n",
       "    .dataframe tbody tr th:only-of-type {\n",
       "        vertical-align: middle;\n",
       "    }\n",
       "\n",
       "    .dataframe tbody tr th {\n",
       "        vertical-align: top;\n",
       "    }\n",
       "\n",
       "    .dataframe thead th {\n",
       "        text-align: right;\n",
       "    }\n",
       "</style>\n",
       "<table border=\"1\" class=\"dataframe\">\n",
       "  <thead>\n",
       "    <tr style=\"text-align: right;\">\n",
       "      <th></th>\n",
       "      <th>symboling</th>\n",
       "      <th>wheelbase</th>\n",
       "      <th>carlength</th>\n",
       "      <th>carwidth</th>\n",
       "      <th>carheight</th>\n",
       "      <th>curbweight</th>\n",
       "      <th>enginesize</th>\n",
       "      <th>boreratio</th>\n",
       "      <th>stroke</th>\n",
       "      <th>compressionratio</th>\n",
       "      <th>horsepower</th>\n",
       "      <th>peakrpm</th>\n",
       "      <th>citympg</th>\n",
       "      <th>highwaympg</th>\n",
       "    </tr>\n",
       "  </thead>\n",
       "  <tbody>\n",
       "    <tr>\n",
       "      <th>0</th>\n",
       "      <td>1.743470</td>\n",
       "      <td>-1.690772</td>\n",
       "      <td>-0.426521</td>\n",
       "      <td>-0.844782</td>\n",
       "      <td>-2.020417</td>\n",
       "      <td>-0.014566</td>\n",
       "      <td>0.074449</td>\n",
       "      <td>0.519071</td>\n",
       "      <td>-1.839377</td>\n",
       "      <td>-0.288349</td>\n",
       "      <td>0.174483</td>\n",
       "      <td>-0.262960</td>\n",
       "      <td>-0.646553</td>\n",
       "      <td>-0.546059</td>\n",
       "    </tr>\n",
       "    <tr>\n",
       "      <th>1</th>\n",
       "      <td>1.743470</td>\n",
       "      <td>-1.690772</td>\n",
       "      <td>-0.426521</td>\n",
       "      <td>-0.844782</td>\n",
       "      <td>-2.020417</td>\n",
       "      <td>-0.014566</td>\n",
       "      <td>0.074449</td>\n",
       "      <td>0.519071</td>\n",
       "      <td>-1.839377</td>\n",
       "      <td>-0.288349</td>\n",
       "      <td>0.174483</td>\n",
       "      <td>-0.262960</td>\n",
       "      <td>-0.646553</td>\n",
       "      <td>-0.546059</td>\n",
       "    </tr>\n",
       "    <tr>\n",
       "      <th>2</th>\n",
       "      <td>0.133509</td>\n",
       "      <td>-0.708596</td>\n",
       "      <td>-0.231513</td>\n",
       "      <td>-0.190566</td>\n",
       "      <td>-0.543527</td>\n",
       "      <td>0.514882</td>\n",
       "      <td>0.604046</td>\n",
       "      <td>-2.404880</td>\n",
       "      <td>0.685946</td>\n",
       "      <td>-0.288349</td>\n",
       "      <td>1.264536</td>\n",
       "      <td>-0.262960</td>\n",
       "      <td>-0.953012</td>\n",
       "      <td>-0.691627</td>\n",
       "    </tr>\n",
       "    <tr>\n",
       "      <th>3</th>\n",
       "      <td>0.938490</td>\n",
       "      <td>0.173698</td>\n",
       "      <td>0.207256</td>\n",
       "      <td>0.136542</td>\n",
       "      <td>0.235942</td>\n",
       "      <td>-0.420797</td>\n",
       "      <td>-0.431076</td>\n",
       "      <td>-0.517266</td>\n",
       "      <td>0.462183</td>\n",
       "      <td>-0.035973</td>\n",
       "      <td>-0.053668</td>\n",
       "      <td>0.787855</td>\n",
       "      <td>-0.186865</td>\n",
       "      <td>-0.109354</td>\n",
       "    </tr>\n",
       "    <tr>\n",
       "      <th>4</th>\n",
       "      <td>0.938490</td>\n",
       "      <td>0.107110</td>\n",
       "      <td>0.207256</td>\n",
       "      <td>0.230001</td>\n",
       "      <td>0.235942</td>\n",
       "      <td>0.516807</td>\n",
       "      <td>0.218885</td>\n",
       "      <td>-0.517266</td>\n",
       "      <td>0.462183</td>\n",
       "      <td>-0.540725</td>\n",
       "      <td>0.275883</td>\n",
       "      <td>0.787855</td>\n",
       "      <td>-1.106241</td>\n",
       "      <td>-1.273900</td>\n",
       "    </tr>\n",
       "    <tr>\n",
       "      <th>...</th>\n",
       "      <td>...</td>\n",
       "      <td>...</td>\n",
       "      <td>...</td>\n",
       "      <td>...</td>\n",
       "      <td>...</td>\n",
       "      <td>...</td>\n",
       "      <td>...</td>\n",
       "      <td>...</td>\n",
       "      <td>...</td>\n",
       "      <td>...</td>\n",
       "      <td>...</td>\n",
       "      <td>...</td>\n",
       "      <td>...</td>\n",
       "      <td>...</td>\n",
       "    </tr>\n",
       "    <tr>\n",
       "      <th>200</th>\n",
       "      <td>-1.476452</td>\n",
       "      <td>1.721873</td>\n",
       "      <td>1.198549</td>\n",
       "      <td>1.398245</td>\n",
       "      <td>0.728239</td>\n",
       "      <td>0.763241</td>\n",
       "      <td>0.339248</td>\n",
       "      <td>1.666445</td>\n",
       "      <td>-0.336970</td>\n",
       "      <td>-0.162161</td>\n",
       "      <td>0.250533</td>\n",
       "      <td>0.577692</td>\n",
       "      <td>-0.340094</td>\n",
       "      <td>-0.400490</td>\n",
       "    </tr>\n",
       "    <tr>\n",
       "      <th>201</th>\n",
       "      <td>-1.476452</td>\n",
       "      <td>1.721873</td>\n",
       "      <td>1.198549</td>\n",
       "      <td>1.351515</td>\n",
       "      <td>0.728239</td>\n",
       "      <td>0.949992</td>\n",
       "      <td>0.339248</td>\n",
       "      <td>1.666445</td>\n",
       "      <td>-0.336970</td>\n",
       "      <td>-0.364062</td>\n",
       "      <td>1.416637</td>\n",
       "      <td>0.367529</td>\n",
       "      <td>-0.953012</td>\n",
       "      <td>-0.837195</td>\n",
       "    </tr>\n",
       "    <tr>\n",
       "      <th>202</th>\n",
       "      <td>-1.476452</td>\n",
       "      <td>1.721873</td>\n",
       "      <td>1.198549</td>\n",
       "      <td>1.398245</td>\n",
       "      <td>0.728239</td>\n",
       "      <td>0.878757</td>\n",
       "      <td>1.109571</td>\n",
       "      <td>0.926204</td>\n",
       "      <td>-1.232021</td>\n",
       "      <td>-0.338824</td>\n",
       "      <td>0.757535</td>\n",
       "      <td>0.787855</td>\n",
       "      <td>-1.106241</td>\n",
       "      <td>-1.128332</td>\n",
       "    </tr>\n",
       "    <tr>\n",
       "      <th>203</th>\n",
       "      <td>-1.476452</td>\n",
       "      <td>1.721873</td>\n",
       "      <td>1.198549</td>\n",
       "      <td>1.398245</td>\n",
       "      <td>0.728239</td>\n",
       "      <td>1.273437</td>\n",
       "      <td>0.435538</td>\n",
       "      <td>-1.183483</td>\n",
       "      <td>0.462183</td>\n",
       "      <td>3.244916</td>\n",
       "      <td>0.047732</td>\n",
       "      <td>-0.683286</td>\n",
       "      <td>0.119594</td>\n",
       "      <td>-0.546059</td>\n",
       "    </tr>\n",
       "    <tr>\n",
       "      <th>204</th>\n",
       "      <td>-1.476452</td>\n",
       "      <td>1.721873</td>\n",
       "      <td>1.198549</td>\n",
       "      <td>1.398245</td>\n",
       "      <td>0.728239</td>\n",
       "      <td>0.975021</td>\n",
       "      <td>0.339248</td>\n",
       "      <td>1.666445</td>\n",
       "      <td>-0.336970</td>\n",
       "      <td>-0.162161</td>\n",
       "      <td>0.250533</td>\n",
       "      <td>0.577692</td>\n",
       "      <td>-0.953012</td>\n",
       "      <td>-0.837195</td>\n",
       "    </tr>\n",
       "  </tbody>\n",
       "</table>\n",
       "<p>205 rows × 14 columns</p>\n",
       "</div>"
      ],
      "text/plain": [
       "     symboling  wheelbase  carlength  carwidth  carheight  curbweight  \\\n",
       "0     1.743470  -1.690772  -0.426521 -0.844782  -2.020417   -0.014566   \n",
       "1     1.743470  -1.690772  -0.426521 -0.844782  -2.020417   -0.014566   \n",
       "2     0.133509  -0.708596  -0.231513 -0.190566  -0.543527    0.514882   \n",
       "3     0.938490   0.173698   0.207256  0.136542   0.235942   -0.420797   \n",
       "4     0.938490   0.107110   0.207256  0.230001   0.235942    0.516807   \n",
       "..         ...        ...        ...       ...        ...         ...   \n",
       "200  -1.476452   1.721873   1.198549  1.398245   0.728239    0.763241   \n",
       "201  -1.476452   1.721873   1.198549  1.351515   0.728239    0.949992   \n",
       "202  -1.476452   1.721873   1.198549  1.398245   0.728239    0.878757   \n",
       "203  -1.476452   1.721873   1.198549  1.398245   0.728239    1.273437   \n",
       "204  -1.476452   1.721873   1.198549  1.398245   0.728239    0.975021   \n",
       "\n",
       "     enginesize  boreratio    stroke  compressionratio  horsepower   peakrpm  \\\n",
       "0      0.074449   0.519071 -1.839377         -0.288349    0.174483 -0.262960   \n",
       "1      0.074449   0.519071 -1.839377         -0.288349    0.174483 -0.262960   \n",
       "2      0.604046  -2.404880  0.685946         -0.288349    1.264536 -0.262960   \n",
       "3     -0.431076  -0.517266  0.462183         -0.035973   -0.053668  0.787855   \n",
       "4      0.218885  -0.517266  0.462183         -0.540725    0.275883  0.787855   \n",
       "..          ...        ...       ...               ...         ...       ...   \n",
       "200    0.339248   1.666445 -0.336970         -0.162161    0.250533  0.577692   \n",
       "201    0.339248   1.666445 -0.336970         -0.364062    1.416637  0.367529   \n",
       "202    1.109571   0.926204 -1.232021         -0.338824    0.757535  0.787855   \n",
       "203    0.435538  -1.183483  0.462183          3.244916    0.047732 -0.683286   \n",
       "204    0.339248   1.666445 -0.336970         -0.162161    0.250533  0.577692   \n",
       "\n",
       "      citympg  highwaympg  \n",
       "0   -0.646553   -0.546059  \n",
       "1   -0.646553   -0.546059  \n",
       "2   -0.953012   -0.691627  \n",
       "3   -0.186865   -0.109354  \n",
       "4   -1.106241   -1.273900  \n",
       "..        ...         ...  \n",
       "200 -0.340094   -0.400490  \n",
       "201 -0.953012   -0.837195  \n",
       "202 -1.106241   -1.128332  \n",
       "203  0.119594   -0.546059  \n",
       "204 -0.953012   -0.837195  \n",
       "\n",
       "[205 rows x 14 columns]"
      ]
     },
     "execution_count": 6,
     "metadata": {},
     "output_type": "execute_result"
    }
   ],
   "source": [
    "from sklearn.preprocessing import scale\n",
    "cols = X.columns\n",
    "X = pd.DataFrame(scale(X))\n",
    "X.columns = cols\n",
    "X"
   ]
  },
  {
   "cell_type": "markdown",
   "metadata": {
    "id": "X6AFl60n7TFV"
   },
   "source": [
    "### *Splitting Dataset into Train & Test*"
   ]
  },
  {
   "cell_type": "code",
   "execution_count": 7,
   "metadata": {
    "id": "8rj22XPE7akT"
   },
   "outputs": [],
   "source": [
    "from sklearn.model_selection import train_test_split\n",
    "x_train,x_test,y_train,y_test = train_test_split(X,y,test_size=0.20,random_state=0)"
   ]
  },
  {
   "cell_type": "markdown",
   "metadata": {
    "id": "0mfruxg8716s"
   },
   "source": [
    "### *Training using Random Forest*"
   ]
  },
  {
   "cell_type": "code",
   "execution_count": 8,
   "metadata": {
    "colab": {
     "base_uri": "https://localhost:8080/"
    },
    "id": "X72lPbl_75j9",
    "outputId": "2baaaf80-5641-424d-f935-f3db6255701f"
   },
   "outputs": [
    {
     "data": {
      "text/plain": [
       "RandomForestRegressor()"
      ]
     },
     "execution_count": 8,
     "metadata": {},
     "output_type": "execute_result"
    }
   ],
   "source": [
    "from sklearn.ensemble import RandomForestRegressor\n",
    "model = RandomForestRegressor()\n",
    "model.fit(x_train, y_train)"
   ]
  },
  {
   "cell_type": "markdown",
   "metadata": {
    "id": "VCPUoPp98KQu"
   },
   "source": [
    "### *Evaluating Model*"
   ]
  },
  {
   "cell_type": "code",
   "execution_count": 9,
   "metadata": {
    "colab": {
     "base_uri": "https://localhost:8080/"
    },
    "id": "QOszf8Vp8MzQ",
    "outputId": "3bd57875-61fb-42c1-dcf9-0599b7348557"
   },
   "outputs": [
    {
     "name": "stdout",
     "output_type": "stream",
     "text": [
      "R2Score 90.52609434926757\n"
     ]
    }
   ],
   "source": [
    "ypred = model.predict(x_test)\n",
    "\n",
    "from sklearn.metrics import r2_score\n",
    "r2score = r2_score(y_test,ypred)\n",
    "print(\"R2Score\",r2score*100)"
   ]
  }
 ],
 "metadata": {
  "colab": {
   "provenance": []
  },
  "kernelspec": {
   "display_name": "Python 3 (ipykernel)",
   "language": "python",
   "name": "python3"
  },
  "language_info": {
   "codemirror_mode": {
    "name": "ipython",
    "version": 3
   },
   "file_extension": ".py",
   "mimetype": "text/x-python",
   "name": "python",
   "nbconvert_exporter": "python",
   "pygments_lexer": "ipython3",
   "version": "3.9.12"
  },
  "latex_envs": {
   "LaTeX_envs_menu_present": true,
   "autoclose": false,
   "autocomplete": true,
   "bibliofile": "biblio.bib",
   "cite_by": "apalike",
   "current_citInitial": 1,
   "eqLabelWithNumbers": true,
   "eqNumInitial": 1,
   "hotkeys": {
    "equation": "Ctrl-E",
    "itemize": "Ctrl-I"
   },
   "labels_anchors": false,
   "latex_user_defs": false,
   "report_style_numbering": false,
   "user_envs_cfg": false
  },
  "varInspector": {
   "cols": {
    "lenName": 16,
    "lenType": 16,
    "lenVar": 40
   },
   "kernels_config": {
    "python": {
     "delete_cmd_postfix": "",
     "delete_cmd_prefix": "del ",
     "library": "var_list.py",
     "varRefreshCmd": "print(var_dic_list())"
    },
    "r": {
     "delete_cmd_postfix": ") ",
     "delete_cmd_prefix": "rm(",
     "library": "var_list.r",
     "varRefreshCmd": "cat(var_dic_list()) "
    }
   },
   "types_to_exclude": [
    "module",
    "function",
    "builtin_function_or_method",
    "instance",
    "_Feature"
   ],
   "window_display": false
  }
 },
 "nbformat": 4,
 "nbformat_minor": 1
}
