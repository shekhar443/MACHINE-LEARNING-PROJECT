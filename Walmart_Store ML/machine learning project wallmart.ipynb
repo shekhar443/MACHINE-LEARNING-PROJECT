{
 "cells": [
  {
   "cell_type": "markdown",
   "id": "7c2d3ae9",
   "metadata": {},
   "source": [
    "### Analysis Tasks\n",
    "\n",
    "#### Basic Statistics tasks\n",
    "\n",
    "    1. Which store has maximum sales\n",
    "\n",
    "    2. Which store has maximum standard deviation i.e., the sales vary a lot. Also, find out the coefficient of mean to standard deviation\n",
    "\n",
    "    3. Which store/s has good quarterly growth rate in Q3’2012\n",
    "\n",
    "    4. Some holidays have a negative impact on sales. Find out holidays which have higher sales than the mean sales in non-holiday season for all stores together\n",
    "\n",
    "    5. Provide a monthly and semester view of sales in units and give insights\n",
    "\n",
    "### Statistical Model\n",
    "\n",
    "For Store 1 – Build  prediction models to forecast demand\n",
    "\n",
    "    6. Linear Regression – Utilize variables like date and restructure dates as 1 for 5 Feb 2010 (starting from the earliest date in order). Hypothesize if CPI, unemployment, and fuel price have any impact on sales.\n",
    "\n",
    "    7. Change dates into days by creating new variable.\n",
    "\n",
    "    8. Select the model which gives best accuracy."
   ]
  },
  {
   "cell_type": "code",
   "execution_count": 1,
   "id": "5b21a445",
   "metadata": {},
   "outputs": [],
   "source": [
    "import pandas as pd"
   ]
  },
  {
   "cell_type": "code",
   "execution_count": 2,
   "id": "9272aabf",
   "metadata": {},
   "outputs": [],
   "source": [
    "import numpy as np"
   ]
  },
  {
   "cell_type": "code",
   "execution_count": 3,
   "id": "6c082863",
   "metadata": {},
   "outputs": [],
   "source": [
    "import matplotlib.pyplot as plt"
   ]
  },
  {
   "cell_type": "code",
   "execution_count": 4,
   "id": "0c7216c4",
   "metadata": {},
   "outputs": [],
   "source": [
    "import seaborn as sns"
   ]
  },
  {
   "cell_type": "code",
   "execution_count": 5,
   "id": "1910a094",
   "metadata": {},
   "outputs": [],
   "source": [
    "import warnings"
   ]
  },
  {
   "cell_type": "code",
   "execution_count": 6,
   "id": "a4bfc14b",
   "metadata": {},
   "outputs": [],
   "source": [
    "warnings.filterwarnings('ignore')"
   ]
  },
  {
   "cell_type": "code",
   "execution_count": 7,
   "id": "4c3cca09",
   "metadata": {},
   "outputs": [],
   "source": [
    "%matplotlib inline"
   ]
  },
  {
   "cell_type": "code",
   "execution_count": 8,
   "id": "de333dd2",
   "metadata": {},
   "outputs": [],
   "source": [
    "df=pd.read_csv(\"Walmart_Store_sales.csv\")"
   ]
  },
  {
   "cell_type": "code",
   "execution_count": 9,
   "id": "55157eef",
   "metadata": {},
   "outputs": [
    {
     "data": {
      "text/html": [
       "<div>\n",
       "<style scoped>\n",
       "    .dataframe tbody tr th:only-of-type {\n",
       "        vertical-align: middle;\n",
       "    }\n",
       "\n",
       "    .dataframe tbody tr th {\n",
       "        vertical-align: top;\n",
       "    }\n",
       "\n",
       "    .dataframe thead th {\n",
       "        text-align: right;\n",
       "    }\n",
       "</style>\n",
       "<table border=\"1\" class=\"dataframe\">\n",
       "  <thead>\n",
       "    <tr style=\"text-align: right;\">\n",
       "      <th></th>\n",
       "      <th>Store</th>\n",
       "      <th>Date</th>\n",
       "      <th>Weekly_Sales</th>\n",
       "      <th>Holiday_Flag</th>\n",
       "      <th>Temperature</th>\n",
       "      <th>Fuel_Price</th>\n",
       "      <th>CPI</th>\n",
       "      <th>Unemployment</th>\n",
       "    </tr>\n",
       "  </thead>\n",
       "  <tbody>\n",
       "    <tr>\n",
       "      <th>0</th>\n",
       "      <td>1</td>\n",
       "      <td>05-02-2010</td>\n",
       "      <td>1643690.90</td>\n",
       "      <td>0</td>\n",
       "      <td>42.31</td>\n",
       "      <td>2.572</td>\n",
       "      <td>211.096358</td>\n",
       "      <td>8.106</td>\n",
       "    </tr>\n",
       "    <tr>\n",
       "      <th>1</th>\n",
       "      <td>1</td>\n",
       "      <td>12-02-2010</td>\n",
       "      <td>1641957.44</td>\n",
       "      <td>1</td>\n",
       "      <td>38.51</td>\n",
       "      <td>2.548</td>\n",
       "      <td>211.242170</td>\n",
       "      <td>8.106</td>\n",
       "    </tr>\n",
       "    <tr>\n",
       "      <th>2</th>\n",
       "      <td>1</td>\n",
       "      <td>19-02-2010</td>\n",
       "      <td>1611968.17</td>\n",
       "      <td>0</td>\n",
       "      <td>39.93</td>\n",
       "      <td>2.514</td>\n",
       "      <td>211.289143</td>\n",
       "      <td>8.106</td>\n",
       "    </tr>\n",
       "    <tr>\n",
       "      <th>3</th>\n",
       "      <td>1</td>\n",
       "      <td>26-02-2010</td>\n",
       "      <td>1409727.59</td>\n",
       "      <td>0</td>\n",
       "      <td>46.63</td>\n",
       "      <td>2.561</td>\n",
       "      <td>211.319643</td>\n",
       "      <td>8.106</td>\n",
       "    </tr>\n",
       "    <tr>\n",
       "      <th>4</th>\n",
       "      <td>1</td>\n",
       "      <td>05-03-2010</td>\n",
       "      <td>1554806.68</td>\n",
       "      <td>0</td>\n",
       "      <td>46.50</td>\n",
       "      <td>2.625</td>\n",
       "      <td>211.350143</td>\n",
       "      <td>8.106</td>\n",
       "    </tr>\n",
       "  </tbody>\n",
       "</table>\n",
       "</div>"
      ],
      "text/plain": [
       "   Store        Date  Weekly_Sales  Holiday_Flag  Temperature  Fuel_Price  \\\n",
       "0      1  05-02-2010    1643690.90             0        42.31       2.572   \n",
       "1      1  12-02-2010    1641957.44             1        38.51       2.548   \n",
       "2      1  19-02-2010    1611968.17             0        39.93       2.514   \n",
       "3      1  26-02-2010    1409727.59             0        46.63       2.561   \n",
       "4      1  05-03-2010    1554806.68             0        46.50       2.625   \n",
       "\n",
       "          CPI  Unemployment  \n",
       "0  211.096358         8.106  \n",
       "1  211.242170         8.106  \n",
       "2  211.289143         8.106  \n",
       "3  211.319643         8.106  \n",
       "4  211.350143         8.106  "
      ]
     },
     "execution_count": 9,
     "metadata": {},
     "output_type": "execute_result"
    }
   ],
   "source": [
    "df.head()"
   ]
  },
  {
   "cell_type": "code",
   "execution_count": 10,
   "id": "91763205",
   "metadata": {},
   "outputs": [
    {
     "data": {
      "text/html": [
       "<div>\n",
       "<style scoped>\n",
       "    .dataframe tbody tr th:only-of-type {\n",
       "        vertical-align: middle;\n",
       "    }\n",
       "\n",
       "    .dataframe tbody tr th {\n",
       "        vertical-align: top;\n",
       "    }\n",
       "\n",
       "    .dataframe thead th {\n",
       "        text-align: right;\n",
       "    }\n",
       "</style>\n",
       "<table border=\"1\" class=\"dataframe\">\n",
       "  <thead>\n",
       "    <tr style=\"text-align: right;\">\n",
       "      <th></th>\n",
       "      <th>Store</th>\n",
       "      <th>Date</th>\n",
       "      <th>Weekly_Sales</th>\n",
       "      <th>Holiday_Flag</th>\n",
       "      <th>Temperature</th>\n",
       "      <th>Fuel_Price</th>\n",
       "      <th>CPI</th>\n",
       "      <th>Unemployment</th>\n",
       "    </tr>\n",
       "  </thead>\n",
       "  <tbody>\n",
       "    <tr>\n",
       "      <th>6430</th>\n",
       "      <td>45</td>\n",
       "      <td>28-09-2012</td>\n",
       "      <td>713173.95</td>\n",
       "      <td>0</td>\n",
       "      <td>64.88</td>\n",
       "      <td>3.997</td>\n",
       "      <td>192.013558</td>\n",
       "      <td>8.684</td>\n",
       "    </tr>\n",
       "    <tr>\n",
       "      <th>6431</th>\n",
       "      <td>45</td>\n",
       "      <td>05-10-2012</td>\n",
       "      <td>733455.07</td>\n",
       "      <td>0</td>\n",
       "      <td>64.89</td>\n",
       "      <td>3.985</td>\n",
       "      <td>192.170412</td>\n",
       "      <td>8.667</td>\n",
       "    </tr>\n",
       "    <tr>\n",
       "      <th>6432</th>\n",
       "      <td>45</td>\n",
       "      <td>12-10-2012</td>\n",
       "      <td>734464.36</td>\n",
       "      <td>0</td>\n",
       "      <td>54.47</td>\n",
       "      <td>4.000</td>\n",
       "      <td>192.327265</td>\n",
       "      <td>8.667</td>\n",
       "    </tr>\n",
       "    <tr>\n",
       "      <th>6433</th>\n",
       "      <td>45</td>\n",
       "      <td>19-10-2012</td>\n",
       "      <td>718125.53</td>\n",
       "      <td>0</td>\n",
       "      <td>56.47</td>\n",
       "      <td>3.969</td>\n",
       "      <td>192.330854</td>\n",
       "      <td>8.667</td>\n",
       "    </tr>\n",
       "    <tr>\n",
       "      <th>6434</th>\n",
       "      <td>45</td>\n",
       "      <td>26-10-2012</td>\n",
       "      <td>760281.43</td>\n",
       "      <td>0</td>\n",
       "      <td>58.85</td>\n",
       "      <td>3.882</td>\n",
       "      <td>192.308899</td>\n",
       "      <td>8.667</td>\n",
       "    </tr>\n",
       "  </tbody>\n",
       "</table>\n",
       "</div>"
      ],
      "text/plain": [
       "      Store        Date  Weekly_Sales  Holiday_Flag  Temperature  Fuel_Price  \\\n",
       "6430     45  28-09-2012     713173.95             0        64.88       3.997   \n",
       "6431     45  05-10-2012     733455.07             0        64.89       3.985   \n",
       "6432     45  12-10-2012     734464.36             0        54.47       4.000   \n",
       "6433     45  19-10-2012     718125.53             0        56.47       3.969   \n",
       "6434     45  26-10-2012     760281.43             0        58.85       3.882   \n",
       "\n",
       "             CPI  Unemployment  \n",
       "6430  192.013558         8.684  \n",
       "6431  192.170412         8.667  \n",
       "6432  192.327265         8.667  \n",
       "6433  192.330854         8.667  \n",
       "6434  192.308899         8.667  "
      ]
     },
     "execution_count": 10,
     "metadata": {},
     "output_type": "execute_result"
    }
   ],
   "source": [
    "df.tail()"
   ]
  },
  {
   "cell_type": "code",
   "execution_count": 11,
   "id": "d86bac6b",
   "metadata": {},
   "outputs": [
    {
     "data": {
      "text/plain": [
       "Index(['Store', 'Date', 'Weekly_Sales', 'Holiday_Flag', 'Temperature',\n",
       "       'Fuel_Price', 'CPI', 'Unemployment'],\n",
       "      dtype='object')"
      ]
     },
     "execution_count": 11,
     "metadata": {},
     "output_type": "execute_result"
    }
   ],
   "source": [
    "df.columns"
   ]
  },
  {
   "cell_type": "code",
   "execution_count": 12,
   "id": "1628511e",
   "metadata": {},
   "outputs": [
    {
     "data": {
      "text/plain": [
       "Store             int64\n",
       "Date             object\n",
       "Weekly_Sales    float64\n",
       "Holiday_Flag      int64\n",
       "Temperature     float64\n",
       "Fuel_Price      float64\n",
       "CPI             float64\n",
       "Unemployment    float64\n",
       "dtype: object"
      ]
     },
     "execution_count": 12,
     "metadata": {},
     "output_type": "execute_result"
    }
   ],
   "source": [
    "df.dtypes"
   ]
  },
  {
   "cell_type": "code",
   "execution_count": 13,
   "id": "f922af10",
   "metadata": {},
   "outputs": [
    {
     "data": {
      "text/plain": [
       "0"
      ]
     },
     "execution_count": 13,
     "metadata": {},
     "output_type": "execute_result"
    }
   ],
   "source": [
    "df.isnull().sum().sum()"
   ]
  },
  {
   "cell_type": "code",
   "execution_count": 14,
   "id": "807ebe07",
   "metadata": {},
   "outputs": [
    {
     "data": {
      "text/plain": [
       "(6435, 8)"
      ]
     },
     "execution_count": 14,
     "metadata": {},
     "output_type": "execute_result"
    }
   ],
   "source": [
    "df.shape"
   ]
  },
  {
   "cell_type": "code",
   "execution_count": 15,
   "id": "d5a5b794",
   "metadata": {},
   "outputs": [
    {
     "data": {
      "text/plain": [
       "51480"
      ]
     },
     "execution_count": 15,
     "metadata": {},
     "output_type": "execute_result"
    }
   ],
   "source": [
    "df.size"
   ]
  },
  {
   "cell_type": "code",
   "execution_count": 16,
   "id": "f8d239f6",
   "metadata": {},
   "outputs": [
    {
     "data": {
      "text/html": [
       "<div>\n",
       "<style scoped>\n",
       "    .dataframe tbody tr th:only-of-type {\n",
       "        vertical-align: middle;\n",
       "    }\n",
       "\n",
       "    .dataframe tbody tr th {\n",
       "        vertical-align: top;\n",
       "    }\n",
       "\n",
       "    .dataframe thead th {\n",
       "        text-align: right;\n",
       "    }\n",
       "</style>\n",
       "<table border=\"1\" class=\"dataframe\">\n",
       "  <thead>\n",
       "    <tr style=\"text-align: right;\">\n",
       "      <th></th>\n",
       "      <th>Store</th>\n",
       "      <th>Weekly_Sales</th>\n",
       "      <th>Holiday_Flag</th>\n",
       "      <th>Temperature</th>\n",
       "      <th>Fuel_Price</th>\n",
       "      <th>CPI</th>\n",
       "      <th>Unemployment</th>\n",
       "    </tr>\n",
       "  </thead>\n",
       "  <tbody>\n",
       "    <tr>\n",
       "      <th>count</th>\n",
       "      <td>6435.000000</td>\n",
       "      <td>6.435000e+03</td>\n",
       "      <td>6435.000000</td>\n",
       "      <td>6435.000000</td>\n",
       "      <td>6435.000000</td>\n",
       "      <td>6435.000000</td>\n",
       "      <td>6435.000000</td>\n",
       "    </tr>\n",
       "    <tr>\n",
       "      <th>mean</th>\n",
       "      <td>23.000000</td>\n",
       "      <td>1.046965e+06</td>\n",
       "      <td>0.069930</td>\n",
       "      <td>60.663782</td>\n",
       "      <td>3.358607</td>\n",
       "      <td>171.578394</td>\n",
       "      <td>7.999151</td>\n",
       "    </tr>\n",
       "    <tr>\n",
       "      <th>std</th>\n",
       "      <td>12.988182</td>\n",
       "      <td>5.643666e+05</td>\n",
       "      <td>0.255049</td>\n",
       "      <td>18.444933</td>\n",
       "      <td>0.459020</td>\n",
       "      <td>39.356712</td>\n",
       "      <td>1.875885</td>\n",
       "    </tr>\n",
       "    <tr>\n",
       "      <th>min</th>\n",
       "      <td>1.000000</td>\n",
       "      <td>2.099862e+05</td>\n",
       "      <td>0.000000</td>\n",
       "      <td>-2.060000</td>\n",
       "      <td>2.472000</td>\n",
       "      <td>126.064000</td>\n",
       "      <td>3.879000</td>\n",
       "    </tr>\n",
       "    <tr>\n",
       "      <th>25%</th>\n",
       "      <td>12.000000</td>\n",
       "      <td>5.533501e+05</td>\n",
       "      <td>0.000000</td>\n",
       "      <td>47.460000</td>\n",
       "      <td>2.933000</td>\n",
       "      <td>131.735000</td>\n",
       "      <td>6.891000</td>\n",
       "    </tr>\n",
       "    <tr>\n",
       "      <th>50%</th>\n",
       "      <td>23.000000</td>\n",
       "      <td>9.607460e+05</td>\n",
       "      <td>0.000000</td>\n",
       "      <td>62.670000</td>\n",
       "      <td>3.445000</td>\n",
       "      <td>182.616521</td>\n",
       "      <td>7.874000</td>\n",
       "    </tr>\n",
       "    <tr>\n",
       "      <th>75%</th>\n",
       "      <td>34.000000</td>\n",
       "      <td>1.420159e+06</td>\n",
       "      <td>0.000000</td>\n",
       "      <td>74.940000</td>\n",
       "      <td>3.735000</td>\n",
       "      <td>212.743293</td>\n",
       "      <td>8.622000</td>\n",
       "    </tr>\n",
       "    <tr>\n",
       "      <th>max</th>\n",
       "      <td>45.000000</td>\n",
       "      <td>3.818686e+06</td>\n",
       "      <td>1.000000</td>\n",
       "      <td>100.140000</td>\n",
       "      <td>4.468000</td>\n",
       "      <td>227.232807</td>\n",
       "      <td>14.313000</td>\n",
       "    </tr>\n",
       "  </tbody>\n",
       "</table>\n",
       "</div>"
      ],
      "text/plain": [
       "             Store  Weekly_Sales  Holiday_Flag  Temperature   Fuel_Price  \\\n",
       "count  6435.000000  6.435000e+03   6435.000000  6435.000000  6435.000000   \n",
       "mean     23.000000  1.046965e+06      0.069930    60.663782     3.358607   \n",
       "std      12.988182  5.643666e+05      0.255049    18.444933     0.459020   \n",
       "min       1.000000  2.099862e+05      0.000000    -2.060000     2.472000   \n",
       "25%      12.000000  5.533501e+05      0.000000    47.460000     2.933000   \n",
       "50%      23.000000  9.607460e+05      0.000000    62.670000     3.445000   \n",
       "75%      34.000000  1.420159e+06      0.000000    74.940000     3.735000   \n",
       "max      45.000000  3.818686e+06      1.000000   100.140000     4.468000   \n",
       "\n",
       "               CPI  Unemployment  \n",
       "count  6435.000000   6435.000000  \n",
       "mean    171.578394      7.999151  \n",
       "std      39.356712      1.875885  \n",
       "min     126.064000      3.879000  \n",
       "25%     131.735000      6.891000  \n",
       "50%     182.616521      7.874000  \n",
       "75%     212.743293      8.622000  \n",
       "max     227.232807     14.313000  "
      ]
     },
     "execution_count": 16,
     "metadata": {},
     "output_type": "execute_result"
    }
   ],
   "source": [
    "df.describe()"
   ]
  },
  {
   "cell_type": "code",
   "execution_count": 17,
   "id": "c04c90de",
   "metadata": {},
   "outputs": [
    {
     "name": "stdout",
     "output_type": "stream",
     "text": [
      "<class 'pandas.core.frame.DataFrame'>\n",
      "RangeIndex: 6435 entries, 0 to 6434\n",
      "Data columns (total 8 columns):\n",
      " #   Column        Non-Null Count  Dtype  \n",
      "---  ------        --------------  -----  \n",
      " 0   Store         6435 non-null   int64  \n",
      " 1   Date          6435 non-null   object \n",
      " 2   Weekly_Sales  6435 non-null   float64\n",
      " 3   Holiday_Flag  6435 non-null   int64  \n",
      " 4   Temperature   6435 non-null   float64\n",
      " 5   Fuel_Price    6435 non-null   float64\n",
      " 6   CPI           6435 non-null   float64\n",
      " 7   Unemployment  6435 non-null   float64\n",
      "dtypes: float64(5), int64(2), object(1)\n",
      "memory usage: 402.3+ KB\n"
     ]
    }
   ],
   "source": [
    "df.info()"
   ]
  },
  {
   "cell_type": "markdown",
   "id": "d6c89870",
   "metadata": {},
   "source": [
    "#### 1.Which store has maximum sales"
   ]
  },
  {
   "cell_type": "code",
   "execution_count": 18,
   "id": "a6d49922",
   "metadata": {},
   "outputs": [
    {
     "data": {
      "text/plain": [
       "20"
      ]
     },
     "execution_count": 18,
     "metadata": {},
     "output_type": "execute_result"
    }
   ],
   "source": [
    "df.groupby('Store')['Weekly_Sales'].sum().idxmax()"
   ]
  },
  {
   "cell_type": "code",
   "execution_count": 19,
   "id": "6fad9f52",
   "metadata": {},
   "outputs": [
    {
     "data": {
      "text/plain": [
       "Store\n",
       "20    301397792.0\n",
       "Name: Weekly_Sales, dtype: float64"
      ]
     },
     "execution_count": 19,
     "metadata": {},
     "output_type": "execute_result"
    }
   ],
   "source": [
    "df.groupby('Store')['Weekly_Sales'].sum().round().sort_values(ascending=False)[:1]"
   ]
  },
  {
   "cell_type": "code",
   "execution_count": 20,
   "id": "ca369b1d",
   "metadata": {},
   "outputs": [
    {
     "data": {
      "text/plain": [
       "<AxesSubplot:xlabel='Store', ylabel='Weekly_Sales'>"
      ]
     },
     "execution_count": 20,
     "metadata": {},
     "output_type": "execute_result"
    },
    {
     "data": {
      "image/png": "[encoded data removed]",
      "text/plain": [
       "<Figure size 1080x720 with 1 Axes>"
      ]
     },
     "metadata": {
      "needs_background": "light"
     },
     "output_type": "display_data"
    }
   ],
   "source": [
    "plt.figure(figsize=(15,10))\n",
    "sns.barplot(x=\"Store\",y=\"Weekly_Sales\",data=df)"
   ]
  },
  {
   "cell_type": "code",
   "execution_count": 21,
   "id": "59a2fe42",
   "metadata": {},
   "outputs": [],
   "source": [
    "# store number 20 has maximum weekly sales"
   ]
  },
  {
   "cell_type": "markdown",
   "id": "e8bcf3cd",
   "metadata": {},
   "source": [
    "#### 2.Which store has maximum standard deviation"
   ]
  },
  {
   "cell_type": "code",
   "execution_count": 22,
   "id": "80fa8079",
   "metadata": {},
   "outputs": [
    {
     "data": {
      "text/plain": [
       "Store\n",
       "14    317569.949476\n",
       "Name: Weekly_Sales, dtype: float64"
      ]
     },
     "execution_count": 22,
     "metadata": {},
     "output_type": "execute_result"
    }
   ],
   "source": [
    "df.groupby('Store')['Weekly_Sales'].std().sort_values(ascending=False)[0:1]"
   ]
  },
  {
   "cell_type": "code",
   "execution_count": 23,
   "id": "20365a14",
   "metadata": {},
   "outputs": [],
   "source": [
    "# store 14 has maximum Standard Deviation "
   ]
  },
  {
   "cell_type": "code",
   "execution_count": 24,
   "id": "03de3d20",
   "metadata": {},
   "outputs": [
    {
     "data": {
      "text/plain": [
       "1859    2623469.95\n",
       "1860    1704218.84\n",
       "1861    2204556.70\n",
       "1862    2095591.63\n",
       "1863    2237544.75\n",
       "           ...    \n",
       "1997    1522512.20\n",
       "1998    1687592.16\n",
       "1999    1639585.61\n",
       "2000    1590274.72\n",
       "2001    1704357.62\n",
       "Name: Weekly_Sales, Length: 143, dtype: float64"
      ]
     },
     "execution_count": 24,
     "metadata": {},
     "output_type": "execute_result"
    }
   ],
   "source": [
    "df[df[\"Store\"]==14]['Weekly_Sales']"
   ]
  },
  {
   "cell_type": "markdown",
   "id": "8d98ec26",
   "metadata": {},
   "source": [
    "#### 3.find out the coefficient of mean to standard deviation"
   ]
  },
  {
   "cell_type": "code",
   "execution_count": 25,
   "id": "26c8e327",
   "metadata": {},
   "outputs": [
    {
     "data": {
      "text/html": [
       "<div>\n",
       "<style scoped>\n",
       "    .dataframe tbody tr th:only-of-type {\n",
       "        vertical-align: middle;\n",
       "    }\n",
       "\n",
       "    .dataframe tbody tr th {\n",
       "        vertical-align: top;\n",
       "    }\n",
       "\n",
       "    .dataframe thead th {\n",
       "        text-align: right;\n",
       "    }\n",
       "</style>\n",
       "<table border=\"1\" class=\"dataframe\">\n",
       "  <thead>\n",
       "    <tr style=\"text-align: right;\">\n",
       "      <th></th>\n",
       "      <th>Store</th>\n",
       "      <th>Weekly_Sales</th>\n",
       "      <th>Holiday_Flag</th>\n",
       "      <th>Temperature</th>\n",
       "      <th>Fuel_Price</th>\n",
       "      <th>CPI</th>\n",
       "      <th>Unemployment</th>\n",
       "    </tr>\n",
       "  </thead>\n",
       "  <tbody>\n",
       "    <tr>\n",
       "      <th>count</th>\n",
       "      <td>6435.000000</td>\n",
       "      <td>6.435000e+03</td>\n",
       "      <td>6435.000000</td>\n",
       "      <td>6435.000000</td>\n",
       "      <td>6435.000000</td>\n",
       "      <td>6435.000000</td>\n",
       "      <td>6435.000000</td>\n",
       "    </tr>\n",
       "    <tr>\n",
       "      <th>mean</th>\n",
       "      <td>23.000000</td>\n",
       "      <td>1.046965e+06</td>\n",
       "      <td>0.069930</td>\n",
       "      <td>60.663782</td>\n",
       "      <td>3.358607</td>\n",
       "      <td>171.578394</td>\n",
       "      <td>7.999151</td>\n",
       "    </tr>\n",
       "    <tr>\n",
       "      <th>std</th>\n",
       "      <td>12.988182</td>\n",
       "      <td>5.643666e+05</td>\n",
       "      <td>0.255049</td>\n",
       "      <td>18.444933</td>\n",
       "      <td>0.459020</td>\n",
       "      <td>39.356712</td>\n",
       "      <td>1.875885</td>\n",
       "    </tr>\n",
       "    <tr>\n",
       "      <th>min</th>\n",
       "      <td>1.000000</td>\n",
       "      <td>2.099862e+05</td>\n",
       "      <td>0.000000</td>\n",
       "      <td>-2.060000</td>\n",
       "      <td>2.472000</td>\n",
       "      <td>126.064000</td>\n",
       "      <td>3.879000</td>\n",
       "    </tr>\n",
       "    <tr>\n",
       "      <th>25%</th>\n",
       "      <td>12.000000</td>\n",
       "      <td>5.533501e+05</td>\n",
       "      <td>0.000000</td>\n",
       "      <td>47.460000</td>\n",
       "      <td>2.933000</td>\n",
       "      <td>131.735000</td>\n",
       "      <td>6.891000</td>\n",
       "    </tr>\n",
       "    <tr>\n",
       "      <th>50%</th>\n",
       "      <td>23.000000</td>\n",
       "      <td>9.607460e+05</td>\n",
       "      <td>0.000000</td>\n",
       "      <td>62.670000</td>\n",
       "      <td>3.445000</td>\n",
       "      <td>182.616521</td>\n",
       "      <td>7.874000</td>\n",
       "    </tr>\n",
       "    <tr>\n",
       "      <th>75%</th>\n",
       "      <td>34.000000</td>\n",
       "      <td>1.420159e+06</td>\n",
       "      <td>0.000000</td>\n",
       "      <td>74.940000</td>\n",
       "      <td>3.735000</td>\n",
       "      <td>212.743293</td>\n",
       "      <td>8.622000</td>\n",
       "    </tr>\n",
       "    <tr>\n",
       "      <th>max</th>\n",
       "      <td>45.000000</td>\n",
       "      <td>3.818686e+06</td>\n",
       "      <td>1.000000</td>\n",
       "      <td>100.140000</td>\n",
       "      <td>4.468000</td>\n",
       "      <td>227.232807</td>\n",
       "      <td>14.313000</td>\n",
       "    </tr>\n",
       "  </tbody>\n",
       "</table>\n",
       "</div>"
      ],
      "text/plain": [
       "             Store  Weekly_Sales  Holiday_Flag  Temperature   Fuel_Price  \\\n",
       "count  6435.000000  6.435000e+03   6435.000000  6435.000000  6435.000000   \n",
       "mean     23.000000  1.046965e+06      0.069930    60.663782     3.358607   \n",
       "std      12.988182  5.643666e+05      0.255049    18.444933     0.459020   \n",
       "min       1.000000  2.099862e+05      0.000000    -2.060000     2.472000   \n",
       "25%      12.000000  5.533501e+05      0.000000    47.460000     2.933000   \n",
       "50%      23.000000  9.607460e+05      0.000000    62.670000     3.445000   \n",
       "75%      34.000000  1.420159e+06      0.000000    74.940000     3.735000   \n",
       "max      45.000000  3.818686e+06      1.000000   100.140000     4.468000   \n",
       "\n",
       "               CPI  Unemployment  \n",
       "count  6435.000000   6435.000000  \n",
       "mean    171.578394      7.999151  \n",
       "std      39.356712      1.875885  \n",
       "min     126.064000      3.879000  \n",
       "25%     131.735000      6.891000  \n",
       "50%     182.616521      7.874000  \n",
       "75%     212.743293      8.622000  \n",
       "max     227.232807     14.313000  "
      ]
     },
     "execution_count": 25,
     "metadata": {},
     "output_type": "execute_result"
    }
   ],
   "source": [
    "df.describe()"
   ]
  },
  {
   "cell_type": "code",
   "execution_count": 26,
   "id": "07e8fb2a",
   "metadata": {},
   "outputs": [],
   "source": [
    "coefficient=(1.046965e+06/5.643666e+05)*100"
   ]
  },
  {
   "cell_type": "code",
   "execution_count": 27,
   "id": "e5c5869a",
   "metadata": {},
   "outputs": [
    {
     "data": {
      "text/plain": [
       "185.51150971726537"
      ]
     },
     "execution_count": 27,
     "metadata": {},
     "output_type": "execute_result"
    }
   ],
   "source": [
    "coefficient"
   ]
  },
  {
   "cell_type": "markdown",
   "id": "7a385b17",
   "metadata": {},
   "source": [
    "#### 4.Which store has good quarterly growth rate in Q3’2012"
   ]
  },
  {
   "cell_type": "code",
   "execution_count": 28,
   "id": "9fe06891",
   "metadata": {},
   "outputs": [
    {
     "name": "stdout",
     "output_type": "stream",
     "text": [
      "<class 'pandas.core.frame.DataFrame'>\n",
      "RangeIndex: 6435 entries, 0 to 6434\n",
      "Data columns (total 8 columns):\n",
      " #   Column        Non-Null Count  Dtype  \n",
      "---  ------        --------------  -----  \n",
      " 0   Store         6435 non-null   int64  \n",
      " 1   Date          6435 non-null   object \n",
      " 2   Weekly_Sales  6435 non-null   float64\n",
      " 3   Holiday_Flag  6435 non-null   int64  \n",
      " 4   Temperature   6435 non-null   float64\n",
      " 5   Fuel_Price    6435 non-null   float64\n",
      " 6   CPI           6435 non-null   float64\n",
      " 7   Unemployment  6435 non-null   float64\n",
      "dtypes: float64(5), int64(2), object(1)\n",
      "memory usage: 402.3+ KB\n"
     ]
    }
   ],
   "source": [
    "df.info() # the data column is in object form so have to concert into date formate"
   ]
  },
  {
   "cell_type": "code",
   "execution_count": 29,
   "id": "07c6239d",
   "metadata": {},
   "outputs": [],
   "source": [
    "df['Date']=pd.to_datetime(df['Date'])"
   ]
  },
  {
   "cell_type": "code",
   "execution_count": 30,
   "id": "5b21374f",
   "metadata": {},
   "outputs": [
    {
     "name": "stdout",
     "output_type": "stream",
     "text": [
      "<class 'pandas.core.frame.DataFrame'>\n",
      "RangeIndex: 6435 entries, 0 to 6434\n",
      "Data columns (total 8 columns):\n",
      " #   Column        Non-Null Count  Dtype         \n",
      "---  ------        --------------  -----         \n",
      " 0   Store         6435 non-null   int64         \n",
      " 1   Date          6435 non-null   datetime64[ns]\n",
      " 2   Weekly_Sales  6435 non-null   float64       \n",
      " 3   Holiday_Flag  6435 non-null   int64         \n",
      " 4   Temperature   6435 non-null   float64       \n",
      " 5   Fuel_Price    6435 non-null   float64       \n",
      " 6   CPI           6435 non-null   float64       \n",
      " 7   Unemployment  6435 non-null   float64       \n",
      "dtypes: datetime64[ns](1), float64(5), int64(2)\n",
      "memory usage: 402.3 KB\n"
     ]
    }
   ],
   "source": [
    "df.info()"
   ]
  },
  {
   "cell_type": "code",
   "execution_count": 31,
   "id": "0be0af66",
   "metadata": {},
   "outputs": [],
   "source": [
    "unique_dates=np.unique(df['Date'])"
   ]
  },
  {
   "cell_type": "code",
   "execution_count": 32,
   "id": "bfaacf74",
   "metadata": {},
   "outputs": [],
   "source": [
    "# creation of new columns from date column\n",
    "df['Year']=pd.DatetimeIndex(df['Date']).year\n",
    "df['Month']=pd.DatetimeIndex(df['Date']).month\n",
    "df['Day']=pd.DatetimeIndex(df['Date']).day"
   ]
  },
  {
   "cell_type": "code",
   "execution_count": 33,
   "id": "862c55fc",
   "metadata": {},
   "outputs": [
    {
     "data": {
      "text/plain": [
       "Index(['Store', 'Date', 'Weekly_Sales', 'Holiday_Flag', 'Temperature',\n",
       "       'Fuel_Price', 'CPI', 'Unemployment', 'Year', 'Month', 'Day'],\n",
       "      dtype='object')"
      ]
     },
     "execution_count": 33,
     "metadata": {},
     "output_type": "execute_result"
    }
   ],
   "source": [
    "df.columns"
   ]
  },
  {
   "cell_type": "code",
   "execution_count": 34,
   "id": "b48fdaf4",
   "metadata": {},
   "outputs": [],
   "source": [
    "df_2012=df.loc[df['Year']==2012]"
   ]
  },
  {
   "cell_type": "code",
   "execution_count": 35,
   "id": "bebd4389",
   "metadata": {},
   "outputs": [
    {
     "data": {
      "text/html": [
       "<div>\n",
       "<style scoped>\n",
       "    .dataframe tbody tr th:only-of-type {\n",
       "        vertical-align: middle;\n",
       "    }\n",
       "\n",
       "    .dataframe tbody tr th {\n",
       "        vertical-align: top;\n",
       "    }\n",
       "\n",
       "    .dataframe thead th {\n",
       "        text-align: right;\n",
       "    }\n",
       "</style>\n",
       "<table border=\"1\" class=\"dataframe\">\n",
       "  <thead>\n",
       "    <tr style=\"text-align: right;\">\n",
       "      <th></th>\n",
       "      <th>Store</th>\n",
       "      <th>Date</th>\n",
       "      <th>Weekly_Sales</th>\n",
       "      <th>Holiday_Flag</th>\n",
       "      <th>Temperature</th>\n",
       "      <th>Fuel_Price</th>\n",
       "      <th>CPI</th>\n",
       "      <th>Unemployment</th>\n",
       "      <th>Year</th>\n",
       "      <th>Month</th>\n",
       "      <th>Day</th>\n",
       "    </tr>\n",
       "  </thead>\n",
       "  <tbody>\n",
       "    <tr>\n",
       "      <th>100</th>\n",
       "      <td>1</td>\n",
       "      <td>2012-06-01</td>\n",
       "      <td>1550369.92</td>\n",
       "      <td>0</td>\n",
       "      <td>49.01</td>\n",
       "      <td>3.157</td>\n",
       "      <td>219.714258</td>\n",
       "      <td>7.348</td>\n",
       "      <td>2012</td>\n",
       "      <td>6</td>\n",
       "      <td>1</td>\n",
       "    </tr>\n",
       "    <tr>\n",
       "      <th>113</th>\n",
       "      <td>1</td>\n",
       "      <td>2012-06-04</td>\n",
       "      <td>1899676.88</td>\n",
       "      <td>0</td>\n",
       "      <td>70.43</td>\n",
       "      <td>3.891</td>\n",
       "      <td>221.435611</td>\n",
       "      <td>7.143</td>\n",
       "      <td>2012</td>\n",
       "      <td>6</td>\n",
       "      <td>4</td>\n",
       "    </tr>\n",
       "    <tr>\n",
       "      <th>114</th>\n",
       "      <td>1</td>\n",
       "      <td>2012-04-13</td>\n",
       "      <td>1621031.70</td>\n",
       "      <td>0</td>\n",
       "      <td>69.07</td>\n",
       "      <td>3.891</td>\n",
       "      <td>221.510210</td>\n",
       "      <td>7.143</td>\n",
       "      <td>2012</td>\n",
       "      <td>4</td>\n",
       "      <td>13</td>\n",
       "    </tr>\n",
       "    <tr>\n",
       "      <th>115</th>\n",
       "      <td>1</td>\n",
       "      <td>2012-04-20</td>\n",
       "      <td>1521577.87</td>\n",
       "      <td>0</td>\n",
       "      <td>66.76</td>\n",
       "      <td>3.877</td>\n",
       "      <td>221.564074</td>\n",
       "      <td>7.143</td>\n",
       "      <td>2012</td>\n",
       "      <td>4</td>\n",
       "      <td>20</td>\n",
       "    </tr>\n",
       "    <tr>\n",
       "      <th>116</th>\n",
       "      <td>1</td>\n",
       "      <td>2012-04-27</td>\n",
       "      <td>1468928.37</td>\n",
       "      <td>0</td>\n",
       "      <td>67.23</td>\n",
       "      <td>3.814</td>\n",
       "      <td>221.617937</td>\n",
       "      <td>7.143</td>\n",
       "      <td>2012</td>\n",
       "      <td>4</td>\n",
       "      <td>27</td>\n",
       "    </tr>\n",
       "    <tr>\n",
       "      <th>...</th>\n",
       "      <td>...</td>\n",
       "      <td>...</td>\n",
       "      <td>...</td>\n",
       "      <td>...</td>\n",
       "      <td>...</td>\n",
       "      <td>...</td>\n",
       "      <td>...</td>\n",
       "      <td>...</td>\n",
       "      <td>...</td>\n",
       "      <td>...</td>\n",
       "      <td>...</td>\n",
       "    </tr>\n",
       "    <tr>\n",
       "      <th>6415</th>\n",
       "      <td>45</td>\n",
       "      <td>2012-06-15</td>\n",
       "      <td>821498.18</td>\n",
       "      <td>0</td>\n",
       "      <td>71.93</td>\n",
       "      <td>3.620</td>\n",
       "      <td>191.029973</td>\n",
       "      <td>8.567</td>\n",
       "      <td>2012</td>\n",
       "      <td>6</td>\n",
       "      <td>15</td>\n",
       "    </tr>\n",
       "    <tr>\n",
       "      <th>6416</th>\n",
       "      <td>45</td>\n",
       "      <td>2012-06-22</td>\n",
       "      <td>822569.16</td>\n",
       "      <td>0</td>\n",
       "      <td>74.22</td>\n",
       "      <td>3.564</td>\n",
       "      <td>191.064610</td>\n",
       "      <td>8.567</td>\n",
       "      <td>2012</td>\n",
       "      <td>6</td>\n",
       "      <td>22</td>\n",
       "    </tr>\n",
       "    <tr>\n",
       "      <th>6417</th>\n",
       "      <td>45</td>\n",
       "      <td>2012-06-29</td>\n",
       "      <td>773367.71</td>\n",
       "      <td>0</td>\n",
       "      <td>75.22</td>\n",
       "      <td>3.506</td>\n",
       "      <td>191.099246</td>\n",
       "      <td>8.567</td>\n",
       "      <td>2012</td>\n",
       "      <td>6</td>\n",
       "      <td>29</td>\n",
       "    </tr>\n",
       "    <tr>\n",
       "      <th>6418</th>\n",
       "      <td>45</td>\n",
       "      <td>2012-06-07</td>\n",
       "      <td>843361.10</td>\n",
       "      <td>0</td>\n",
       "      <td>82.99</td>\n",
       "      <td>3.475</td>\n",
       "      <td>191.133883</td>\n",
       "      <td>8.684</td>\n",
       "      <td>2012</td>\n",
       "      <td>6</td>\n",
       "      <td>7</td>\n",
       "    </tr>\n",
       "    <tr>\n",
       "      <th>6431</th>\n",
       "      <td>45</td>\n",
       "      <td>2012-05-10</td>\n",
       "      <td>733455.07</td>\n",
       "      <td>0</td>\n",
       "      <td>64.89</td>\n",
       "      <td>3.985</td>\n",
       "      <td>192.170412</td>\n",
       "      <td>8.667</td>\n",
       "      <td>2012</td>\n",
       "      <td>5</td>\n",
       "      <td>10</td>\n",
       "    </tr>\n",
       "  </tbody>\n",
       "</table>\n",
       "<p>585 rows × 11 columns</p>\n",
       "</div>"
      ],
      "text/plain": [
       "      Store       Date  Weekly_Sales  Holiday_Flag  Temperature  Fuel_Price  \\\n",
       "100       1 2012-06-01    1550369.92             0        49.01       3.157   \n",
       "113       1 2012-06-04    1899676.88             0        70.43       3.891   \n",
       "114       1 2012-04-13    1621031.70             0        69.07       3.891   \n",
       "115       1 2012-04-20    1521577.87             0        66.76       3.877   \n",
       "116       1 2012-04-27    1468928.37             0        67.23       3.814   \n",
       "...     ...        ...           ...           ...          ...         ...   \n",
       "6415     45 2012-06-15     821498.18             0        71.93       3.620   \n",
       "6416     45 2012-06-22     822569.16             0        74.22       3.564   \n",
       "6417     45 2012-06-29     773367.71             0        75.22       3.506   \n",
       "6418     45 2012-06-07     843361.10             0        82.99       3.475   \n",
       "6431     45 2012-05-10     733455.07             0        64.89       3.985   \n",
       "\n",
       "             CPI  Unemployment  Year  Month  Day  \n",
       "100   219.714258         7.348  2012      6    1  \n",
       "113   221.435611         7.143  2012      6    4  \n",
       "114   221.510210         7.143  2012      4   13  \n",
       "115   221.564074         7.143  2012      4   20  \n",
       "116   221.617937         7.143  2012      4   27  \n",
       "...          ...           ...   ...    ...  ...  \n",
       "6415  191.029973         8.567  2012      6   15  \n",
       "6416  191.064610         8.567  2012      6   22  \n",
       "6417  191.099246         8.567  2012      6   29  \n",
       "6418  191.133883         8.684  2012      6    7  \n",
       "6431  192.170412         8.667  2012      5   10  \n",
       "\n",
       "[585 rows x 11 columns]"
      ]
     },
     "execution_count": 35,
     "metadata": {},
     "output_type": "execute_result"
    }
   ],
   "source": [
    "df_2012_Q3=df_2012.loc[(df['Month']>6) & (df['Month']<10)]\n",
    "df_2012_Q2=df_2012.loc[(df['Month']>3) & (df['Month']<7)]\n",
    "df_2012_Q2"
   ]
  },
  {
   "cell_type": "code",
   "execution_count": 36,
   "id": "02971447",
   "metadata": {},
   "outputs": [
    {
     "data": {
      "text/html": [
       "<div>\n",
       "<style scoped>\n",
       "    .dataframe tbody tr th:only-of-type {\n",
       "        vertical-align: middle;\n",
       "    }\n",
       "\n",
       "    .dataframe tbody tr th {\n",
       "        vertical-align: top;\n",
       "    }\n",
       "\n",
       "    .dataframe thead th {\n",
       "        text-align: right;\n",
       "    }\n",
       "</style>\n",
       "<table border=\"1\" class=\"dataframe\">\n",
       "  <thead>\n",
       "    <tr style=\"text-align: right;\">\n",
       "      <th></th>\n",
       "      <th>Store</th>\n",
       "      <th>Date</th>\n",
       "      <th>Weekly_Sales</th>\n",
       "      <th>Holiday_Flag</th>\n",
       "      <th>Temperature</th>\n",
       "      <th>Fuel_Price</th>\n",
       "      <th>CPI</th>\n",
       "      <th>Unemployment</th>\n",
       "      <th>Year</th>\n",
       "      <th>Month</th>\n",
       "      <th>Day</th>\n",
       "    </tr>\n",
       "  </thead>\n",
       "  <tbody>\n",
       "    <tr>\n",
       "      <th>109</th>\n",
       "      <td>1</td>\n",
       "      <td>2012-09-03</td>\n",
       "      <td>1675431.16</td>\n",
       "      <td>0</td>\n",
       "      <td>58.76</td>\n",
       "      <td>3.669</td>\n",
       "      <td>221.059189</td>\n",
       "      <td>7.348</td>\n",
       "      <td>2012</td>\n",
       "      <td>9</td>\n",
       "      <td>3</td>\n",
       "    </tr>\n",
       "    <tr>\n",
       "      <th>122</th>\n",
       "      <td>1</td>\n",
       "      <td>2012-08-06</td>\n",
       "      <td>1697230.96</td>\n",
       "      <td>0</td>\n",
       "      <td>78.30</td>\n",
       "      <td>3.452</td>\n",
       "      <td>221.749484</td>\n",
       "      <td>7.143</td>\n",
       "      <td>2012</td>\n",
       "      <td>8</td>\n",
       "      <td>6</td>\n",
       "    </tr>\n",
       "    <tr>\n",
       "      <th>127</th>\n",
       "      <td>1</td>\n",
       "      <td>2012-07-13</td>\n",
       "      <td>1527014.04</td>\n",
       "      <td>0</td>\n",
       "      <td>77.12</td>\n",
       "      <td>3.256</td>\n",
       "      <td>221.924158</td>\n",
       "      <td>6.908</td>\n",
       "      <td>2012</td>\n",
       "      <td>7</td>\n",
       "      <td>13</td>\n",
       "    </tr>\n",
       "    <tr>\n",
       "      <th>128</th>\n",
       "      <td>1</td>\n",
       "      <td>2012-07-20</td>\n",
       "      <td>1497954.76</td>\n",
       "      <td>0</td>\n",
       "      <td>80.42</td>\n",
       "      <td>3.311</td>\n",
       "      <td>221.932727</td>\n",
       "      <td>6.908</td>\n",
       "      <td>2012</td>\n",
       "      <td>7</td>\n",
       "      <td>20</td>\n",
       "    </tr>\n",
       "    <tr>\n",
       "      <th>129</th>\n",
       "      <td>1</td>\n",
       "      <td>2012-07-27</td>\n",
       "      <td>1439123.71</td>\n",
       "      <td>0</td>\n",
       "      <td>82.66</td>\n",
       "      <td>3.407</td>\n",
       "      <td>221.941295</td>\n",
       "      <td>6.908</td>\n",
       "      <td>2012</td>\n",
       "      <td>7</td>\n",
       "      <td>27</td>\n",
       "    </tr>\n",
       "    <tr>\n",
       "      <th>...</th>\n",
       "      <td>...</td>\n",
       "      <td>...</td>\n",
       "      <td>...</td>\n",
       "      <td>...</td>\n",
       "      <td>...</td>\n",
       "      <td>...</td>\n",
       "      <td>...</td>\n",
       "      <td>...</td>\n",
       "      <td>...</td>\n",
       "      <td>...</td>\n",
       "      <td>...</td>\n",
       "    </tr>\n",
       "    <tr>\n",
       "      <th>6426</th>\n",
       "      <td>45</td>\n",
       "      <td>2012-08-31</td>\n",
       "      <td>734297.87</td>\n",
       "      <td>0</td>\n",
       "      <td>75.09</td>\n",
       "      <td>3.867</td>\n",
       "      <td>191.461281</td>\n",
       "      <td>8.684</td>\n",
       "      <td>2012</td>\n",
       "      <td>8</td>\n",
       "      <td>31</td>\n",
       "    </tr>\n",
       "    <tr>\n",
       "      <th>6427</th>\n",
       "      <td>45</td>\n",
       "      <td>2012-07-09</td>\n",
       "      <td>766512.66</td>\n",
       "      <td>1</td>\n",
       "      <td>75.70</td>\n",
       "      <td>3.911</td>\n",
       "      <td>191.577676</td>\n",
       "      <td>8.684</td>\n",
       "      <td>2012</td>\n",
       "      <td>7</td>\n",
       "      <td>9</td>\n",
       "    </tr>\n",
       "    <tr>\n",
       "      <th>6428</th>\n",
       "      <td>45</td>\n",
       "      <td>2012-09-14</td>\n",
       "      <td>702238.27</td>\n",
       "      <td>0</td>\n",
       "      <td>67.87</td>\n",
       "      <td>3.948</td>\n",
       "      <td>191.699850</td>\n",
       "      <td>8.684</td>\n",
       "      <td>2012</td>\n",
       "      <td>9</td>\n",
       "      <td>14</td>\n",
       "    </tr>\n",
       "    <tr>\n",
       "      <th>6429</th>\n",
       "      <td>45</td>\n",
       "      <td>2012-09-21</td>\n",
       "      <td>723086.20</td>\n",
       "      <td>0</td>\n",
       "      <td>65.32</td>\n",
       "      <td>4.038</td>\n",
       "      <td>191.856704</td>\n",
       "      <td>8.684</td>\n",
       "      <td>2012</td>\n",
       "      <td>9</td>\n",
       "      <td>21</td>\n",
       "    </tr>\n",
       "    <tr>\n",
       "      <th>6430</th>\n",
       "      <td>45</td>\n",
       "      <td>2012-09-28</td>\n",
       "      <td>713173.95</td>\n",
       "      <td>0</td>\n",
       "      <td>64.88</td>\n",
       "      <td>3.997</td>\n",
       "      <td>192.013558</td>\n",
       "      <td>8.684</td>\n",
       "      <td>2012</td>\n",
       "      <td>9</td>\n",
       "      <td>28</td>\n",
       "    </tr>\n",
       "  </tbody>\n",
       "</table>\n",
       "<p>540 rows × 11 columns</p>\n",
       "</div>"
      ],
      "text/plain": [
       "      Store       Date  Weekly_Sales  Holiday_Flag  Temperature  Fuel_Price  \\\n",
       "109       1 2012-09-03    1675431.16             0        58.76       3.669   \n",
       "122       1 2012-08-06    1697230.96             0        78.30       3.452   \n",
       "127       1 2012-07-13    1527014.04             0        77.12       3.256   \n",
       "128       1 2012-07-20    1497954.76             0        80.42       3.311   \n",
       "129       1 2012-07-27    1439123.71             0        82.66       3.407   \n",
       "...     ...        ...           ...           ...          ...         ...   \n",
       "6426     45 2012-08-31     734297.87             0        75.09       3.867   \n",
       "6427     45 2012-07-09     766512.66             1        75.70       3.911   \n",
       "6428     45 2012-09-14     702238.27             0        67.87       3.948   \n",
       "6429     45 2012-09-21     723086.20             0        65.32       4.038   \n",
       "6430     45 2012-09-28     713173.95             0        64.88       3.997   \n",
       "\n",
       "             CPI  Unemployment  Year  Month  Day  \n",
       "109   221.059189         7.348  2012      9    3  \n",
       "122   221.749484         7.143  2012      8    6  \n",
       "127   221.924158         6.908  2012      7   13  \n",
       "128   221.932727         6.908  2012      7   20  \n",
       "129   221.941295         6.908  2012      7   27  \n",
       "...          ...           ...   ...    ...  ...  \n",
       "6426  191.461281         8.684  2012      8   31  \n",
       "6427  191.577676         8.684  2012      7    9  \n",
       "6428  191.699850         8.684  2012      9   14  \n",
       "6429  191.856704         8.684  2012      9   21  \n",
       "6430  192.013558         8.684  2012      9   28  \n",
       "\n",
       "[540 rows x 11 columns]"
      ]
     },
     "execution_count": 36,
     "metadata": {},
     "output_type": "execute_result"
    }
   ],
   "source": [
    "df_2012_Q3"
   ]
  },
  {
   "cell_type": "code",
   "execution_count": 37,
   "id": "0197290f",
   "metadata": {},
   "outputs": [],
   "source": [
    "df_2012_2=df_2012_Q2.groupby('Store')['Weekly_Sales'].sum().sort_values(ascending=False)"
   ]
  },
  {
   "cell_type": "code",
   "execution_count": 38,
   "id": "aaae6b3c",
   "metadata": {},
   "outputs": [],
   "source": [
    "df_2012_3=df_2012_Q3.groupby('Store')['Weekly_Sales'].sum().sort_values(ascending=False)"
   ]
  },
  {
   "cell_type": "code",
   "execution_count": 39,
   "id": "9991684c",
   "metadata": {},
   "outputs": [],
   "source": [
    "growth=df_2012_3-df_2012_2"
   ]
  },
  {
   "cell_type": "code",
   "execution_count": 40,
   "id": "c03afd4a",
   "metadata": {},
   "outputs": [
    {
     "data": {
      "text/plain": [
       "Store\n",
       "14   -4287338.66\n",
       "20   -2884242.51\n",
       "4    -2732065.81\n",
       "2    -2688256.00\n",
       "13   -2483231.20\n",
       "10   -2429077.48\n",
       "1    -2403755.60\n",
       "27   -2402402.62\n",
       "6    -2387749.05\n",
       "28   -1930340.28\n",
       "31   -1794826.89\n",
       "11   -1784732.70\n",
       "19   -1670937.25\n",
       "24   -1642192.12\n",
       "22   -1510521.06\n",
       "45   -1427657.73\n",
       "12   -1415856.54\n",
       "17   -1384893.64\n",
       "34   -1381769.00\n",
       "18   -1327184.36\n",
       "39   -1291630.46\n",
       "32   -1273071.37\n",
       "40   -1202086.08\n",
       "41   -1186447.44\n",
       "23   -1179770.54\n",
       "8    -1060415.27\n",
       "15    -958577.86\n",
       "25    -938026.75\n",
       "29    -906631.12\n",
       "9     -903080.57\n",
       "43    -863066.64\n",
       "21    -822771.63\n",
       "26    -800714.31\n",
       "42    -777407.45\n",
       "37    -609253.88\n",
       "30    -604361.01\n",
       "38    -603065.06\n",
       "3     -596172.23\n",
       "5     -546640.33\n",
       "36    -512255.32\n",
       "35    -501448.29\n",
       "33    -335065.62\n",
       "44    -302069.32\n",
       "7     -291200.00\n",
       "16    -184822.33\n",
       "Name: Weekly_Sales, dtype: float64"
      ]
     },
     "execution_count": 40,
     "metadata": {},
     "output_type": "execute_result"
    }
   ],
   "source": [
    "growth.sort_values()"
   ]
  },
  {
   "cell_type": "code",
   "execution_count": 41,
   "id": "638bd489",
   "metadata": {},
   "outputs": [],
   "source": [
    "# there is no gain in any store"
   ]
  },
  {
   "cell_type": "markdown",
   "id": "77029748",
   "metadata": {},
   "source": [
    "#### 5.Some holidays have a negative impact on sales. Find out holidays which have higher sales than the mean sales in non-holiday season for all stores together"
   ]
  },
  {
   "cell_type": "code",
   "execution_count": 42,
   "id": "84b67b1b",
   "metadata": {},
   "outputs": [
    {
     "data": {
      "text/plain": [
       "1041256.3802088564"
      ]
     },
     "execution_count": 42,
     "metadata": {},
     "output_type": "execute_result"
    }
   ],
   "source": [
    "p=df.loc[df['Holiday_Flag']==0]['Weekly_Sales'].mean()\n",
    "p"
   ]
  },
  {
   "cell_type": "code",
   "execution_count": 43,
   "id": "5736e6f2",
   "metadata": {},
   "outputs": [],
   "source": [
    "result=df[(df['Weekly_Sales']>p)&(df['Holiday_Flag']==1)]"
   ]
  },
  {
   "cell_type": "code",
   "execution_count": 44,
   "id": "7cdc1540",
   "metadata": {},
   "outputs": [
    {
     "data": {
      "text/html": [
       "<div>\n",
       "<style scoped>\n",
       "    .dataframe tbody tr th:only-of-type {\n",
       "        vertical-align: middle;\n",
       "    }\n",
       "\n",
       "    .dataframe tbody tr th {\n",
       "        vertical-align: top;\n",
       "    }\n",
       "\n",
       "    .dataframe thead th {\n",
       "        text-align: right;\n",
       "    }\n",
       "</style>\n",
       "<table border=\"1\" class=\"dataframe\">\n",
       "  <thead>\n",
       "    <tr style=\"text-align: right;\">\n",
       "      <th></th>\n",
       "      <th>Store</th>\n",
       "      <th>Date</th>\n",
       "      <th>Weekly_Sales</th>\n",
       "      <th>Holiday_Flag</th>\n",
       "      <th>Temperature</th>\n",
       "      <th>Fuel_Price</th>\n",
       "      <th>CPI</th>\n",
       "      <th>Unemployment</th>\n",
       "      <th>Year</th>\n",
       "      <th>Month</th>\n",
       "      <th>Day</th>\n",
       "    </tr>\n",
       "  </thead>\n",
       "  <tbody>\n",
       "    <tr>\n",
       "      <th>1</th>\n",
       "      <td>1</td>\n",
       "      <td>2010-12-02</td>\n",
       "      <td>1641957.44</td>\n",
       "      <td>1</td>\n",
       "      <td>38.51</td>\n",
       "      <td>2.548</td>\n",
       "      <td>211.242170</td>\n",
       "      <td>8.106</td>\n",
       "      <td>2010</td>\n",
       "      <td>12</td>\n",
       "      <td>2</td>\n",
       "    </tr>\n",
       "    <tr>\n",
       "      <th>31</th>\n",
       "      <td>1</td>\n",
       "      <td>2010-10-09</td>\n",
       "      <td>1507460.69</td>\n",
       "      <td>1</td>\n",
       "      <td>78.69</td>\n",
       "      <td>2.565</td>\n",
       "      <td>211.495190</td>\n",
       "      <td>7.787</td>\n",
       "      <td>2010</td>\n",
       "      <td>10</td>\n",
       "      <td>9</td>\n",
       "    </tr>\n",
       "    <tr>\n",
       "      <th>42</th>\n",
       "      <td>1</td>\n",
       "      <td>2010-11-26</td>\n",
       "      <td>1955624.11</td>\n",
       "      <td>1</td>\n",
       "      <td>64.52</td>\n",
       "      <td>2.735</td>\n",
       "      <td>211.748433</td>\n",
       "      <td>7.838</td>\n",
       "      <td>2010</td>\n",
       "      <td>11</td>\n",
       "      <td>26</td>\n",
       "    </tr>\n",
       "    <tr>\n",
       "      <th>47</th>\n",
       "      <td>1</td>\n",
       "      <td>2010-12-31</td>\n",
       "      <td>1367320.01</td>\n",
       "      <td>1</td>\n",
       "      <td>48.43</td>\n",
       "      <td>2.943</td>\n",
       "      <td>211.404932</td>\n",
       "      <td>7.838</td>\n",
       "      <td>2010</td>\n",
       "      <td>12</td>\n",
       "      <td>31</td>\n",
       "    </tr>\n",
       "    <tr>\n",
       "      <th>53</th>\n",
       "      <td>1</td>\n",
       "      <td>2011-11-02</td>\n",
       "      <td>1649614.93</td>\n",
       "      <td>1</td>\n",
       "      <td>36.39</td>\n",
       "      <td>3.022</td>\n",
       "      <td>212.936705</td>\n",
       "      <td>7.742</td>\n",
       "      <td>2011</td>\n",
       "      <td>11</td>\n",
       "      <td>2</td>\n",
       "    </tr>\n",
       "    <tr>\n",
       "      <th>...</th>\n",
       "      <td>...</td>\n",
       "      <td>...</td>\n",
       "      <td>...</td>\n",
       "      <td>...</td>\n",
       "      <td>...</td>\n",
       "      <td>...</td>\n",
       "      <td>...</td>\n",
       "      <td>...</td>\n",
       "      <td>...</td>\n",
       "      <td>...</td>\n",
       "      <td>...</td>\n",
       "    </tr>\n",
       "    <tr>\n",
       "      <th>5819</th>\n",
       "      <td>41</td>\n",
       "      <td>2011-12-30</td>\n",
       "      <td>1264014.16</td>\n",
       "      <td>1</td>\n",
       "      <td>34.12</td>\n",
       "      <td>3.119</td>\n",
       "      <td>196.358610</td>\n",
       "      <td>6.759</td>\n",
       "      <td>2011</td>\n",
       "      <td>12</td>\n",
       "      <td>30</td>\n",
       "    </tr>\n",
       "    <tr>\n",
       "      <th>5825</th>\n",
       "      <td>41</td>\n",
       "      <td>2012-10-02</td>\n",
       "      <td>1238844.56</td>\n",
       "      <td>1</td>\n",
       "      <td>22.00</td>\n",
       "      <td>3.103</td>\n",
       "      <td>196.919506</td>\n",
       "      <td>6.589</td>\n",
       "      <td>2012</td>\n",
       "      <td>10</td>\n",
       "      <td>2</td>\n",
       "    </tr>\n",
       "    <tr>\n",
       "      <th>5855</th>\n",
       "      <td>41</td>\n",
       "      <td>2012-07-09</td>\n",
       "      <td>1392143.82</td>\n",
       "      <td>1</td>\n",
       "      <td>67.41</td>\n",
       "      <td>3.596</td>\n",
       "      <td>198.095048</td>\n",
       "      <td>6.432</td>\n",
       "      <td>2012</td>\n",
       "      <td>7</td>\n",
       "      <td>9</td>\n",
       "    </tr>\n",
       "    <tr>\n",
       "      <th>6334</th>\n",
       "      <td>45</td>\n",
       "      <td>2010-11-26</td>\n",
       "      <td>1182500.16</td>\n",
       "      <td>1</td>\n",
       "      <td>46.15</td>\n",
       "      <td>3.039</td>\n",
       "      <td>182.783277</td>\n",
       "      <td>8.724</td>\n",
       "      <td>2010</td>\n",
       "      <td>11</td>\n",
       "      <td>26</td>\n",
       "    </tr>\n",
       "    <tr>\n",
       "      <th>6386</th>\n",
       "      <td>45</td>\n",
       "      <td>2011-11-25</td>\n",
       "      <td>1170672.94</td>\n",
       "      <td>1</td>\n",
       "      <td>48.71</td>\n",
       "      <td>3.492</td>\n",
       "      <td>188.350400</td>\n",
       "      <td>8.523</td>\n",
       "      <td>2011</td>\n",
       "      <td>11</td>\n",
       "      <td>25</td>\n",
       "    </tr>\n",
       "  </tbody>\n",
       "</table>\n",
       "<p>220 rows × 11 columns</p>\n",
       "</div>"
      ],
      "text/plain": [
       "      Store       Date  Weekly_Sales  Holiday_Flag  Temperature  Fuel_Price  \\\n",
       "1         1 2010-12-02    1641957.44             1        38.51       2.548   \n",
       "31        1 2010-10-09    1507460.69             1        78.69       2.565   \n",
       "42        1 2010-11-26    1955624.11             1        64.52       2.735   \n",
       "47        1 2010-12-31    1367320.01             1        48.43       2.943   \n",
       "53        1 2011-11-02    1649614.93             1        36.39       3.022   \n",
       "...     ...        ...           ...           ...          ...         ...   \n",
       "5819     41 2011-12-30    1264014.16             1        34.12       3.119   \n",
       "5825     41 2012-10-02    1238844.56             1        22.00       3.103   \n",
       "5855     41 2012-07-09    1392143.82             1        67.41       3.596   \n",
       "6334     45 2010-11-26    1182500.16             1        46.15       3.039   \n",
       "6386     45 2011-11-25    1170672.94             1        48.71       3.492   \n",
       "\n",
       "             CPI  Unemployment  Year  Month  Day  \n",
       "1     211.242170         8.106  2010     12    2  \n",
       "31    211.495190         7.787  2010     10    9  \n",
       "42    211.748433         7.838  2010     11   26  \n",
       "47    211.404932         7.838  2010     12   31  \n",
       "53    212.936705         7.742  2011     11    2  \n",
       "...          ...           ...   ...    ...  ...  \n",
       "5819  196.358610         6.759  2011     12   30  \n",
       "5825  196.919506         6.589  2012     10    2  \n",
       "5855  198.095048         6.432  2012      7    9  \n",
       "6334  182.783277         8.724  2010     11   26  \n",
       "6386  188.350400         8.523  2011     11   25  \n",
       "\n",
       "[220 rows x 11 columns]"
      ]
     },
     "execution_count": 44,
     "metadata": {},
     "output_type": "execute_result"
    }
   ],
   "source": [
    "result"
   ]
  },
  {
   "cell_type": "code",
   "execution_count": 45,
   "id": "51b9b602",
   "metadata": {},
   "outputs": [
    {
     "data": {
      "text/plain": [
       "<bound method Series.unique of 1      2010-12-02\n",
       "31     2010-10-09\n",
       "42     2010-11-26\n",
       "47     2010-12-31\n",
       "53     2011-11-02\n",
       "          ...    \n",
       "5819   2011-12-30\n",
       "5825   2012-10-02\n",
       "5855   2012-07-09\n",
       "6334   2010-11-26\n",
       "6386   2011-11-25\n",
       "Name: Date, Length: 220, dtype: datetime64[ns]>"
      ]
     },
     "execution_count": 45,
     "metadata": {},
     "output_type": "execute_result"
    }
   ],
   "source": [
    "result['Date'].unique"
   ]
  },
  {
   "cell_type": "code",
   "execution_count": 46,
   "id": "c64d32df",
   "metadata": {},
   "outputs": [],
   "source": [
    "Super_Bowl = [ '12-Feb-10', '11-Feb-11', '10-Feb-12', '8-Feb-13']\n",
    "Labour_Day = ['10-Sep-10', '9-Sep-11',' 7-Sep-12', '6-Sep-13']\n",
    "Thanksgiving = ['26-Nov-10', '25-Nov-11', '23-Nov-12', '29-Nov-13']\n",
    "Christmas = ['31-Dec-10', '30-Dec-11', '28-Dec-12', '27-Dec-13']"
   ]
  },
  {
   "cell_type": "code",
   "execution_count": 47,
   "id": "4d7033e0",
   "metadata": {},
   "outputs": [],
   "source": [
    "Super_Bowl_Sales=df.loc[df['Date'].isin(Super_Bowl)]['Weekly_Sales'].mean()\n",
    "Labour_Day_Sales=df.loc[df['Date'].isin(Labour_Day)]['Weekly_Sales'].mean()\n",
    "Thanksgiving_Sales=df.loc[df['Date'].isin(Thanksgiving)]['Weekly_Sales'].mean()\n",
    "Christmas_Sales=df.loc[df['Date'].isin(Christmas)]['Weekly_Sales'].mean()"
   ]
  },
  {
   "cell_type": "code",
   "execution_count": 48,
   "id": "c9d8a932",
   "metadata": {},
   "outputs": [
    {
     "data": {
      "text/html": [
       "<div>\n",
       "<style scoped>\n",
       "    .dataframe tbody tr th:only-of-type {\n",
       "        vertical-align: middle;\n",
       "    }\n",
       "\n",
       "    .dataframe tbody tr th {\n",
       "        vertical-align: top;\n",
       "    }\n",
       "\n",
       "    .dataframe thead th {\n",
       "        text-align: right;\n",
       "    }\n",
       "</style>\n",
       "<table border=\"1\" class=\"dataframe\">\n",
       "  <thead>\n",
       "    <tr style=\"text-align: right;\">\n",
       "      <th></th>\n",
       "      <th>0</th>\n",
       "      <th>1</th>\n",
       "    </tr>\n",
       "  </thead>\n",
       "  <tbody>\n",
       "    <tr>\n",
       "      <th>Super_Bowl_Sales</th>\n",
       "      <td>NaN</td>\n",
       "      <td>NaN</td>\n",
       "    </tr>\n",
       "    <tr>\n",
       "      <th>Labour_Day_Sales</th>\n",
       "      <td>1.039183e+06</td>\n",
       "      <td>NaN</td>\n",
       "    </tr>\n",
       "    <tr>\n",
       "      <th>Thanksgiving_Sales</th>\n",
       "      <td>1.471273e+06</td>\n",
       "      <td>NaN</td>\n",
       "    </tr>\n",
       "    <tr>\n",
       "      <th>Christmas_Sales</th>\n",
       "      <td>9.608331e+05</td>\n",
       "      <td>NaN</td>\n",
       "    </tr>\n",
       "    <tr>\n",
       "      <th>p</th>\n",
       "      <td>NaN</td>\n",
       "      <td>1.041256e+06</td>\n",
       "    </tr>\n",
       "  </tbody>\n",
       "</table>\n",
       "</div>"
      ],
      "text/plain": [
       "                               0             1\n",
       "Super_Bowl_Sales             NaN           NaN\n",
       "Labour_Day_Sales    1.039183e+06           NaN\n",
       "Thanksgiving_Sales  1.471273e+06           NaN\n",
       "Christmas_Sales     9.608331e+05           NaN\n",
       "p                            NaN  1.041256e+06"
      ]
     },
     "execution_count": 48,
     "metadata": {},
     "output_type": "execute_result"
    }
   ],
   "source": [
    "pd.DataFrame([{'Super_Bowl_Sales':Super_Bowl_Sales,\n",
    "              'Labour_Day_Sales':Labour_Day_Sales,\n",
    "              'Thanksgiving_Sales':Thanksgiving_Sales,\n",
    "              'Christmas_Sales':Christmas_Sales},{'p':p}]).T"
   ]
  },
  {
   "cell_type": "code",
   "execution_count": 49,
   "id": "b1cfe8d4",
   "metadata": {},
   "outputs": [],
   "source": [
    "# only Thanksgiving_Sales are grater than non-holiday season sales"
   ]
  },
  {
   "cell_type": "markdown",
   "id": "def84b49",
   "metadata": {},
   "source": [
    "#### 6.Provide a monthly and semester view of sales in units and give insights"
   ]
  },
  {
   "cell_type": "code",
   "execution_count": 50,
   "id": "3856f9e2",
   "metadata": {},
   "outputs": [],
   "source": [
    "df['Semister']=np.where(df['Month']>7,1,2)"
   ]
  },
  {
   "cell_type": "code",
   "execution_count": 51,
   "id": "ccadfcd9",
   "metadata": {},
   "outputs": [
    {
     "data": {
      "text/html": [
       "<div>\n",
       "<style scoped>\n",
       "    .dataframe tbody tr th:only-of-type {\n",
       "        vertical-align: middle;\n",
       "    }\n",
       "\n",
       "    .dataframe tbody tr th {\n",
       "        vertical-align: top;\n",
       "    }\n",
       "\n",
       "    .dataframe thead th {\n",
       "        text-align: right;\n",
       "    }\n",
       "</style>\n",
       "<table border=\"1\" class=\"dataframe\">\n",
       "  <thead>\n",
       "    <tr style=\"text-align: right;\">\n",
       "      <th></th>\n",
       "      <th>Store</th>\n",
       "      <th>Weekly_Sales</th>\n",
       "      <th>Holiday_Flag</th>\n",
       "      <th>Temperature</th>\n",
       "      <th>Fuel_Price</th>\n",
       "      <th>CPI</th>\n",
       "      <th>Unemployment</th>\n",
       "      <th>Year</th>\n",
       "      <th>Month</th>\n",
       "      <th>Day</th>\n",
       "    </tr>\n",
       "    <tr>\n",
       "      <th>Semister</th>\n",
       "      <th></th>\n",
       "      <th></th>\n",
       "      <th></th>\n",
       "      <th></th>\n",
       "      <th></th>\n",
       "      <th></th>\n",
       "      <th></th>\n",
       "      <th></th>\n",
       "      <th></th>\n",
       "      <th></th>\n",
       "    </tr>\n",
       "  </thead>\n",
       "  <tbody>\n",
       "    <tr>\n",
       "      <th>1</th>\n",
       "      <td>23.0</td>\n",
       "      <td>1.078900e+06</td>\n",
       "      <td>0.155172</td>\n",
       "      <td>60.636126</td>\n",
       "      <td>3.328449</td>\n",
       "      <td>171.682138</td>\n",
       "      <td>7.992160</td>\n",
       "      <td>2010.862069</td>\n",
       "      <td>9.896552</td>\n",
       "      <td>15.741379</td>\n",
       "    </tr>\n",
       "    <tr>\n",
       "      <th>2</th>\n",
       "      <td>23.0</td>\n",
       "      <td>1.025174e+06</td>\n",
       "      <td>0.011765</td>\n",
       "      <td>60.682654</td>\n",
       "      <td>3.379185</td>\n",
       "      <td>171.507604</td>\n",
       "      <td>8.003922</td>\n",
       "      <td>2011.035294</td>\n",
       "      <td>4.141176</td>\n",
       "      <td>15.588235</td>\n",
       "    </tr>\n",
       "  </tbody>\n",
       "</table>\n",
       "</div>"
      ],
      "text/plain": [
       "          Store  Weekly_Sales  Holiday_Flag  Temperature  Fuel_Price  \\\n",
       "Semister                                                               \n",
       "1          23.0  1.078900e+06      0.155172    60.636126    3.328449   \n",
       "2          23.0  1.025174e+06      0.011765    60.682654    3.379185   \n",
       "\n",
       "                 CPI  Unemployment         Year     Month        Day  \n",
       "Semister                                                              \n",
       "1         171.682138      7.992160  2010.862069  9.896552  15.741379  \n",
       "2         171.507604      8.003922  2011.035294  4.141176  15.588235  "
      ]
     },
     "execution_count": 51,
     "metadata": {},
     "output_type": "execute_result"
    }
   ],
   "source": [
    "df.groupby(df['Semister']).mean()"
   ]
  },
  {
   "cell_type": "code",
   "execution_count": 52,
   "id": "c84d62a8",
   "metadata": {},
   "outputs": [
    {
     "data": {
      "text/html": [
       "<div>\n",
       "<style scoped>\n",
       "    .dataframe tbody tr th:only-of-type {\n",
       "        vertical-align: middle;\n",
       "    }\n",
       "\n",
       "    .dataframe tbody tr th {\n",
       "        vertical-align: top;\n",
       "    }\n",
       "\n",
       "    .dataframe thead th {\n",
       "        text-align: right;\n",
       "    }\n",
       "</style>\n",
       "<table border=\"1\" class=\"dataframe\">\n",
       "  <thead>\n",
       "    <tr style=\"text-align: right;\">\n",
       "      <th></th>\n",
       "      <th>Store</th>\n",
       "      <th>Date</th>\n",
       "      <th>Weekly_Sales</th>\n",
       "      <th>Holiday_Flag</th>\n",
       "      <th>Temperature</th>\n",
       "      <th>Fuel_Price</th>\n",
       "      <th>CPI</th>\n",
       "      <th>Unemployment</th>\n",
       "      <th>Year</th>\n",
       "      <th>Month</th>\n",
       "      <th>Day</th>\n",
       "    </tr>\n",
       "    <tr>\n",
       "      <th>Semister</th>\n",
       "      <th></th>\n",
       "      <th></th>\n",
       "      <th></th>\n",
       "      <th></th>\n",
       "      <th></th>\n",
       "      <th></th>\n",
       "      <th></th>\n",
       "      <th></th>\n",
       "      <th></th>\n",
       "      <th></th>\n",
       "      <th></th>\n",
       "    </tr>\n",
       "  </thead>\n",
       "  <tbody>\n",
       "    <tr>\n",
       "      <th>1</th>\n",
       "      <td>2610</td>\n",
       "      <td>2610</td>\n",
       "      <td>2610</td>\n",
       "      <td>2610</td>\n",
       "      <td>2610</td>\n",
       "      <td>2610</td>\n",
       "      <td>2610</td>\n",
       "      <td>2610</td>\n",
       "      <td>2610</td>\n",
       "      <td>2610</td>\n",
       "      <td>2610</td>\n",
       "    </tr>\n",
       "    <tr>\n",
       "      <th>2</th>\n",
       "      <td>3825</td>\n",
       "      <td>3825</td>\n",
       "      <td>3825</td>\n",
       "      <td>3825</td>\n",
       "      <td>3825</td>\n",
       "      <td>3825</td>\n",
       "      <td>3825</td>\n",
       "      <td>3825</td>\n",
       "      <td>3825</td>\n",
       "      <td>3825</td>\n",
       "      <td>3825</td>\n",
       "    </tr>\n",
       "  </tbody>\n",
       "</table>\n",
       "</div>"
      ],
      "text/plain": [
       "          Store  Date  Weekly_Sales  Holiday_Flag  Temperature  Fuel_Price  \\\n",
       "Semister                                                                     \n",
       "1          2610  2610          2610          2610         2610        2610   \n",
       "2          3825  3825          3825          3825         3825        3825   \n",
       "\n",
       "           CPI  Unemployment  Year  Month   Day  \n",
       "Semister                                         \n",
       "1         2610          2610  2610   2610  2610  \n",
       "2         3825          3825  3825   3825  3825  "
      ]
     },
     "execution_count": 52,
     "metadata": {},
     "output_type": "execute_result"
    }
   ],
   "source": [
    "df.groupby(df['Semister']).count()"
   ]
  },
  {
   "cell_type": "code",
   "execution_count": 53,
   "id": "2e748c12",
   "metadata": {},
   "outputs": [
    {
     "data": {
      "text/plain": [
       "<AxesSubplot:xlabel='Semister', ylabel='Weekly_Sales'>"
      ]
     },
     "execution_count": 53,
     "metadata": {},
     "output_type": "execute_result"
    },
    {
     "data": {
      "image/png": "[encoded data removed]",
      "text/plain": [
       "<Figure size 360x360 with 1 Axes>"
      ]
     },
     "metadata": {
      "needs_background": "light"
     },
     "output_type": "display_data"
    }
   ],
   "source": [
    "plt.figure(figsize=(5,5))\n",
    "sns.barplot(x='Semister',y='Weekly_Sales',data=df)"
   ]
  },
  {
   "cell_type": "markdown",
   "id": "3ac04876",
   "metadata": {},
   "source": [
    "#### 7.Linear Regression – Utilize variables like date and restructure dates as 1 for 5 Feb 2010 (starting from the earliest date in order). Hypothesize if CPI, unemployment, and fuel price have any impact on sales."
   ]
  },
  {
   "cell_type": "code",
   "execution_count": 54,
   "id": "3264fba3",
   "metadata": {},
   "outputs": [],
   "source": [
    "df_store1=df[df['Store']==1]"
   ]
  },
  {
   "cell_type": "code",
   "execution_count": 55,
   "id": "40b08510",
   "metadata": {},
   "outputs": [
    {
     "data": {
      "text/html": [
       "<div>\n",
       "<style scoped>\n",
       "    .dataframe tbody tr th:only-of-type {\n",
       "        vertical-align: middle;\n",
       "    }\n",
       "\n",
       "    .dataframe tbody tr th {\n",
       "        vertical-align: top;\n",
       "    }\n",
       "\n",
       "    .dataframe thead th {\n",
       "        text-align: right;\n",
       "    }\n",
       "</style>\n",
       "<table border=\"1\" class=\"dataframe\">\n",
       "  <thead>\n",
       "    <tr style=\"text-align: right;\">\n",
       "      <th></th>\n",
       "      <th>Store</th>\n",
       "      <th>Date</th>\n",
       "      <th>Weekly_Sales</th>\n",
       "      <th>Holiday_Flag</th>\n",
       "      <th>Temperature</th>\n",
       "      <th>Fuel_Price</th>\n",
       "      <th>CPI</th>\n",
       "      <th>Unemployment</th>\n",
       "      <th>Year</th>\n",
       "      <th>Month</th>\n",
       "      <th>Day</th>\n",
       "      <th>Semister</th>\n",
       "    </tr>\n",
       "  </thead>\n",
       "  <tbody>\n",
       "    <tr>\n",
       "      <th>0</th>\n",
       "      <td>1</td>\n",
       "      <td>2010-05-02</td>\n",
       "      <td>1643690.90</td>\n",
       "      <td>0</td>\n",
       "      <td>42.31</td>\n",
       "      <td>2.572</td>\n",
       "      <td>211.096358</td>\n",
       "      <td>8.106</td>\n",
       "      <td>2010</td>\n",
       "      <td>5</td>\n",
       "      <td>2</td>\n",
       "      <td>2</td>\n",
       "    </tr>\n",
       "    <tr>\n",
       "      <th>1</th>\n",
       "      <td>1</td>\n",
       "      <td>2010-12-02</td>\n",
       "      <td>1641957.44</td>\n",
       "      <td>1</td>\n",
       "      <td>38.51</td>\n",
       "      <td>2.548</td>\n",
       "      <td>211.242170</td>\n",
       "      <td>8.106</td>\n",
       "      <td>2010</td>\n",
       "      <td>12</td>\n",
       "      <td>2</td>\n",
       "      <td>1</td>\n",
       "    </tr>\n",
       "    <tr>\n",
       "      <th>2</th>\n",
       "      <td>1</td>\n",
       "      <td>2010-02-19</td>\n",
       "      <td>1611968.17</td>\n",
       "      <td>0</td>\n",
       "      <td>39.93</td>\n",
       "      <td>2.514</td>\n",
       "      <td>211.289143</td>\n",
       "      <td>8.106</td>\n",
       "      <td>2010</td>\n",
       "      <td>2</td>\n",
       "      <td>19</td>\n",
       "      <td>2</td>\n",
       "    </tr>\n",
       "    <tr>\n",
       "      <th>3</th>\n",
       "      <td>1</td>\n",
       "      <td>2010-02-26</td>\n",
       "      <td>1409727.59</td>\n",
       "      <td>0</td>\n",
       "      <td>46.63</td>\n",
       "      <td>2.561</td>\n",
       "      <td>211.319643</td>\n",
       "      <td>8.106</td>\n",
       "      <td>2010</td>\n",
       "      <td>2</td>\n",
       "      <td>26</td>\n",
       "      <td>2</td>\n",
       "    </tr>\n",
       "    <tr>\n",
       "      <th>4</th>\n",
       "      <td>1</td>\n",
       "      <td>2010-05-03</td>\n",
       "      <td>1554806.68</td>\n",
       "      <td>0</td>\n",
       "      <td>46.50</td>\n",
       "      <td>2.625</td>\n",
       "      <td>211.350143</td>\n",
       "      <td>8.106</td>\n",
       "      <td>2010</td>\n",
       "      <td>5</td>\n",
       "      <td>3</td>\n",
       "      <td>2</td>\n",
       "    </tr>\n",
       "    <tr>\n",
       "      <th>...</th>\n",
       "      <td>...</td>\n",
       "      <td>...</td>\n",
       "      <td>...</td>\n",
       "      <td>...</td>\n",
       "      <td>...</td>\n",
       "      <td>...</td>\n",
       "      <td>...</td>\n",
       "      <td>...</td>\n",
       "      <td>...</td>\n",
       "      <td>...</td>\n",
       "      <td>...</td>\n",
       "      <td>...</td>\n",
       "    </tr>\n",
       "    <tr>\n",
       "      <th>138</th>\n",
       "      <td>1</td>\n",
       "      <td>2012-09-28</td>\n",
       "      <td>1437059.26</td>\n",
       "      <td>0</td>\n",
       "      <td>76.08</td>\n",
       "      <td>3.666</td>\n",
       "      <td>222.981658</td>\n",
       "      <td>6.908</td>\n",
       "      <td>2012</td>\n",
       "      <td>9</td>\n",
       "      <td>28</td>\n",
       "      <td>1</td>\n",
       "    </tr>\n",
       "    <tr>\n",
       "      <th>139</th>\n",
       "      <td>1</td>\n",
       "      <td>2012-05-10</td>\n",
       "      <td>1670785.97</td>\n",
       "      <td>0</td>\n",
       "      <td>68.55</td>\n",
       "      <td>3.617</td>\n",
       "      <td>223.181477</td>\n",
       "      <td>6.573</td>\n",
       "      <td>2012</td>\n",
       "      <td>5</td>\n",
       "      <td>10</td>\n",
       "      <td>2</td>\n",
       "    </tr>\n",
       "    <tr>\n",
       "      <th>140</th>\n",
       "      <td>1</td>\n",
       "      <td>2012-12-10</td>\n",
       "      <td>1573072.81</td>\n",
       "      <td>0</td>\n",
       "      <td>62.99</td>\n",
       "      <td>3.601</td>\n",
       "      <td>223.381296</td>\n",
       "      <td>6.573</td>\n",
       "      <td>2012</td>\n",
       "      <td>12</td>\n",
       "      <td>10</td>\n",
       "      <td>1</td>\n",
       "    </tr>\n",
       "    <tr>\n",
       "      <th>141</th>\n",
       "      <td>1</td>\n",
       "      <td>2012-10-19</td>\n",
       "      <td>1508068.77</td>\n",
       "      <td>0</td>\n",
       "      <td>67.97</td>\n",
       "      <td>3.594</td>\n",
       "      <td>223.425723</td>\n",
       "      <td>6.573</td>\n",
       "      <td>2012</td>\n",
       "      <td>10</td>\n",
       "      <td>19</td>\n",
       "      <td>1</td>\n",
       "    </tr>\n",
       "    <tr>\n",
       "      <th>142</th>\n",
       "      <td>1</td>\n",
       "      <td>2012-10-26</td>\n",
       "      <td>1493659.74</td>\n",
       "      <td>0</td>\n",
       "      <td>69.16</td>\n",
       "      <td>3.506</td>\n",
       "      <td>223.444251</td>\n",
       "      <td>6.573</td>\n",
       "      <td>2012</td>\n",
       "      <td>10</td>\n",
       "      <td>26</td>\n",
       "      <td>1</td>\n",
       "    </tr>\n",
       "  </tbody>\n",
       "</table>\n",
       "<p>143 rows × 12 columns</p>\n",
       "</div>"
      ],
      "text/plain": [
       "     Store       Date  Weekly_Sales  Holiday_Flag  Temperature  Fuel_Price  \\\n",
       "0        1 2010-05-02    1643690.90             0        42.31       2.572   \n",
       "1        1 2010-12-02    1641957.44             1        38.51       2.548   \n",
       "2        1 2010-02-19    1611968.17             0        39.93       2.514   \n",
       "3        1 2010-02-26    1409727.59             0        46.63       2.561   \n",
       "4        1 2010-05-03    1554806.68             0        46.50       2.625   \n",
       "..     ...        ...           ...           ...          ...         ...   \n",
       "138      1 2012-09-28    1437059.26             0        76.08       3.666   \n",
       "139      1 2012-05-10    1670785.97             0        68.55       3.617   \n",
       "140      1 2012-12-10    1573072.81             0        62.99       3.601   \n",
       "141      1 2012-10-19    1508068.77             0        67.97       3.594   \n",
       "142      1 2012-10-26    1493659.74             0        69.16       3.506   \n",
       "\n",
       "            CPI  Unemployment  Year  Month  Day  Semister  \n",
       "0    211.096358         8.106  2010      5    2         2  \n",
       "1    211.242170         8.106  2010     12    2         1  \n",
       "2    211.289143         8.106  2010      2   19         2  \n",
       "3    211.319643         8.106  2010      2   26         2  \n",
       "4    211.350143         8.106  2010      5    3         2  \n",
       "..          ...           ...   ...    ...  ...       ...  \n",
       "138  222.981658         6.908  2012      9   28         1  \n",
       "139  223.181477         6.573  2012      5   10         2  \n",
       "140  223.381296         6.573  2012     12   10         1  \n",
       "141  223.425723         6.573  2012     10   19         1  \n",
       "142  223.444251         6.573  2012     10   26         1  \n",
       "\n",
       "[143 rows x 12 columns]"
      ]
     },
     "execution_count": 55,
     "metadata": {},
     "output_type": "execute_result"
    }
   ],
   "source": [
    "df_store1"
   ]
  },
  {
   "cell_type": "code",
   "execution_count": 56,
   "id": "fcc00082",
   "metadata": {},
   "outputs": [],
   "source": [
    "from scipy import stats"
   ]
  },
  {
   "cell_type": "code",
   "execution_count": 57,
   "id": "2eab22da",
   "metadata": {},
   "outputs": [
    {
     "data": {
      "image/png": "[encoded data removed]",
      "text/plain": [
       "<Figure size 576x360 with 1 Axes>"
      ]
     },
     "metadata": {
      "needs_background": "light"
     },
     "output_type": "display_data"
    },
    {
     "name": "stdout",
     "output_type": "stream",
     "text": [
      "0.12459158039045631\n"
     ]
    },
    {
     "data": {
      "image/png": "[encoded data removed]",
      "text/plain": [
       "<Figure size 576x360 with 1 Axes>"
      ]
     },
     "metadata": {
      "needs_background": "light"
     },
     "output_type": "display_data"
    }
   ],
   "source": [
    "plt.figure(figsize=(8,5))\n",
    "x=df_store1['Fuel_Price']\n",
    "y=df_store1['Weekly_Sales']\n",
    "plt.scatter(x,y)\n",
    "plt.show()\n",
    "plt.figure(figsize=(8,5))\n",
    "slope,intercept,r,p,std_err=stats.linregress(x,y)\n",
    "print(r)\n",
    "def myfunc(x):\n",
    "    return slope*x+intercept\n",
    "mymodel=list(map(myfunc,x))\n",
    "plt.scatter(x,y)\n",
    "plt.plot(x,mymodel,color='r')\n",
    "plt.show()"
   ]
  },
  {
   "cell_type": "code",
   "execution_count": 58,
   "id": "5ff47209",
   "metadata": {},
   "outputs": [
    {
     "data": {
      "image/png": "[encoded data removed]",
      "text/plain": [
       "<Figure size 576x360 with 1 Axes>"
      ]
     },
     "metadata": {
      "needs_background": "light"
     },
     "output_type": "display_data"
    },
    {
     "name": "stdout",
     "output_type": "stream",
     "text": [
      "0.22540765942904453\n"
     ]
    },
    {
     "data": {
      "image/png": "[encoded data removed]",
      "text/plain": [
       "<Figure size 576x360 with 1 Axes>"
      ]
     },
     "metadata": {
      "needs_background": "light"
     },
     "output_type": "display_data"
    }
   ],
   "source": [
    "plt.figure(figsize=(8,5))\n",
    "x=df_store1['CPI']\n",
    "y=df_store1['Weekly_Sales']\n",
    "plt.scatter(x,y)\n",
    "plt.show()\n",
    "\n",
    "plt.figure(figsize=(8,5))\n",
    "slope,intercept,r,p,std_err=stats.linregress(x,y)\n",
    "print(r)\n",
    "def myfunc(x):\n",
    "    return slope*x+intercept\n",
    "mymodel=list(map(myfunc,x))\n",
    "plt.scatter(x,y)\n",
    "plt.plot(x,mymodel,color='green')\n",
    "plt.show()"
   ]
  },
  {
   "cell_type": "code",
   "execution_count": 59,
   "id": "db9e0cff",
   "metadata": {},
   "outputs": [
    {
     "data": {
      "image/png": "[encoded data removed]",
      "text/plain": [
       "<Figure size 576x360 with 1 Axes>"
      ]
     },
     "metadata": {
      "needs_background": "light"
     },
     "output_type": "display_data"
    },
    {
     "name": "stdout",
     "output_type": "stream",
     "text": [
      "-0.09795539472957951\n"
     ]
    },
    {
     "data": {
      "image/png": "[encoded data removed]",
      "text/plain": [
       "<Figure size 576x360 with 1 Axes>"
      ]
     },
     "metadata": {
      "needs_background": "light"
     },
     "output_type": "display_data"
    }
   ],
   "source": [
    "plt.figure(figsize=(8,5))\n",
    "x=df_store1['Unemployment']\n",
    "y=df_store1['Weekly_Sales']\n",
    "plt.scatter(x,y)\n",
    "plt.show()\n",
    "\n",
    "plt.figure(figsize=(8,5))\n",
    "slope,intercept,r,p,std_err=stats.linregress(x,y)\n",
    "print(r)\n",
    "def myfunc(x):\n",
    "    return slope*x+intercept\n",
    "mymodel=list(map(myfunc,x))\n",
    "plt.scatter(x,y)\n",
    "plt.plot(x,mymodel,color='k')\n",
    "plt.show()"
   ]
  },
  {
   "cell_type": "code",
   "execution_count": 60,
   "id": "d76fe4a0",
   "metadata": {},
   "outputs": [],
   "source": [
    "X=df_store1[['Unemployment','CPI','Fuel_Price']]\n",
    "y=df_store1['Weekly_Sales']"
   ]
  },
  {
   "cell_type": "code",
   "execution_count": 61,
   "id": "a3512234",
   "metadata": {},
   "outputs": [],
   "source": [
    "from sklearn.model_selection import train_test_split\n",
    "X_train,X_test,y_train,y_test=train_test_split(X,y,test_size=0.25,random_state=42)"
   ]
  },
  {
   "cell_type": "code",
   "execution_count": 62,
   "id": "45c66aa7",
   "metadata": {},
   "outputs": [
    {
     "data": {
      "text/plain": [
       "LinearRegression()"
      ]
     },
     "execution_count": 62,
     "metadata": {},
     "output_type": "execute_result"
    }
   ],
   "source": [
    "from sklearn.linear_model import LinearRegression\n",
    "model=LinearRegression()\n",
    "model.fit(X_train,y_train)"
   ]
  },
  {
   "cell_type": "code",
   "execution_count": 63,
   "id": "ca8db609",
   "metadata": {},
   "outputs": [],
   "source": [
    "y_pred=model.predict(X_test)"
   ]
  },
  {
   "cell_type": "code",
   "execution_count": 64,
   "id": "dfa33587",
   "metadata": {},
   "outputs": [],
   "source": [
    "predicted=pd.DataFrame({'Actual':y_test,'Predicted':y_pred})"
   ]
  },
  {
   "cell_type": "code",
   "execution_count": 65,
   "id": "5568e0e2",
   "metadata": {},
   "outputs": [
    {
     "data": {
      "text/html": [
       "<div>\n",
       "<style scoped>\n",
       "    .dataframe tbody tr th:only-of-type {\n",
       "        vertical-align: middle;\n",
       "    }\n",
       "\n",
       "    .dataframe tbody tr th {\n",
       "        vertical-align: top;\n",
       "    }\n",
       "\n",
       "    .dataframe thead th {\n",
       "        text-align: right;\n",
       "    }\n",
       "</style>\n",
       "<table border=\"1\" class=\"dataframe\">\n",
       "  <thead>\n",
       "    <tr style=\"text-align: right;\">\n",
       "      <th></th>\n",
       "      <th>Actual</th>\n",
       "      <th>Predicted</th>\n",
       "    </tr>\n",
       "  </thead>\n",
       "  <tbody>\n",
       "    <tr>\n",
       "      <th>117</th>\n",
       "      <td>1684519.99</td>\n",
       "      <td>1.564280e+06</td>\n",
       "    </tr>\n",
       "    <tr>\n",
       "      <th>19</th>\n",
       "      <td>1503284.06</td>\n",
       "      <td>1.523577e+06</td>\n",
       "    </tr>\n",
       "    <tr>\n",
       "      <th>82</th>\n",
       "      <td>1550229.22</td>\n",
       "      <td>1.528848e+06</td>\n",
       "    </tr>\n",
       "    <tr>\n",
       "      <th>97</th>\n",
       "      <td>1881176.67</td>\n",
       "      <td>1.570532e+06</td>\n",
       "    </tr>\n",
       "    <tr>\n",
       "      <th>56</th>\n",
       "      <td>1636263.41</td>\n",
       "      <td>1.519304e+06</td>\n",
       "    </tr>\n",
       "    <tr>\n",
       "      <th>12</th>\n",
       "      <td>1425100.71</td>\n",
       "      <td>1.509291e+06</td>\n",
       "    </tr>\n",
       "    <tr>\n",
       "      <th>131</th>\n",
       "      <td>1592409.97</td>\n",
       "      <td>1.574187e+06</td>\n",
       "    </tr>\n",
       "    <tr>\n",
       "      <th>65</th>\n",
       "      <td>1629391.28</td>\n",
       "      <td>1.512917e+06</td>\n",
       "    </tr>\n",
       "    <tr>\n",
       "      <th>66</th>\n",
       "      <td>1604775.58</td>\n",
       "      <td>1.514602e+06</td>\n",
       "    </tr>\n",
       "    <tr>\n",
       "      <th>18</th>\n",
       "      <td>1542561.09</td>\n",
       "      <td>1.522460e+06</td>\n",
       "    </tr>\n",
       "    <tr>\n",
       "      <th>51</th>\n",
       "      <td>1316899.31</td>\n",
       "      <td>1.515683e+06</td>\n",
       "    </tr>\n",
       "    <tr>\n",
       "      <th>78</th>\n",
       "      <td>1624383.75</td>\n",
       "      <td>1.521165e+06</td>\n",
       "    </tr>\n",
       "    <tr>\n",
       "      <th>94</th>\n",
       "      <td>2033320.66</td>\n",
       "      <td>1.561661e+06</td>\n",
       "    </tr>\n",
       "    <tr>\n",
       "      <th>132</th>\n",
       "      <td>1597868.05</td>\n",
       "      <td>1.572042e+06</td>\n",
       "    </tr>\n",
       "    <tr>\n",
       "      <th>100</th>\n",
       "      <td>1550369.92</td>\n",
       "      <td>1.571003e+06</td>\n",
       "    </tr>\n",
       "    <tr>\n",
       "      <th>64</th>\n",
       "      <td>1455090.69</td>\n",
       "      <td>1.515010e+06</td>\n",
       "    </tr>\n",
       "    <tr>\n",
       "      <th>27</th>\n",
       "      <td>1508237.76</td>\n",
       "      <td>1.522969e+06</td>\n",
       "    </tr>\n",
       "    <tr>\n",
       "      <th>69</th>\n",
       "      <td>1635078.41</td>\n",
       "      <td>1.516071e+06</td>\n",
       "    </tr>\n",
       "    <tr>\n",
       "      <th>125</th>\n",
       "      <td>1540421.49</td>\n",
       "      <td>1.582719e+06</td>\n",
       "    </tr>\n",
       "    <tr>\n",
       "      <th>73</th>\n",
       "      <td>1488538.09</td>\n",
       "      <td>1.523971e+06</td>\n",
       "    </tr>\n",
       "    <tr>\n",
       "      <th>11</th>\n",
       "      <td>1391256.12</td>\n",
       "      <td>1.509162e+06</td>\n",
       "    </tr>\n",
       "    <tr>\n",
       "      <th>119</th>\n",
       "      <td>1595901.87</td>\n",
       "      <td>1.569247e+06</td>\n",
       "    </tr>\n",
       "    <tr>\n",
       "      <th>110</th>\n",
       "      <td>1677472.78</td>\n",
       "      <td>1.562564e+06</td>\n",
       "    </tr>\n",
       "    <tr>\n",
       "      <th>113</th>\n",
       "      <td>1899676.88</td>\n",
       "      <td>1.557066e+06</td>\n",
       "    </tr>\n",
       "    <tr>\n",
       "      <th>55</th>\n",
       "      <td>1456800.28</td>\n",
       "      <td>1.525038e+06</td>\n",
       "    </tr>\n",
       "    <tr>\n",
       "      <th>45</th>\n",
       "      <td>1891034.93</td>\n",
       "      <td>1.514897e+06</td>\n",
       "    </tr>\n",
       "    <tr>\n",
       "      <th>9</th>\n",
       "      <td>1545418.53</td>\n",
       "      <td>1.511640e+06</td>\n",
       "    </tr>\n",
       "    <tr>\n",
       "      <th>4</th>\n",
       "      <td>1554806.68</td>\n",
       "      <td>1.525522e+06</td>\n",
       "    </tr>\n",
       "    <tr>\n",
       "      <th>26</th>\n",
       "      <td>1605491.78</td>\n",
       "      <td>1.524208e+06</td>\n",
       "    </tr>\n",
       "    <tr>\n",
       "      <th>124</th>\n",
       "      <td>1527845.81</td>\n",
       "      <td>1.580176e+06</td>\n",
       "    </tr>\n",
       "    <tr>\n",
       "      <th>31</th>\n",
       "      <td>1507460.69</td>\n",
       "      <td>1.526402e+06</td>\n",
       "    </tr>\n",
       "    <tr>\n",
       "      <th>98</th>\n",
       "      <td>2270188.99</td>\n",
       "      <td>1.573771e+06</td>\n",
       "    </tr>\n",
       "    <tr>\n",
       "      <th>36</th>\n",
       "      <td>1459409.10</td>\n",
       "      <td>1.523832e+06</td>\n",
       "    </tr>\n",
       "    <tr>\n",
       "      <th>16</th>\n",
       "      <td>1432069.95</td>\n",
       "      <td>1.514371e+06</td>\n",
       "    </tr>\n",
       "    <tr>\n",
       "      <th>10</th>\n",
       "      <td>1466058.28</td>\n",
       "      <td>1.509107e+06</td>\n",
       "    </tr>\n",
       "    <tr>\n",
       "      <th>93</th>\n",
       "      <td>1539483.70</td>\n",
       "      <td>1.556921e+06</td>\n",
       "    </tr>\n",
       "  </tbody>\n",
       "</table>\n",
       "</div>"
      ],
      "text/plain": [
       "         Actual     Predicted\n",
       "117  1684519.99  1.564280e+06\n",
       "19   1503284.06  1.523577e+06\n",
       "82   1550229.22  1.528848e+06\n",
       "97   1881176.67  1.570532e+06\n",
       "56   1636263.41  1.519304e+06\n",
       "12   1425100.71  1.509291e+06\n",
       "131  1592409.97  1.574187e+06\n",
       "65   1629391.28  1.512917e+06\n",
       "66   1604775.58  1.514602e+06\n",
       "18   1542561.09  1.522460e+06\n",
       "51   1316899.31  1.515683e+06\n",
       "78   1624383.75  1.521165e+06\n",
       "94   2033320.66  1.561661e+06\n",
       "132  1597868.05  1.572042e+06\n",
       "100  1550369.92  1.571003e+06\n",
       "64   1455090.69  1.515010e+06\n",
       "27   1508237.76  1.522969e+06\n",
       "69   1635078.41  1.516071e+06\n",
       "125  1540421.49  1.582719e+06\n",
       "73   1488538.09  1.523971e+06\n",
       "11   1391256.12  1.509162e+06\n",
       "119  1595901.87  1.569247e+06\n",
       "110  1677472.78  1.562564e+06\n",
       "113  1899676.88  1.557066e+06\n",
       "55   1456800.28  1.525038e+06\n",
       "45   1891034.93  1.514897e+06\n",
       "9    1545418.53  1.511640e+06\n",
       "4    1554806.68  1.525522e+06\n",
       "26   1605491.78  1.524208e+06\n",
       "124  1527845.81  1.580176e+06\n",
       "31   1507460.69  1.526402e+06\n",
       "98   2270188.99  1.573771e+06\n",
       "36   1459409.10  1.523832e+06\n",
       "16   1432069.95  1.514371e+06\n",
       "10   1466058.28  1.509107e+06\n",
       "93   1539483.70  1.556921e+06"
      ]
     },
     "execution_count": 65,
     "metadata": {},
     "output_type": "execute_result"
    }
   ],
   "source": [
    "predicted"
   ]
  },
  {
   "cell_type": "markdown",
   "id": "bbf64568",
   "metadata": {},
   "source": [
    "#### 8. Change dates into days by creating new variable."
   ]
  },
  {
   "cell_type": "code",
   "execution_count": 66,
   "id": "ed00d1da",
   "metadata": {},
   "outputs": [
    {
     "data": {
      "text/plain": [
       "array([ 2, 19, 26,  3,  4, 16, 23, 30,  5, 14, 21, 28,  6, 18, 25,  7,  8,\n",
       "       13, 20, 27,  9, 17, 24, 10, 15, 22, 29, 11, 12, 31,  1],\n",
       "      dtype=int64)"
      ]
     },
     "execution_count": 66,
     "metadata": {},
     "output_type": "execute_result"
    }
   ],
   "source": [
    "df['Day'].unique()"
   ]
  },
  {
   "cell_type": "code",
   "execution_count": 67,
   "id": "d5750c7d",
   "metadata": {},
   "outputs": [
    {
     "data": {
      "text/plain": [
       "array(['02', '19', '26', '03', '04', '16', '23', '30', '05', '14', '21',\n",
       "       '28', '06', '18', '25', '07', '08', '13', '20', '27', '09', '17',\n",
       "       '24', '10', '15', '22', '29', '11', '12', '31', '01'], dtype=object)"
      ]
     },
     "execution_count": 67,
     "metadata": {},
     "output_type": "execute_result"
    }
   ],
   "source": [
    "df['Date'].dt.strftime('%d').unique()"
   ]
  },
  {
   "cell_type": "markdown",
   "id": "daf1433c",
   "metadata": {},
   "source": [
    "#### 9. Select the model which gives best accuracy."
   ]
  },
  {
   "cell_type": "code",
   "execution_count": 68,
   "id": "3094b796",
   "metadata": {},
   "outputs": [],
   "source": [
    "from sklearn import metrics"
   ]
  },
  {
   "cell_type": "code",
   "execution_count": 69,
   "id": "d5e65f9b",
   "metadata": {},
   "outputs": [
    {
     "name": "stdout",
     "output_type": "stream",
     "text": [
      "MAE:  115996.98583346052\n",
      "MSE:  34746792222.784775\n",
      "RMSE:  186404.91469589737\n"
     ]
    }
   ],
   "source": [
    "print('MAE: ',metrics.mean_absolute_error(y_test,y_pred))\n",
    "print('MSE: ',metrics.mean_squared_error(y_test,y_pred))\n",
    "print('RMSE: ',np.sqrt(metrics.mean_squared_error(y_test,y_pred)))"
   ]
  },
  {
   "cell_type": "code",
   "execution_count": 70,
   "id": "838615c2",
   "metadata": {},
   "outputs": [],
   "source": [
    "experiment_day_start=5\n",
    "df_store1['date'] = pd.to_datetime(df_store1['Date'], dayfirst=True)\n",
    "df_store1['exp_day'] = (df_store1['date']-df_store1['Date'].min()).dt.days + experiment_day_start"
   ]
  },
  {
   "cell_type": "code",
   "execution_count": 71,
   "id": "0665fe9e",
   "metadata": {},
   "outputs": [
    {
     "data": {
      "text/html": [
       "<div>\n",
       "<style scoped>\n",
       "    .dataframe tbody tr th:only-of-type {\n",
       "        vertical-align: middle;\n",
       "    }\n",
       "\n",
       "    .dataframe tbody tr th {\n",
       "        vertical-align: top;\n",
       "    }\n",
       "\n",
       "    .dataframe thead th {\n",
       "        text-align: right;\n",
       "    }\n",
       "</style>\n",
       "<table border=\"1\" class=\"dataframe\">\n",
       "  <thead>\n",
       "    <tr style=\"text-align: right;\">\n",
       "      <th></th>\n",
       "      <th>Store</th>\n",
       "      <th>Date</th>\n",
       "      <th>Weekly_Sales</th>\n",
       "      <th>Holiday_Flag</th>\n",
       "      <th>Temperature</th>\n",
       "      <th>Fuel_Price</th>\n",
       "      <th>CPI</th>\n",
       "      <th>Unemployment</th>\n",
       "      <th>Year</th>\n",
       "      <th>Month</th>\n",
       "      <th>Day</th>\n",
       "      <th>Semister</th>\n",
       "      <th>date</th>\n",
       "      <th>exp_day</th>\n",
       "    </tr>\n",
       "  </thead>\n",
       "  <tbody>\n",
       "    <tr>\n",
       "      <th>34</th>\n",
       "      <td>1</td>\n",
       "      <td>2010-01-10</td>\n",
       "      <td>1453329.50</td>\n",
       "      <td>0</td>\n",
       "      <td>71.89</td>\n",
       "      <td>2.603</td>\n",
       "      <td>211.671989</td>\n",
       "      <td>7.838</td>\n",
       "      <td>2010</td>\n",
       "      <td>1</td>\n",
       "      <td>10</td>\n",
       "      <td>2</td>\n",
       "      <td>2010-01-10</td>\n",
       "      <td>5</td>\n",
       "    </tr>\n",
       "    <tr>\n",
       "      <th>8</th>\n",
       "      <td>1</td>\n",
       "      <td>2010-02-04</td>\n",
       "      <td>1594968.28</td>\n",
       "      <td>0</td>\n",
       "      <td>62.27</td>\n",
       "      <td>2.719</td>\n",
       "      <td>210.820450</td>\n",
       "      <td>7.808</td>\n",
       "      <td>2010</td>\n",
       "      <td>2</td>\n",
       "      <td>4</td>\n",
       "      <td>2</td>\n",
       "      <td>2010-02-04</td>\n",
       "      <td>30</td>\n",
       "    </tr>\n",
       "    <tr>\n",
       "      <th>21</th>\n",
       "      <td>1</td>\n",
       "      <td>2010-02-07</td>\n",
       "      <td>1492418.14</td>\n",
       "      <td>0</td>\n",
       "      <td>80.91</td>\n",
       "      <td>2.669</td>\n",
       "      <td>211.223533</td>\n",
       "      <td>7.787</td>\n",
       "      <td>2010</td>\n",
       "      <td>2</td>\n",
       "      <td>7</td>\n",
       "      <td>2</td>\n",
       "      <td>2010-02-07</td>\n",
       "      <td>33</td>\n",
       "    </tr>\n",
       "    <tr>\n",
       "      <th>2</th>\n",
       "      <td>1</td>\n",
       "      <td>2010-02-19</td>\n",
       "      <td>1611968.17</td>\n",
       "      <td>0</td>\n",
       "      <td>39.93</td>\n",
       "      <td>2.514</td>\n",
       "      <td>211.289143</td>\n",
       "      <td>8.106</td>\n",
       "      <td>2010</td>\n",
       "      <td>2</td>\n",
       "      <td>19</td>\n",
       "      <td>2</td>\n",
       "      <td>2010-02-19</td>\n",
       "      <td>45</td>\n",
       "    </tr>\n",
       "    <tr>\n",
       "      <th>3</th>\n",
       "      <td>1</td>\n",
       "      <td>2010-02-26</td>\n",
       "      <td>1409727.59</td>\n",
       "      <td>0</td>\n",
       "      <td>46.63</td>\n",
       "      <td>2.561</td>\n",
       "      <td>211.319643</td>\n",
       "      <td>8.106</td>\n",
       "      <td>2010</td>\n",
       "      <td>2</td>\n",
       "      <td>26</td>\n",
       "      <td>2</td>\n",
       "      <td>2010-02-26</td>\n",
       "      <td>52</td>\n",
       "    </tr>\n",
       "    <tr>\n",
       "      <th>...</th>\n",
       "      <td>...</td>\n",
       "      <td>...</td>\n",
       "      <td>...</td>\n",
       "      <td>...</td>\n",
       "      <td>...</td>\n",
       "      <td>...</td>\n",
       "      <td>...</td>\n",
       "      <td>...</td>\n",
       "      <td>...</td>\n",
       "      <td>...</td>\n",
       "      <td>...</td>\n",
       "      <td>...</td>\n",
       "      <td>...</td>\n",
       "      <td>...</td>\n",
       "    </tr>\n",
       "    <tr>\n",
       "      <th>131</th>\n",
       "      <td>1</td>\n",
       "      <td>2012-10-08</td>\n",
       "      <td>1592409.97</td>\n",
       "      <td>0</td>\n",
       "      <td>85.05</td>\n",
       "      <td>3.494</td>\n",
       "      <td>221.958433</td>\n",
       "      <td>6.908</td>\n",
       "      <td>2012</td>\n",
       "      <td>10</td>\n",
       "      <td>8</td>\n",
       "      <td>1</td>\n",
       "      <td>2012-10-08</td>\n",
       "      <td>1007</td>\n",
       "    </tr>\n",
       "    <tr>\n",
       "      <th>141</th>\n",
       "      <td>1</td>\n",
       "      <td>2012-10-19</td>\n",
       "      <td>1508068.77</td>\n",
       "      <td>0</td>\n",
       "      <td>67.97</td>\n",
       "      <td>3.594</td>\n",
       "      <td>223.425723</td>\n",
       "      <td>6.573</td>\n",
       "      <td>2012</td>\n",
       "      <td>10</td>\n",
       "      <td>19</td>\n",
       "      <td>1</td>\n",
       "      <td>2012-10-19</td>\n",
       "      <td>1018</td>\n",
       "    </tr>\n",
       "    <tr>\n",
       "      <th>142</th>\n",
       "      <td>1</td>\n",
       "      <td>2012-10-26</td>\n",
       "      <td>1493659.74</td>\n",
       "      <td>0</td>\n",
       "      <td>69.16</td>\n",
       "      <td>3.506</td>\n",
       "      <td>223.444251</td>\n",
       "      <td>6.573</td>\n",
       "      <td>2012</td>\n",
       "      <td>10</td>\n",
       "      <td>26</td>\n",
       "      <td>1</td>\n",
       "      <td>2012-10-26</td>\n",
       "      <td>1025</td>\n",
       "    </tr>\n",
       "    <tr>\n",
       "      <th>118</th>\n",
       "      <td>1</td>\n",
       "      <td>2012-11-05</td>\n",
       "      <td>1611096.05</td>\n",
       "      <td>0</td>\n",
       "      <td>73.77</td>\n",
       "      <td>3.688</td>\n",
       "      <td>221.725663</td>\n",
       "      <td>7.143</td>\n",
       "      <td>2012</td>\n",
       "      <td>11</td>\n",
       "      <td>5</td>\n",
       "      <td>1</td>\n",
       "      <td>2012-11-05</td>\n",
       "      <td>1035</td>\n",
       "    </tr>\n",
       "    <tr>\n",
       "      <th>140</th>\n",
       "      <td>1</td>\n",
       "      <td>2012-12-10</td>\n",
       "      <td>1573072.81</td>\n",
       "      <td>0</td>\n",
       "      <td>62.99</td>\n",
       "      <td>3.601</td>\n",
       "      <td>223.381296</td>\n",
       "      <td>6.573</td>\n",
       "      <td>2012</td>\n",
       "      <td>12</td>\n",
       "      <td>10</td>\n",
       "      <td>1</td>\n",
       "      <td>2012-12-10</td>\n",
       "      <td>1070</td>\n",
       "    </tr>\n",
       "  </tbody>\n",
       "</table>\n",
       "<p>143 rows × 14 columns</p>\n",
       "</div>"
      ],
      "text/plain": [
       "     Store       Date  Weekly_Sales  Holiday_Flag  Temperature  Fuel_Price  \\\n",
       "34       1 2010-01-10    1453329.50             0        71.89       2.603   \n",
       "8        1 2010-02-04    1594968.28             0        62.27       2.719   \n",
       "21       1 2010-02-07    1492418.14             0        80.91       2.669   \n",
       "2        1 2010-02-19    1611968.17             0        39.93       2.514   \n",
       "3        1 2010-02-26    1409727.59             0        46.63       2.561   \n",
       "..     ...        ...           ...           ...          ...         ...   \n",
       "131      1 2012-10-08    1592409.97             0        85.05       3.494   \n",
       "141      1 2012-10-19    1508068.77             0        67.97       3.594   \n",
       "142      1 2012-10-26    1493659.74             0        69.16       3.506   \n",
       "118      1 2012-11-05    1611096.05             0        73.77       3.688   \n",
       "140      1 2012-12-10    1573072.81             0        62.99       3.601   \n",
       "\n",
       "            CPI  Unemployment  Year  Month  Day  Semister       date  exp_day  \n",
       "34   211.671989         7.838  2010      1   10         2 2010-01-10        5  \n",
       "8    210.820450         7.808  2010      2    4         2 2010-02-04       30  \n",
       "21   211.223533         7.787  2010      2    7         2 2010-02-07       33  \n",
       "2    211.289143         8.106  2010      2   19         2 2010-02-19       45  \n",
       "3    211.319643         8.106  2010      2   26         2 2010-02-26       52  \n",
       "..          ...           ...   ...    ...  ...       ...        ...      ...  \n",
       "131  221.958433         6.908  2012     10    8         1 2012-10-08     1007  \n",
       "141  223.425723         6.573  2012     10   19         1 2012-10-19     1018  \n",
       "142  223.444251         6.573  2012     10   26         1 2012-10-26     1025  \n",
       "118  221.725663         7.143  2012     11    5         1 2012-11-05     1035  \n",
       "140  223.381296         6.573  2012     12   10         1 2012-12-10     1070  \n",
       "\n",
       "[143 rows x 14 columns]"
      ]
     },
     "execution_count": 71,
     "metadata": {},
     "output_type": "execute_result"
    }
   ],
   "source": [
    "sort=df_store1.sort_values(by=['exp_day'])\n",
    "sort"
   ]
  }
 ],
 "metadata": {
  "kernelspec": {
   "display_name": "Python 3 (ipykernel)",
   "language": "python",
   "name": "python3"
  },
  "language_info": {
   "codemirror_mode": {
    "name": "ipython",
    "version": 3
   },
   "file_extension": ".py",
   "mimetype": "text/x-python",
   "name": "python",
   "nbconvert_exporter": "python",
   "pygments_lexer": "ipython3",
   "version": "3.9.12"
  },
  "latex_envs": {
   "LaTeX_envs_menu_present": true,
   "autoclose": false,
   "autocomplete": true,
   "bibliofile": "biblio.bib",
   "cite_by": "apalike",
   "current_citInitial": 1,
   "eqLabelWithNumbers": true,
   "eqNumInitial": 1,
   "hotkeys": {
    "equation": "Ctrl-E",
    "itemize": "Ctrl-I"
   },
   "labels_anchors": false,
   "latex_user_defs": false,
   "report_style_numbering": false,
   "user_envs_cfg": false
  },
  "varInspector": {
   "cols": {
    "lenName": 16,
    "lenType": 16,
    "lenVar": 40
   },
   "kernels_config": {
    "python": {
     "delete_cmd_postfix": "",
     "delete_cmd_prefix": "del ",
     "library": "var_list.py",
     "varRefreshCmd": "print(var_dic_list())"
    },
    "r": {
     "delete_cmd_postfix": ") ",
     "delete_cmd_prefix": "rm(",
     "library": "var_list.r",
     "varRefreshCmd": "cat(var_dic_list()) "
    }
   },
   "types_to_exclude": [
    "module",
    "function",
    "builtin_function_or_method",
    "instance",
    "_Feature"
   ],
   "window_display": false
  }
 },
 "nbformat": 4,
 "nbformat_minor": 5
}
