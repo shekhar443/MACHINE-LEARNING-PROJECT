{
 "cells": [
  {
   "cell_type": "markdown",
   "metadata": {
    "id": "lhs4jSbDtfCH"
   },
   "source": [
    "# <font color = \"green\" > <b><i>Exam_mark_prediction_using_LINEAR_REGRESSION_MULTIPLE_VALUES</b>\n",
    "<b><i>NAKKA SHEKHAR</b>\n",
    "* [linkedin](https://www.linkedin.com/in/nakka-shekhar-2019a987/)\n",
    "* [github](https://github.com/shekhar443/MACHINE-LEARNING-PROJECT)"
   ]
  },
  {
   "cell_type": "markdown",
   "metadata": {},
   "source": [
    "## Importing Required Libraries"
   ]
  },
  {
   "cell_type": "code",
   "execution_count": 1,
   "metadata": {
    "id": "lhs4jSbDtfCH"
   },
   "outputs": [],
   "source": [
    "import pandas as pd\n",
    "import numpy as np\n",
    "import matplotlib.pyplot as plt\n",
    "import warnings\n",
    "warnings.filterwarnings(\"ignore\")"
   ]
  },
  {
   "cell_type": "markdown",
   "metadata": {},
   "source": [
    "## Data Profiling / Data Loading"
   ]
  },
  {
   "cell_type": "code",
   "execution_count": 2,
   "metadata": {
    "id": "DEDKvS3ot6PY"
   },
   "outputs": [],
   "source": [
    "df=pd.read_csv(\"ML/data12.csv\")"
   ]
  },
  {
   "cell_type": "markdown",
   "metadata": {},
   "source": [
    "## Summarize Dataset"
   ]
  },
  {
   "cell_type": "code",
   "execution_count": 3,
   "metadata": {
    "colab": {
     "base_uri": "https://localhost:8080/",
     "height": 206
    },
    "id": "Q69Os3gXvCwM",
    "outputId": "0cde1e94-c31a-457b-aea9-3fa5457a3048"
   },
   "outputs": [
    {
     "data": {
      "text/html": [
       "<div>\n",
       "<style scoped>\n",
       "    .dataframe tbody tr th:only-of-type {\n",
       "        vertical-align: middle;\n",
       "    }\n",
       "\n",
       "    .dataframe tbody tr th {\n",
       "        vertical-align: top;\n",
       "    }\n",
       "\n",
       "    .dataframe thead th {\n",
       "        text-align: right;\n",
       "    }\n",
       "</style>\n",
       "<table border=\"1\" class=\"dataframe\">\n",
       "  <thead>\n",
       "    <tr style=\"text-align: right;\">\n",
       "      <th></th>\n",
       "      <th>hours</th>\n",
       "      <th>age</th>\n",
       "      <th>internet</th>\n",
       "      <th>marks</th>\n",
       "    </tr>\n",
       "  </thead>\n",
       "  <tbody>\n",
       "    <tr>\n",
       "      <th>0</th>\n",
       "      <td>6.83</td>\n",
       "      <td>15</td>\n",
       "      <td>1</td>\n",
       "      <td>78.50</td>\n",
       "    </tr>\n",
       "    <tr>\n",
       "      <th>1</th>\n",
       "      <td>6.56</td>\n",
       "      <td>16</td>\n",
       "      <td>0</td>\n",
       "      <td>76.74</td>\n",
       "    </tr>\n",
       "    <tr>\n",
       "      <th>2</th>\n",
       "      <td>NaN</td>\n",
       "      <td>17</td>\n",
       "      <td>1</td>\n",
       "      <td>78.68</td>\n",
       "    </tr>\n",
       "    <tr>\n",
       "      <th>3</th>\n",
       "      <td>5.67</td>\n",
       "      <td>18</td>\n",
       "      <td>0</td>\n",
       "      <td>71.82</td>\n",
       "    </tr>\n",
       "    <tr>\n",
       "      <th>4</th>\n",
       "      <td>8.67</td>\n",
       "      <td>19</td>\n",
       "      <td>1</td>\n",
       "      <td>84.19</td>\n",
       "    </tr>\n",
       "  </tbody>\n",
       "</table>\n",
       "</div>"
      ],
      "text/plain": [
       "   hours  age  internet  marks\n",
       "0   6.83   15         1  78.50\n",
       "1   6.56   16         0  76.74\n",
       "2    NaN   17         1  78.68\n",
       "3   5.67   18         0  71.82\n",
       "4   8.67   19         1  84.19"
      ]
     },
     "execution_count": 3,
     "metadata": {},
     "output_type": "execute_result"
    }
   ],
   "source": [
    "df.head()"
   ]
  },
  {
   "cell_type": "code",
   "execution_count": 4,
   "metadata": {
    "colab": {
     "base_uri": "https://localhost:8080/",
     "height": 206
    },
    "id": "rJd27rYhvEYr",
    "outputId": "c50d5ee5-24fb-431f-9913-2d5ee073050b"
   },
   "outputs": [
    {
     "data": {
      "text/html": [
       "<div>\n",
       "<style scoped>\n",
       "    .dataframe tbody tr th:only-of-type {\n",
       "        vertical-align: middle;\n",
       "    }\n",
       "\n",
       "    .dataframe tbody tr th {\n",
       "        vertical-align: top;\n",
       "    }\n",
       "\n",
       "    .dataframe thead th {\n",
       "        text-align: right;\n",
       "    }\n",
       "</style>\n",
       "<table border=\"1\" class=\"dataframe\">\n",
       "  <thead>\n",
       "    <tr style=\"text-align: right;\">\n",
       "      <th></th>\n",
       "      <th>hours</th>\n",
       "      <th>age</th>\n",
       "      <th>internet</th>\n",
       "      <th>marks</th>\n",
       "    </tr>\n",
       "  </thead>\n",
       "  <tbody>\n",
       "    <tr>\n",
       "      <th>196</th>\n",
       "      <td>8.56</td>\n",
       "      <td>19</td>\n",
       "      <td>1</td>\n",
       "      <td>84.68</td>\n",
       "    </tr>\n",
       "    <tr>\n",
       "      <th>197</th>\n",
       "      <td>8.94</td>\n",
       "      <td>20</td>\n",
       "      <td>1</td>\n",
       "      <td>86.75</td>\n",
       "    </tr>\n",
       "    <tr>\n",
       "      <th>198</th>\n",
       "      <td>6.60</td>\n",
       "      <td>15</td>\n",
       "      <td>1</td>\n",
       "      <td>78.05</td>\n",
       "    </tr>\n",
       "    <tr>\n",
       "      <th>199</th>\n",
       "      <td>8.35</td>\n",
       "      <td>16</td>\n",
       "      <td>1</td>\n",
       "      <td>83.50</td>\n",
       "    </tr>\n",
       "    <tr>\n",
       "      <th>200</th>\n",
       "      <td>4.15</td>\n",
       "      <td>15</td>\n",
       "      <td>0</td>\n",
       "      <td>81.45</td>\n",
       "    </tr>\n",
       "  </tbody>\n",
       "</table>\n",
       "</div>"
      ],
      "text/plain": [
       "     hours  age  internet  marks\n",
       "196   8.56   19         1  84.68\n",
       "197   8.94   20         1  86.75\n",
       "198   6.60   15         1  78.05\n",
       "199   8.35   16         1  83.50\n",
       "200   4.15   15         0  81.45"
      ]
     },
     "execution_count": 4,
     "metadata": {},
     "output_type": "execute_result"
    }
   ],
   "source": [
    "df.tail()"
   ]
  },
  {
   "cell_type": "code",
   "execution_count": 5,
   "metadata": {
    "colab": {
     "base_uri": "https://localhost:8080/"
    },
    "id": "vQqz_OkYvFyl",
    "outputId": "f5dd2ccc-0a11-41c5-f0eb-8c3131dfd193"
   },
   "outputs": [
    {
     "data": {
      "text/plain": [
       "Index(['hours', 'age', 'internet', 'marks'], dtype='object')"
      ]
     },
     "execution_count": 5,
     "metadata": {},
     "output_type": "execute_result"
    }
   ],
   "source": [
    "df.columns"
   ]
  },
  {
   "cell_type": "code",
   "execution_count": 6,
   "metadata": {
    "colab": {
     "base_uri": "https://localhost:8080/"
    },
    "id": "yEjajErJvJiA",
    "outputId": "40ea8c09-61c1-4b0c-bf28-0237132be63f"
   },
   "outputs": [
    {
     "name": "stdout",
     "output_type": "stream",
     "text": [
      "<class 'pandas.core.frame.DataFrame'>\n",
      "RangeIndex: 201 entries, 0 to 200\n",
      "Data columns (total 4 columns):\n",
      " #   Column    Non-Null Count  Dtype  \n",
      "---  ------    --------------  -----  \n",
      " 0   hours     196 non-null    float64\n",
      " 1   age       201 non-null    int64  \n",
      " 2   internet  201 non-null    int64  \n",
      " 3   marks     201 non-null    float64\n",
      "dtypes: float64(2), int64(2)\n",
      "memory usage: 6.4 KB\n"
     ]
    }
   ],
   "source": [
    "df.info()"
   ]
  },
  {
   "cell_type": "code",
   "execution_count": 7,
   "metadata": {
    "colab": {
     "base_uri": "https://localhost:8080/",
     "height": 300
    },
    "id": "CszBwCkVvPFs",
    "outputId": "b0e5899e-bfb5-4b79-b32f-b183eb69a148"
   },
   "outputs": [
    {
     "data": {
      "text/html": [
       "<div>\n",
       "<style scoped>\n",
       "    .dataframe tbody tr th:only-of-type {\n",
       "        vertical-align: middle;\n",
       "    }\n",
       "\n",
       "    .dataframe tbody tr th {\n",
       "        vertical-align: top;\n",
       "    }\n",
       "\n",
       "    .dataframe thead th {\n",
       "        text-align: right;\n",
       "    }\n",
       "</style>\n",
       "<table border=\"1\" class=\"dataframe\">\n",
       "  <thead>\n",
       "    <tr style=\"text-align: right;\">\n",
       "      <th></th>\n",
       "      <th>hours</th>\n",
       "      <th>age</th>\n",
       "      <th>internet</th>\n",
       "      <th>marks</th>\n",
       "    </tr>\n",
       "  </thead>\n",
       "  <tbody>\n",
       "    <tr>\n",
       "      <th>count</th>\n",
       "      <td>196.000000</td>\n",
       "      <td>201.000000</td>\n",
       "      <td>201.000000</td>\n",
       "      <td>201.000000</td>\n",
       "    </tr>\n",
       "    <tr>\n",
       "      <th>mean</th>\n",
       "      <td>6.981429</td>\n",
       "      <td>17.467662</td>\n",
       "      <td>0.552239</td>\n",
       "      <td>77.951244</td>\n",
       "    </tr>\n",
       "    <tr>\n",
       "      <th>std</th>\n",
       "      <td>1.266266</td>\n",
       "      <td>1.720523</td>\n",
       "      <td>0.498505</td>\n",
       "      <td>4.919626</td>\n",
       "    </tr>\n",
       "    <tr>\n",
       "      <th>min</th>\n",
       "      <td>4.150000</td>\n",
       "      <td>15.000000</td>\n",
       "      <td>0.000000</td>\n",
       "      <td>68.570000</td>\n",
       "    </tr>\n",
       "    <tr>\n",
       "      <th>25%</th>\n",
       "      <td>5.757500</td>\n",
       "      <td>16.000000</td>\n",
       "      <td>0.000000</td>\n",
       "      <td>73.400000</td>\n",
       "    </tr>\n",
       "    <tr>\n",
       "      <th>50%</th>\n",
       "      <td>7.110000</td>\n",
       "      <td>17.000000</td>\n",
       "      <td>1.000000</td>\n",
       "      <td>77.770000</td>\n",
       "    </tr>\n",
       "    <tr>\n",
       "      <th>75%</th>\n",
       "      <td>8.082500</td>\n",
       "      <td>19.000000</td>\n",
       "      <td>1.000000</td>\n",
       "      <td>82.300000</td>\n",
       "    </tr>\n",
       "    <tr>\n",
       "      <th>max</th>\n",
       "      <td>8.990000</td>\n",
       "      <td>20.000000</td>\n",
       "      <td>1.000000</td>\n",
       "      <td>86.990000</td>\n",
       "    </tr>\n",
       "  </tbody>\n",
       "</table>\n",
       "</div>"
      ],
      "text/plain": [
       "            hours         age    internet       marks\n",
       "count  196.000000  201.000000  201.000000  201.000000\n",
       "mean     6.981429   17.467662    0.552239   77.951244\n",
       "std      1.266266    1.720523    0.498505    4.919626\n",
       "min      4.150000   15.000000    0.000000   68.570000\n",
       "25%      5.757500   16.000000    0.000000   73.400000\n",
       "50%      7.110000   17.000000    1.000000   77.770000\n",
       "75%      8.082500   19.000000    1.000000   82.300000\n",
       "max      8.990000   20.000000    1.000000   86.990000"
      ]
     },
     "execution_count": 7,
     "metadata": {},
     "output_type": "execute_result"
    }
   ],
   "source": [
    "df.describe()"
   ]
  },
  {
   "cell_type": "markdown",
   "metadata": {},
   "source": [
    "## Check Null Values and Duplicate Values"
   ]
  },
  {
   "cell_type": "code",
   "execution_count": 8,
   "metadata": {
    "colab": {
     "base_uri": "https://localhost:8080/"
    },
    "id": "y73Fws8MvQmR",
    "outputId": "bd1b90a6-6a5d-494e-d8f0-eea753748d8b"
   },
   "outputs": [
    {
     "data": {
      "text/plain": [
       "hours       5\n",
       "age         0\n",
       "internet    0\n",
       "marks       0\n",
       "dtype: int64"
      ]
     },
     "execution_count": 8,
     "metadata": {},
     "output_type": "execute_result"
    }
   ],
   "source": [
    "df.isnull().sum()"
   ]
  },
  {
   "cell_type": "code",
   "execution_count": 9,
   "metadata": {
    "id": "CLg3RyWm_QNS"
   },
   "outputs": [],
   "source": [
    "df.dropna(axis=0,inplace=True)"
   ]
  },
  {
   "cell_type": "code",
   "execution_count": 10,
   "metadata": {
    "colab": {
     "base_uri": "https://localhost:8080/"
    },
    "id": "ckMhyOeF_bxh",
    "outputId": "92894726-e817-4eb7-ab35-dda2209d73db"
   },
   "outputs": [
    {
     "data": {
      "text/plain": [
       "hours       0\n",
       "age         0\n",
       "internet    0\n",
       "marks       0\n",
       "dtype: int64"
      ]
     },
     "execution_count": 10,
     "metadata": {},
     "output_type": "execute_result"
    }
   ],
   "source": [
    "df.isnull().sum()"
   ]
  },
  {
   "cell_type": "code",
   "execution_count": 11,
   "metadata": {
    "colab": {
     "base_uri": "https://localhost:8080/"
    },
    "id": "shAFmaCsvUQM",
    "outputId": "0630a4d8-3027-4a5a-d112-ccf6f734e7c2"
   },
   "outputs": [
    {
     "data": {
      "text/plain": [
       "0"
      ]
     },
     "execution_count": 11,
     "metadata": {},
     "output_type": "execute_result"
    }
   ],
   "source": [
    "df.duplicated().sum()"
   ]
  },
  {
   "cell_type": "markdown",
   "metadata": {},
   "source": [
    "## Graphical Analysis"
   ]
  },
  {
   "cell_type": "code",
   "execution_count": 12,
   "metadata": {
    "colab": {
     "base_uri": "https://localhost:8080/",
     "height": 621
    },
    "id": "I8KyOrndwfl6",
    "outputId": "148acdce-7273-4aa7-fb25-e2dd8b56a35a"
   },
   "outputs": [
    {
     "data": {
      "image/png": "[encoded data removed]",
      "text/plain": [
       "<Figure size 936x720 with 3 Axes>"
      ]
     },
     "metadata": {
      "needs_background": "light"
     },
     "output_type": "display_data"
    }
   ],
   "source": [
    "plt.figure(figsize=(13,10))\n",
    "\n",
    "plt.subplot(3,1,1)\n",
    "plt.scatter(df.hours,df.marks,color=\"k\",marker=\"*\")\n",
    "plt.title(\"hours vs marks\")\n",
    "plt.xlabel(\"hours\")\n",
    "plt.ylabel(\"marks\")\n",
    "plt.subplot(3,1,2)\n",
    "plt.scatter(df.age,df.marks,color=\"g\",marker=\"o\")\n",
    "plt.title(\"age vs marks\")\n",
    "plt.xlabel(\"age\")\n",
    "plt.ylabel(\"marks\")\n",
    "plt.subplot(3,1,3)\n",
    "plt.scatter(df.age,df.marks,color=\"r\",marker=\"s\")\n",
    "plt.title(\"internet vs marks\")\n",
    "plt.xlabel(\"internet\")\n",
    "plt.ylabel(\"marks\")\n",
    "plt.show()"
   ]
  },
  {
   "cell_type": "markdown",
   "metadata": {
    "id": "2LnNI9RYApVO"
   },
   "source": [
    "## Segregate Data into X and y(Independent and Independent Features)"
   ]
  },
  {
   "cell_type": "code",
   "execution_count": 13,
   "metadata": {
    "id": "OL9FQcNMvZdn"
   },
   "outputs": [],
   "source": [
    "X=df.iloc[:,:-1].values"
   ]
  },
  {
   "cell_type": "code",
   "execution_count": 14,
   "metadata": {
    "colab": {
     "base_uri": "https://localhost:8080/"
    },
    "id": "xy7guUd8vjo4",
    "outputId": "53feabf1-9c27-43fd-bfcb-1393f0533146"
   },
   "outputs": [
    {
     "data": {
      "text/plain": [
       "array([[ 6.83, 15.  ,  1.  ],\n",
       "       [ 6.56, 16.  ,  0.  ],\n",
       "       [ 5.67, 18.  ,  0.  ],\n",
       "       [ 8.67, 19.  ,  1.  ],\n",
       "       [ 7.55, 20.  ,  0.  ],\n",
       "       [ 6.67, 15.  ,  0.  ],\n",
       "       [ 8.99, 16.  ,  0.  ],\n",
       "       [ 5.19, 17.  ,  1.  ],\n",
       "       [ 6.75, 18.  ,  0.  ],\n",
       "       [ 6.59, 19.  ,  0.  ],\n",
       "       [ 8.56, 20.  ,  1.  ],\n",
       "       [ 7.75, 15.  ,  0.  ],\n",
       "       [ 7.9 , 16.  ,  1.  ],\n",
       "       [ 8.19, 17.  ,  0.  ],\n",
       "       [ 6.55, 18.  ,  1.  ],\n",
       "       [ 6.36, 19.  ,  0.  ],\n",
       "       [ 8.44, 20.  ,  1.  ],\n",
       "       [ 8.41, 15.  ,  0.  ],\n",
       "       [ 7.67, 16.  ,  1.  ],\n",
       "       [ 7.42, 17.  ,  1.  ],\n",
       "       [ 8.16, 18.  ,  1.  ],\n",
       "       [ 5.05, 19.  ,  1.  ],\n",
       "       [ 5.85, 20.  ,  1.  ],\n",
       "       [ 5.45, 15.  ,  0.  ],\n",
       "       [ 7.96, 16.  ,  0.  ],\n",
       "       [ 6.51, 17.  ,  0.  ],\n",
       "       [ 6.73, 18.  ,  0.  ],\n",
       "       [ 5.94, 19.  ,  1.  ],\n",
       "       [ 7.48, 20.  ,  0.  ],\n",
       "       [ 8.13, 15.  ,  1.  ],\n",
       "       [ 5.4 , 17.  ,  1.  ],\n",
       "       [ 8.78, 18.  ,  0.  ],\n",
       "       [ 8.72, 19.  ,  1.  ],\n",
       "       [ 7.1 , 20.  ,  0.  ],\n",
       "       [ 7.86, 15.  ,  1.  ],\n",
       "       [ 7.19, 16.  ,  0.  ],\n",
       "       [ 5.62, 17.  ,  1.  ],\n",
       "       [ 7.88, 18.  ,  0.  ],\n",
       "       [ 5.28, 19.  ,  1.  ],\n",
       "       [ 8.92, 20.  ,  1.  ],\n",
       "       [ 5.46, 15.  ,  0.  ],\n",
       "       [ 8.3 , 16.  ,  1.  ],\n",
       "       [ 8.09, 17.  ,  0.  ],\n",
       "       [ 6.18, 18.  ,  1.  ],\n",
       "       [ 7.01, 19.  ,  1.  ],\n",
       "       [ 5.01, 20.  ,  0.  ],\n",
       "       [ 5.54, 15.  ,  1.  ],\n",
       "       [ 5.09, 16.  ,  1.  ],\n",
       "       [ 5.09, 17.  ,  0.  ],\n",
       "       [ 7.31, 18.  ,  1.  ],\n",
       "       [ 8.71, 19.  ,  0.  ],\n",
       "       [ 5.52, 20.  ,  1.  ],\n",
       "       [ 8.76, 15.  ,  0.  ],\n",
       "       [ 8.69, 16.  ,  1.  ],\n",
       "       [ 5.75, 17.  ,  1.  ],\n",
       "       [ 8.93, 18.  ,  1.  ],\n",
       "       [ 5.39, 19.  ,  1.  ],\n",
       "       [ 5.65, 20.  ,  0.  ],\n",
       "       [ 5.49, 15.  ,  1.  ],\n",
       "       [ 7.26, 16.  ,  1.  ],\n",
       "       [ 6.35, 17.  ,  0.  ],\n",
       "       [ 7.72, 18.  ,  1.  ],\n",
       "       [ 8.88, 19.  ,  0.  ],\n",
       "       [ 5.45, 20.  ,  1.  ],\n",
       "       [ 7.86, 15.  ,  1.  ],\n",
       "       [ 8.26, 16.  ,  0.  ],\n",
       "       [ 5.07, 17.  ,  1.  ],\n",
       "       [ 8.25, 18.  ,  0.  ],\n",
       "       [ 5.37, 19.  ,  1.  ],\n",
       "       [ 5.11, 20.  ,  1.  ],\n",
       "       [ 6.35, 15.  ,  0.  ],\n",
       "       [ 7.41, 16.  ,  1.  ],\n",
       "       [ 7.31, 17.  ,  0.  ],\n",
       "       [ 6.04, 18.  ,  1.  ],\n",
       "       [ 5.11, 19.  ,  1.  ],\n",
       "       [ 6.56, 20.  ,  0.  ],\n",
       "       [ 5.09, 15.  ,  1.  ],\n",
       "       [ 5.88, 16.  ,  0.  ],\n",
       "       [ 8.34, 17.  ,  1.  ],\n",
       "       [ 7.94, 18.  ,  0.  ],\n",
       "       [ 6.66, 19.  ,  1.  ],\n",
       "       [ 6.01, 20.  ,  1.  ],\n",
       "       [ 6.88, 15.  ,  0.  ],\n",
       "       [ 5.63, 16.  ,  1.  ],\n",
       "       [ 5.88, 17.  ,  0.  ],\n",
       "       [ 8.05, 18.  ,  1.  ],\n",
       "       [ 5.33, 19.  ,  0.  ],\n",
       "       [ 8.79, 20.  ,  0.  ],\n",
       "       [ 7.52, 15.  ,  1.  ],\n",
       "       [ 8.2 , 16.  ,  0.  ],\n",
       "       [ 5.44, 17.  ,  1.  ],\n",
       "       [ 7.9 , 18.  ,  0.  ],\n",
       "       [ 7.69, 19.  ,  1.  ],\n",
       "       [ 6.09, 20.  ,  0.  ],\n",
       "       [ 5.2 , 16.  ,  1.  ],\n",
       "       [ 8.88, 17.  ,  0.  ],\n",
       "       [ 8.07, 18.  ,  1.  ],\n",
       "       [ 6.24, 19.  ,  1.  ],\n",
       "       [ 7.95, 20.  ,  0.  ],\n",
       "       [ 8.26, 15.  ,  0.  ],\n",
       "       [ 7.31, 16.  ,  1.  ],\n",
       "       [ 7.23, 17.  ,  1.  ],\n",
       "       [ 6.46, 18.  ,  1.  ],\n",
       "       [ 5.34, 19.  ,  1.  ],\n",
       "       [ 5.72, 20.  ,  1.  ],\n",
       "       [ 5.84, 15.  ,  0.  ],\n",
       "       [ 5.02, 16.  ,  1.  ],\n",
       "       [ 7.98, 17.  ,  0.  ],\n",
       "       [ 6.37, 18.  ,  1.  ],\n",
       "       [ 6.92, 19.  ,  0.  ],\n",
       "       [ 7.95, 20.  ,  1.  ],\n",
       "       [ 7.12, 15.  ,  0.  ],\n",
       "       [ 5.79, 16.  ,  1.  ],\n",
       "       [ 5.4 , 17.  ,  0.  ],\n",
       "       [ 8.83, 18.  ,  1.  ],\n",
       "       [ 5.69, 19.  ,  0.  ],\n",
       "       [ 6.6 , 20.  ,  1.  ],\n",
       "       [ 6.52, 15.  ,  0.  ],\n",
       "       [ 8.31, 16.  ,  0.  ],\n",
       "       [ 7.62, 18.  ,  0.  ],\n",
       "       [ 8.69, 19.  ,  1.  ],\n",
       "       [ 8.75, 20.  ,  0.  ],\n",
       "       [ 6.46, 15.  ,  1.  ],\n",
       "       [ 7.14, 16.  ,  1.  ],\n",
       "       [ 6.38, 17.  ,  0.  ],\n",
       "       [ 6.33, 18.  ,  1.  ],\n",
       "       [ 5.64, 19.  ,  0.  ],\n",
       "       [ 5.26, 20.  ,  1.  ],\n",
       "       [ 6.83, 15.  ,  1.  ],\n",
       "       [ 5.76, 16.  ,  0.  ],\n",
       "       [ 6.51, 17.  ,  1.  ],\n",
       "       [ 8.33, 18.  ,  0.  ],\n",
       "       [ 8.16, 19.  ,  1.  ],\n",
       "       [ 5.14, 20.  ,  0.  ],\n",
       "       [ 8.71, 15.  ,  0.  ],\n",
       "       [ 8.6 , 16.  ,  1.  ],\n",
       "       [ 8.6 , 17.  ,  0.  ],\n",
       "       [ 7.43, 18.  ,  1.  ],\n",
       "       [ 7.81, 19.  ,  1.  ],\n",
       "       [ 6.51, 20.  ,  0.  ],\n",
       "       [ 8.11, 15.  ,  1.  ],\n",
       "       [ 8.95, 16.  ,  0.  ],\n",
       "       [ 7.99, 17.  ,  1.  ],\n",
       "       [ 5.92, 18.  ,  0.  ],\n",
       "       [ 8.3 , 19.  ,  1.  ],\n",
       "       [ 8.97, 20.  ,  0.  ],\n",
       "       [ 5.39, 15.  ,  0.  ],\n",
       "       [ 6.77, 16.  ,  0.  ],\n",
       "       [ 8.08, 17.  ,  1.  ],\n",
       "       [ 5.24, 18.  ,  0.  ],\n",
       "       [ 6.93, 19.  ,  1.  ],\n",
       "       [ 5.14, 20.  ,  0.  ],\n",
       "       [ 8.39, 15.  ,  1.  ],\n",
       "       [ 6.18, 16.  ,  0.  ],\n",
       "       [ 7.53, 17.  ,  1.  ],\n",
       "       [ 7.86, 18.  ,  0.  ],\n",
       "       [ 7.7 , 19.  ,  1.  ],\n",
       "       [ 7.3 , 20.  ,  0.  ],\n",
       "       [ 7.79, 15.  ,  1.  ],\n",
       "       [ 6.75, 16.  ,  0.  ],\n",
       "       [ 7.87, 17.  ,  1.  ],\n",
       "       [ 5.38, 18.  ,  0.  ],\n",
       "       [ 7.8 , 19.  ,  1.  ],\n",
       "       [ 5.07, 20.  ,  0.  ],\n",
       "       [ 7.95, 15.  ,  1.  ],\n",
       "       [ 8.35, 16.  ,  0.  ],\n",
       "       [ 5.19, 17.  ,  0.  ],\n",
       "       [ 7.19, 18.  ,  0.  ],\n",
       "       [ 7.35, 19.  ,  1.  ],\n",
       "       [ 5.22, 20.  ,  1.  ],\n",
       "       [ 5.39, 15.  ,  1.  ],\n",
       "       [ 5.39, 16.  ,  1.  ],\n",
       "       [ 8.93, 17.  ,  1.  ],\n",
       "       [ 5.79, 18.  ,  0.  ],\n",
       "       [ 8.42, 19.  ,  1.  ],\n",
       "       [ 7.26, 20.  ,  0.  ],\n",
       "       [ 6.97, 15.  ,  1.  ],\n",
       "       [ 5.55, 16.  ,  1.  ],\n",
       "       [ 8.66, 17.  ,  0.  ],\n",
       "       [ 8.61, 18.  ,  1.  ],\n",
       "       [ 5.22, 19.  ,  1.  ],\n",
       "       [ 8.05, 20.  ,  0.  ],\n",
       "       [ 8.87, 15.  ,  1.  ],\n",
       "       [ 5.54, 16.  ,  0.  ],\n",
       "       [ 7.26, 18.  ,  1.  ],\n",
       "       [ 5.79, 19.  ,  0.  ],\n",
       "       [ 5.22, 20.  ,  0.  ],\n",
       "       [ 8.71, 15.  ,  1.  ],\n",
       "       [ 7.55, 16.  ,  1.  ],\n",
       "       [ 6.35, 17.  ,  1.  ],\n",
       "       [ 7.53, 18.  ,  0.  ],\n",
       "       [ 8.56, 19.  ,  1.  ],\n",
       "       [ 8.94, 20.  ,  1.  ],\n",
       "       [ 6.6 , 15.  ,  1.  ],\n",
       "       [ 8.35, 16.  ,  1.  ],\n",
       "       [ 4.15, 15.  ,  0.  ]])"
      ]
     },
     "execution_count": 14,
     "metadata": {},
     "output_type": "execute_result"
    }
   ],
   "source": [
    "X"
   ]
  },
  {
   "cell_type": "code",
   "execution_count": 15,
   "metadata": {
    "id": "xSuG3roHvkP4"
   },
   "outputs": [],
   "source": [
    "y=df.iloc[:,-1].values"
   ]
  },
  {
   "cell_type": "code",
   "execution_count": 16,
   "metadata": {
    "colab": {
     "base_uri": "https://localhost:8080/"
    },
    "id": "M-ST_tcdvsVS",
    "outputId": "ad2132be-ba0e-4d24-e5d5-a79d70595082"
   },
   "outputs": [
    {
     "data": {
      "text/plain": [
       "array([78.5 , 76.74, 71.82, 84.19, 81.18, 76.99, 85.46, 70.66, 77.82,\n",
       "       75.37, 83.88, 79.5 , 80.76, 83.08, 76.03, 76.04, 85.11, 82.5 ,\n",
       "       80.58, 82.18, 83.36, 70.67, 75.02, 70.96, 83.33, 74.75, 75.65,\n",
       "       74.15, 80.17, 82.27, 71.1 , 84.35, 83.08, 76.76, 81.24, 78.21,\n",
       "       73.08, 83.23, 70.27, 86.41, 71.1 , 82.84, 82.38, 72.96, 77.46,\n",
       "       70.11, 72.38, 71.41, 72.22, 77.77, 84.44, 71.45, 82.21, 85.48,\n",
       "       75.03, 86.65, 70.9 , 71.7 , 73.61, 79.41, 76.19, 80.43, 85.78,\n",
       "       70.06, 81.25, 81.7 , 69.27, 82.79, 71.8 , 71.79, 74.97, 78.61,\n",
       "       77.59, 72.33, 72.08, 77.33, 70.05, 73.34, 84.  , 82.93, 76.63,\n",
       "       75.36, 77.29, 72.87, 73.4 , 81.74, 71.85, 84.6 , 79.56, 82.1 ,\n",
       "       72.08, 79.1 , 81.01, 76.48, 68.57, 83.64, 82.3 , 75.18, 82.03,\n",
       "       82.99, 79.26, 77.55, 77.07, 72.1 , 73.25, 74.25, 70.58, 81.08,\n",
       "       75.04, 76.38, 80.86, 78.42, 74.44, 70.34, 85.04, 73.61, 75.55,\n",
       "       76.2 , 82.69, 79.53, 83.57, 85.95, 76.02, 77.65, 77.01, 74.49,\n",
       "       73.19, 71.86, 75.8 , 72.46, 78.39, 83.48, 83.15, 71.22, 85.98,\n",
       "       83.91, 84.58, 80.31, 82.55, 75.52, 83.82, 85.15, 82.75, 74.34,\n",
       "       82.02, 86.12, 71.87, 76.7 , 81.7 , 70.78, 78.45, 70.2 , 83.37,\n",
       "       75.52, 81.57, 80.72, 80.81, 79.49, 79.17, 77.07, 82.04, 71.94,\n",
       "       81.6 , 70.79, 82.68, 83.08, 71.18, 77.63, 77.78, 70.4 , 73.02,\n",
       "       71.11, 85.96, 73.64, 84.24, 78.17, 77.19, 71.83, 86.99, 83.87,\n",
       "       71.5 , 79.63, 85.1 , 72.01, 79.87, 73.14, 70.51, 84.03, 79.64,\n",
       "       74.24, 81.67, 84.68, 86.75, 78.05, 83.5 , 81.45])"
      ]
     },
     "execution_count": 16,
     "metadata": {},
     "output_type": "execute_result"
    }
   ],
   "source": [
    "y"
   ]
  },
  {
   "cell_type": "markdown",
   "metadata": {},
   "source": [
    "## Splitting data into Train and Test"
   ]
  },
  {
   "cell_type": "code",
   "execution_count": 17,
   "metadata": {
    "id": "0UvP9q9nvtwZ"
   },
   "outputs": [],
   "source": [
    "from sklearn.model_selection import train_test_split\n",
    "X_train,X_test,y_train,y_test=train_test_split(X,y,test_size=0.25,random_state=42)"
   ]
  },
  {
   "cell_type": "markdown",
   "metadata": {},
   "source": [
    "## Model Building and Training"
   ]
  },
  {
   "cell_type": "code",
   "execution_count": 18,
   "metadata": {
    "id": "f785wagRwKSn"
   },
   "outputs": [],
   "source": [
    "from sklearn.linear_model import LinearRegression\n",
    "lr=LinearRegression()"
   ]
  },
  {
   "cell_type": "code",
   "execution_count": 19,
   "metadata": {
    "colab": {
     "base_uri": "https://localhost:8080/"
    },
    "id": "4qOI0-kmy8P7",
    "outputId": "0087450a-8856-464b-d340-e07a7fb8e5b4"
   },
   "outputs": [
    {
     "data": {
      "text/plain": [
       "LinearRegression()"
      ]
     },
     "execution_count": 19,
     "metadata": {},
     "output_type": "execute_result"
    }
   ],
   "source": [
    "lr.fit(X_train,y_train)"
   ]
  },
  {
   "cell_type": "code",
   "execution_count": 20,
   "metadata": {
    "colab": {
     "base_uri": "https://localhost:8080/"
    },
    "id": "K5lHGZCIxiZI",
    "outputId": "810bef41-e02e-4292-c46c-f4484c9e6b96"
   },
   "outputs": [
    {
     "data": {
      "text/plain": [
       "array([ 3.70704464, -0.08535028, -0.03065625])"
      ]
     },
     "execution_count": 20,
     "metadata": {},
     "output_type": "execute_result"
    }
   ],
   "source": [
    "lr.coef_"
   ]
  },
  {
   "cell_type": "code",
   "execution_count": 21,
   "metadata": {
    "colab": {
     "base_uri": "https://localhost:8080/"
    },
    "id": "oCYP4f4t1IQP",
    "outputId": "ddb179f2-f896-4478-b7b2-2a5e9fa15b26"
   },
   "outputs": [
    {
     "data": {
      "text/plain": [
       "53.61974976356879"
      ]
     },
     "execution_count": 21,
     "metadata": {},
     "output_type": "execute_result"
    }
   ],
   "source": [
    "lr.intercept_"
   ]
  },
  {
   "cell_type": "markdown",
   "metadata": {},
   "source": [
    "## Prediction for all test data"
   ]
  },
  {
   "cell_type": "code",
   "execution_count": 22,
   "metadata": {
    "id": "TFQfy32u1Nqo"
   },
   "outputs": [],
   "source": [
    "y_pred=lr.predict(X_test)"
   ]
  },
  {
   "cell_type": "code",
   "execution_count": 23,
   "metadata": {
    "colab": {
     "base_uri": "https://localhost:8080/"
    },
    "id": "Mqt1DX7o1pu6",
    "outputId": "dcc86cfd-6922-4a54-a952-17546cd08a8e"
   },
   "outputs": [
    {
     "data": {
      "text/plain": [
       "array([76.0456048 , 72.18683608, 83.16954471, 76.23095703, 80.05218492,\n",
       "       73.46188293, 70.82508605, 85.15669714, 80.65652145, 71.23286096,\n",
       "       80.51168195, 75.57489838, 72.02734491, 75.70852849, 73.09117847,\n",
       "       84.78599268, 85.16493461, 76.42751865, 74.44333813, 84.59719816,\n",
       "       73.68727753, 74.48864605, 80.91945686, 70.48503783, 81.89449786,\n",
       "       82.66656303, 77.62795423, 73.54723321, 72.15617984, 71.87426794,\n",
       "       77.84396271, 80.33112491, 72.79117261, 81.76222064, 79.59613018,\n",
       "       85.08735143, 71.94840883, 79.64441001, 76.25634771, 71.17769656,\n",
       "       77.06548333, 82.87433404, 84.04937894, 75.09939678, 79.21421633,\n",
       "       78.69178779, 83.20796805, 81.50914172, 78.90779627])"
      ]
     },
     "execution_count": 23,
     "metadata": {},
     "output_type": "execute_result"
    }
   ],
   "source": [
    "y_pred"
   ]
  },
  {
   "cell_type": "markdown",
   "metadata": {},
   "source": [
    "## Prediction for new data"
   ]
  },
  {
   "cell_type": "code",
   "execution_count": 24,
   "metadata": {
    "colab": {
     "base_uri": "https://localhost:8080/"
    },
    "id": "y4OXplnmxR1B",
    "outputId": "f01d8524-20a7-45fb-94c0-f121b4ca9060"
   },
   "outputs": [
    {
     "name": "stdout",
     "output_type": "stream",
     "text": [
      "marks: [70.27726683]\n"
     ]
    }
   ],
   "source": [
    "Hours=5\n",
    "Age=22\n",
    "Internet=0\n",
    "marks=[[Hours,Age,Internet]]\n",
    "marksResult=lr.predict(marks)\n",
    "print(\"marks: {}\".format(marksResult))"
   ]
  }
 ],
 "metadata": {
  "colab": {
   "provenance": []
  },
  "kernelspec": {
   "display_name": "Python 3 (ipykernel)",
   "language": "python",
   "name": "python3"
  },
  "language_info": {
   "codemirror_mode": {
    "name": "ipython",
    "version": 3
   },
   "file_extension": ".py",
   "mimetype": "text/x-python",
   "name": "python",
   "nbconvert_exporter": "python",
   "pygments_lexer": "ipython3",
   "version": "3.9.12"
  },
  "latex_envs": {
   "LaTeX_envs_menu_present": true,
   "autoclose": false,
   "autocomplete": true,
   "bibliofile": "biblio.bib",
   "cite_by": "apalike",
   "current_citInitial": 1,
   "eqLabelWithNumbers": true,
   "eqNumInitial": 1,
   "hotkeys": {
    "equation": "Ctrl-E",
    "itemize": "Ctrl-I"
   },
   "labels_anchors": false,
   "latex_user_defs": false,
   "report_style_numbering": false,
   "user_envs_cfg": false
  },
  "varInspector": {
   "cols": {
    "lenName": 16,
    "lenType": 16,
    "lenVar": 40
   },
   "kernels_config": {
    "python": {
     "delete_cmd_postfix": "",
     "delete_cmd_prefix": "del ",
     "library": "var_list.py",
     "varRefreshCmd": "print(var_dic_list())"
    },
    "r": {
     "delete_cmd_postfix": ") ",
     "delete_cmd_prefix": "rm(",
     "library": "var_list.r",
     "varRefreshCmd": "cat(var_dic_list()) "
    }
   },
   "types_to_exclude": [
    "module",
    "function",
    "builtin_function_or_method",
    "instance",
    "_Feature"
   ],
   "window_display": false
  }
 },
 "nbformat": 4,
 "nbformat_minor": 1
}
