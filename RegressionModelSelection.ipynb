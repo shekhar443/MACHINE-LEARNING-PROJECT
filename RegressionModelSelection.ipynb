{
 "cells": [
  {
   "cell_type": "markdown",
   "metadata": {
    "id": "r3cas2_1T98w"
   },
   "source": [
    "# <font color = \"BLUE\" > <b><i>Regression Model Selection</b>\n",
    "<b><i>NAKKA SHEKHAR</b>\n",
    "* [linkedin](https://www.linkedin.com/in/nakka-shekhar-2019a987/)\n",
    "* [github](https://github.com/shekhar443/MACHINE-LEARNING-PROJECT)"
   ]
  },
  {
   "cell_type": "markdown",
   "metadata": {
    "id": "IODliia6U1xO"
   },
   "source": [
    "## Importing the basic libraries"
   ]
  },
  {
   "cell_type": "code",
   "execution_count": 1,
   "metadata": {
    "id": "y98nA5UdU6Hf"
   },
   "outputs": [],
   "source": [
    "import numpy as np\n",
    "import matplotlib.pyplot as plt\n",
    "import pandas as pd"
   ]
  },
  {
   "cell_type": "markdown",
   "metadata": {
    "id": "jpjZ43YlU8eI"
   },
   "source": [
    "## Importing the dataset"
   ]
  },
  {
   "cell_type": "code",
   "execution_count": 3,
   "metadata": {
    "id": "pLVaXoYVU_Uy"
   },
   "outputs": [],
   "source": [
    "dataset = pd.read_csv('ML/dataset18.csv')\n",
    "X = dataset.iloc[:, :-1].values\n",
    "y = dataset.iloc[:, -1].values\n",
    "ysvm = y.reshape(len(y),1)"
   ]
  },
  {
   "cell_type": "markdown",
   "metadata": {
    "id": "tPJXMyyUJbWn"
   },
   "source": [
    "## Splitting the dataset into the Training set and Test set"
   ]
  },
  {
   "cell_type": "code",
   "execution_count": 4,
   "metadata": {
    "id": "rFOzpjaiJd5B"
   },
   "outputs": [],
   "source": [
    "from sklearn.model_selection import train_test_split\n",
    "X_train, X_test, y_train, y_test = train_test_split(X, y, test_size = 0.2, random_state = 0)"
   ]
  },
  {
   "cell_type": "markdown",
   "metadata": {
    "id": "5bU75GVthaOj"
   },
   "source": [
    "### Importing Machine Learning Algorithms"
   ]
  },
  {
   "cell_type": "code",
   "execution_count": 5,
   "metadata": {
    "id": "YF8HkKVYhag7"
   },
   "outputs": [],
   "source": [
    "from sklearn.linear_model import LinearRegression\n",
    "from sklearn.preprocessing import PolynomialFeatures\n",
    "from sklearn.ensemble import RandomForestRegressor\n",
    "from sklearn.tree import DecisionTreeRegressor"
   ]
  },
  {
   "cell_type": "markdown",
   "metadata": {
    "id": "g16qFkFQVC35"
   },
   "source": [
    "## Initializing different Regression algorithms"
   ]
  },
  {
   "cell_type": "code",
   "execution_count": 6,
   "metadata": {
    "id": "SLDKyv1SVUqS"
   },
   "outputs": [],
   "source": [
    "from sklearn.preprocessing import StandardScaler\n",
    "\n",
    "modelLR  = LinearRegression()\n",
    "\n",
    "poly_reg = PolynomialFeatures(degree = 4)\n",
    "X_poly   = poly_reg.fit_transform(X_train)\n",
    "modelPLR = LinearRegression()\n",
    "\n",
    "modelRFR = RandomForestRegressor(n_estimators = 10, random_state = 0)\n",
    "\n",
    "modelDTR = DecisionTreeRegressor(random_state = 0)"
   ]
  },
  {
   "cell_type": "markdown",
   "metadata": {
    "id": "ePPz0Lu6fXfN"
   },
   "source": [
    "### Training Regression algorithm"
   ]
  },
  {
   "cell_type": "code",
   "execution_count": 7,
   "metadata": {
    "colab": {
     "base_uri": "https://localhost:8080/"
    },
    "id": "oHhA2uoyfEK2",
    "outputId": "ae609fda-f5cf-4063-db2a-c036a7e1644c"
   },
   "outputs": [
    {
     "data": {
      "text/plain": [
       "DecisionTreeRegressor(random_state=0)"
      ]
     },
     "execution_count": 7,
     "metadata": {},
     "output_type": "execute_result"
    }
   ],
   "source": [
    "modelLR.fit(X_train, y_train)\n",
    "modelPLR.fit(X_poly, y_train)\n",
    "modelRFR.fit(X_train, y_train)\n",
    "modelDTR.fit(X_train, y_train)"
   ]
  },
  {
   "cell_type": "markdown",
   "metadata": {
    "id": "Nao9cdO6IgNb"
   },
   "source": [
    "## Predicting the Test set for Validation"
   ]
  },
  {
   "cell_type": "code",
   "execution_count": 8,
   "metadata": {
    "id": "EebHA3EOIkQK"
   },
   "outputs": [],
   "source": [
    "modelLRy_pred  = modelLR.predict(X_test)\n",
    "modelPLRy_pred = modelPLR.predict(poly_reg.transform(X_test))\n",
    "modelRFRy_pred = modelRFR.predict(X_test)\n",
    "modelDTRy_pred = modelDTR.predict(X_test)"
   ]
  },
  {
   "cell_type": "markdown",
   "metadata": {
    "id": "V4nELFnnIod1"
   },
   "source": [
    "## Evaluating the Model Performance"
   ]
  },
  {
   "cell_type": "code",
   "execution_count": 9,
   "metadata": {
    "colab": {
     "base_uri": "https://localhost:8080/"
    },
    "id": "_G2QS1UoIsTZ",
    "outputId": "e61ece7a-b262-4152-e7a9-75fbc7a2f32b"
   },
   "outputs": [
    {
     "name": "stdout",
     "output_type": "stream",
     "text": [
      "Linear Regression Accuracy: 0.9325315554761303\n",
      "Polynomial Regression Accuracy: 0.9458193459836522\n",
      "Random Forest Regression Accuracy: 0.9615908334363876\n",
      "Decision Treee Regression Accuracy: 0.922905874177941\n"
     ]
    }
   ],
   "source": [
    "from sklearn.metrics import r2_score\n",
    "print(\"Linear Regression Accuracy: {}\".format(r2_score(y_test, modelLRy_pred)))\n",
    "print(\"Polynomial Regression Accuracy: {}\".format(r2_score(y_test, modelPLRy_pred)))\n",
    "print(\"Random Forest Regression Accuracy: {}\".format(r2_score(y_test, modelRFRy_pred)))\n",
    "print(\"Decision Treee Regression Accuracy: {}\".format(r2_score(y_test, modelDTRy_pred)))"
   ]
  }
 ],
 "metadata": {
  "colab": {
   "provenance": []
  },
  "kernelspec": {
   "display_name": "Python 3 (ipykernel)",
   "language": "python",
   "name": "python3"
  },
  "language_info": {
   "codemirror_mode": {
    "name": "ipython",
    "version": 3
   },
   "file_extension": ".py",
   "mimetype": "text/x-python",
   "name": "python",
   "nbconvert_exporter": "python",
   "pygments_lexer": "ipython3",
   "version": "3.9.12"
  },
  "latex_envs": {
   "LaTeX_envs_menu_present": true,
   "autoclose": false,
   "autocomplete": true,
   "bibliofile": "biblio.bib",
   "cite_by": "apalike",
   "current_citInitial": 1,
   "eqLabelWithNumbers": true,
   "eqNumInitial": 1,
   "hotkeys": {
    "equation": "Ctrl-E",
    "itemize": "Ctrl-I"
   },
   "labels_anchors": false,
   "latex_user_defs": false,
   "report_style_numbering": false,
   "user_envs_cfg": false
  },
  "varInspector": {
   "cols": {
    "lenName": 16,
    "lenType": 16,
    "lenVar": 40
   },
   "kernels_config": {
    "python": {
     "delete_cmd_postfix": "",
     "delete_cmd_prefix": "del ",
     "library": "var_list.py",
     "varRefreshCmd": "print(var_dic_list())"
    },
    "r": {
     "delete_cmd_postfix": ") ",
     "delete_cmd_prefix": "rm(",
     "library": "var_list.r",
     "varRefreshCmd": "cat(var_dic_list()) "
    }
   },
   "types_to_exclude": [
    "module",
    "function",
    "builtin_function_or_method",
    "instance",
    "_Feature"
   ],
   "window_display": false
  }
 },
 "nbformat": 4,
 "nbformat_minor": 1
}
