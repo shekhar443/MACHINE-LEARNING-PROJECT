{
 "cells": [
  {
   "cell_type": "markdown",
   "id": "dd1574bd",
   "metadata": {},
   "source": [
    "# <font color=\"orange\">Movie Recommendation System </font>\n",
    "\n",
    "<b><i>NAKKA SHEKHAR</b>\n",
    "* [linkedin](https://www.linkedin.com/in/nakka-shekhar-2019a987/)\n",
    "* [github](https://github.com/shekhar443/MACHINE-LEARNING-PROJECT)\n",
    "\n",
    "<b>Steps Followed:</b>\n",
    "* Importing the basic libraries\n",
    "* Importing & Parsing the dataset as ratings and movies details\n",
    "* Basic Inspection on datasets\n",
    "* Create the ratings matrix of shape (m×u)\n",
    "* Subtract Mean off - Normalization\n",
    "* Computing SVD\n",
    "* Calculate cosine similarity, sort by most similar and return the top N\n",
    "* Select k principal components to represent the movies, a movie_id to find recommendations and print the top_n results\n"
   ]
  },
  {
   "cell_type": "markdown",
   "id": "aa645ca2",
   "metadata": {},
   "source": [
    "### Importing the basic libraries"
   ]
  },
  {
   "cell_type": "code",
   "execution_count": 1,
   "id": "7f57f86a",
   "metadata": {},
   "outputs": [],
   "source": [
    "import pandas as pd\n",
    "import numpy as np\n",
    "import matplotlib.pyplot as plt\n",
    "import warnings\n",
    "warnings.filterwarnings(\"ignore\")\n",
    "%matplotlib inline"
   ]
  },
  {
   "cell_type": "markdown",
   "id": "20760643",
   "metadata": {},
   "source": [
    "### Importing & Parsing the dataset as ratings and movies details"
   ]
  },
  {
   "cell_type": "code",
   "execution_count": 2,
   "id": "3e081977",
   "metadata": {},
   "outputs": [],
   "source": [
    "ratingData = pd.read_table('ratings.dat', \n",
    "names=['user_id', 'movie_id', 'rating', 'time'],engine='python', delimiter='::',encoding=\"ISO-8859-1\")\n",
    "movieData = pd.read_table('movies.dat',names=['movie_id', 'title', 'genre'],engine='python',\n",
    "                          delimiter='::',encoding=\"ISO-8859-1\")"
   ]
  },
  {
   "cell_type": "markdown",
   "id": "610732c7",
   "metadata": {},
   "source": [
    "### Basic Inspection on datasets"
   ]
  },
  {
   "cell_type": "code",
   "execution_count": 3,
   "id": "56c7c6be",
   "metadata": {},
   "outputs": [
    {
     "data": {
      "text/html": [
       "<div>\n",
       "<style scoped>\n",
       "    .dataframe tbody tr th:only-of-type {\n",
       "        vertical-align: middle;\n",
       "    }\n",
       "\n",
       "    .dataframe tbody tr th {\n",
       "        vertical-align: top;\n",
       "    }\n",
       "\n",
       "    .dataframe thead th {\n",
       "        text-align: right;\n",
       "    }\n",
       "</style>\n",
       "<table border=\"1\" class=\"dataframe\">\n",
       "  <thead>\n",
       "    <tr style=\"text-align: right;\">\n",
       "      <th></th>\n",
       "      <th>movie_id</th>\n",
       "      <th>title</th>\n",
       "      <th>genre</th>\n",
       "    </tr>\n",
       "  </thead>\n",
       "  <tbody>\n",
       "    <tr>\n",
       "      <th>0</th>\n",
       "      <td>1</td>\n",
       "      <td>Toy Story (1995)</td>\n",
       "      <td>Animation|Children's|Comedy</td>\n",
       "    </tr>\n",
       "    <tr>\n",
       "      <th>1</th>\n",
       "      <td>2</td>\n",
       "      <td>Jumanji (1995)</td>\n",
       "      <td>Adventure|Children's|Fantasy</td>\n",
       "    </tr>\n",
       "    <tr>\n",
       "      <th>2</th>\n",
       "      <td>3</td>\n",
       "      <td>Grumpier Old Men (1995)</td>\n",
       "      <td>Comedy|Romance</td>\n",
       "    </tr>\n",
       "    <tr>\n",
       "      <th>3</th>\n",
       "      <td>4</td>\n",
       "      <td>Waiting to Exhale (1995)</td>\n",
       "      <td>Comedy|Drama</td>\n",
       "    </tr>\n",
       "    <tr>\n",
       "      <th>4</th>\n",
       "      <td>5</td>\n",
       "      <td>Father of the Bride Part II (1995)</td>\n",
       "      <td>Comedy</td>\n",
       "    </tr>\n",
       "  </tbody>\n",
       "</table>\n",
       "</div>"
      ],
      "text/plain": [
       "   movie_id                               title                         genre\n",
       "0         1                    Toy Story (1995)   Animation|Children's|Comedy\n",
       "1         2                      Jumanji (1995)  Adventure|Children's|Fantasy\n",
       "2         3             Grumpier Old Men (1995)                Comedy|Romance\n",
       "3         4            Waiting to Exhale (1995)                  Comedy|Drama\n",
       "4         5  Father of the Bride Part II (1995)                        Comedy"
      ]
     },
     "execution_count": 3,
     "metadata": {},
     "output_type": "execute_result"
    }
   ],
   "source": [
    "# Top 5 rows of movie data\n",
    "movieData.head()"
   ]
  },
  {
   "cell_type": "code",
   "execution_count": 4,
   "id": "d3028b4b",
   "metadata": {},
   "outputs": [
    {
     "data": {
      "text/html": [
       "<div>\n",
       "<style scoped>\n",
       "    .dataframe tbody tr th:only-of-type {\n",
       "        vertical-align: middle;\n",
       "    }\n",
       "\n",
       "    .dataframe tbody tr th {\n",
       "        vertical-align: top;\n",
       "    }\n",
       "\n",
       "    .dataframe thead th {\n",
       "        text-align: right;\n",
       "    }\n",
       "</style>\n",
       "<table border=\"1\" class=\"dataframe\">\n",
       "  <thead>\n",
       "    <tr style=\"text-align: right;\">\n",
       "      <th></th>\n",
       "      <th>user_id</th>\n",
       "      <th>movie_id</th>\n",
       "      <th>rating</th>\n",
       "      <th>time</th>\n",
       "    </tr>\n",
       "  </thead>\n",
       "  <tbody>\n",
       "    <tr>\n",
       "      <th>0</th>\n",
       "      <td>1</td>\n",
       "      <td>1193</td>\n",
       "      <td>5</td>\n",
       "      <td>978300760</td>\n",
       "    </tr>\n",
       "    <tr>\n",
       "      <th>1</th>\n",
       "      <td>1</td>\n",
       "      <td>661</td>\n",
       "      <td>3</td>\n",
       "      <td>978302109</td>\n",
       "    </tr>\n",
       "    <tr>\n",
       "      <th>2</th>\n",
       "      <td>1</td>\n",
       "      <td>914</td>\n",
       "      <td>3</td>\n",
       "      <td>978301968</td>\n",
       "    </tr>\n",
       "    <tr>\n",
       "      <th>3</th>\n",
       "      <td>1</td>\n",
       "      <td>3408</td>\n",
       "      <td>4</td>\n",
       "      <td>978300275</td>\n",
       "    </tr>\n",
       "    <tr>\n",
       "      <th>4</th>\n",
       "      <td>1</td>\n",
       "      <td>2355</td>\n",
       "      <td>5</td>\n",
       "      <td>978824291</td>\n",
       "    </tr>\n",
       "  </tbody>\n",
       "</table>\n",
       "</div>"
      ],
      "text/plain": [
       "   user_id  movie_id  rating       time\n",
       "0        1      1193       5  978300760\n",
       "1        1       661       3  978302109\n",
       "2        1       914       3  978301968\n",
       "3        1      3408       4  978300275\n",
       "4        1      2355       5  978824291"
      ]
     },
     "execution_count": 4,
     "metadata": {},
     "output_type": "execute_result"
    }
   ],
   "source": [
    "# Top 5 rows of rating data\n",
    "ratingData.head()"
   ]
  },
  {
   "cell_type": "code",
   "execution_count": 5,
   "id": "bc126230",
   "metadata": {},
   "outputs": [
    {
     "name": "stdout",
     "output_type": "stream",
     "text": [
      "rating data having 1000209 rows 4 columns\n"
     ]
    }
   ],
   "source": [
    "r,c=ratingData.shape\n",
    "print(\"rating data having {} rows {} columns\".format(r,c))"
   ]
  },
  {
   "cell_type": "code",
   "execution_count": 6,
   "id": "55154a0f",
   "metadata": {},
   "outputs": [
    {
     "name": "stdout",
     "output_type": "stream",
     "text": [
      "movie data having 3883 rows 3 columns\n"
     ]
    }
   ],
   "source": [
    "r,c=movieData.shape\n",
    "print(\"movie data having {} rows {} columns\".format(r,c))"
   ]
  },
  {
   "cell_type": "code",
   "execution_count": 7,
   "id": "347cc74f",
   "metadata": {},
   "outputs": [
    {
     "data": {
      "text/plain": [
       "11649"
      ]
     },
     "execution_count": 7,
     "metadata": {},
     "output_type": "execute_result"
    }
   ],
   "source": [
    "movieData.size"
   ]
  },
  {
   "cell_type": "code",
   "execution_count": 8,
   "id": "d1a68593",
   "metadata": {},
   "outputs": [
    {
     "data": {
      "text/plain": [
       "4000836"
      ]
     },
     "execution_count": 8,
     "metadata": {},
     "output_type": "execute_result"
    }
   ],
   "source": [
    "ratingData.size"
   ]
  },
  {
   "cell_type": "code",
   "execution_count": 9,
   "id": "02fc9743",
   "metadata": {},
   "outputs": [
    {
     "name": "stdout",
     "output_type": "stream",
     "text": [
      "columns in the movie data:  ['movie_id', 'title', 'genre']\n"
     ]
    }
   ],
   "source": [
    "print('columns in the movie data: ',list(movieData.columns))"
   ]
  },
  {
   "cell_type": "code",
   "execution_count": 10,
   "id": "bdc600b8",
   "metadata": {},
   "outputs": [
    {
     "name": "stdout",
     "output_type": "stream",
     "text": [
      "columns in the rating data:  ['user_id', 'movie_id', 'rating', 'time']\n"
     ]
    }
   ],
   "source": [
    "print('columns in the rating data: ',list(ratingData.columns))"
   ]
  },
  {
   "cell_type": "code",
   "execution_count": 11,
   "id": "ff6a9664",
   "metadata": {},
   "outputs": [
    {
     "data": {
      "text/plain": [
       "3883"
      ]
     },
     "execution_count": 11,
     "metadata": {},
     "output_type": "execute_result"
    }
   ],
   "source": [
    "len(movieData.movie_id.unique())"
   ]
  },
  {
   "cell_type": "code",
   "execution_count": 12,
   "id": "17043bf4",
   "metadata": {},
   "outputs": [
    {
     "data": {
      "text/plain": [
       "3706"
      ]
     },
     "execution_count": 12,
     "metadata": {},
     "output_type": "execute_result"
    }
   ],
   "source": [
    "len(ratingData.movie_id.unique())"
   ]
  },
  {
   "cell_type": "code",
   "execution_count": 13,
   "id": "e959dae7",
   "metadata": {},
   "outputs": [
    {
     "name": "stdout",
     "output_type": "stream",
     "text": [
      "<class 'pandas.core.frame.DataFrame'>\n",
      "RangeIndex: 1000209 entries, 0 to 1000208\n",
      "Data columns (total 4 columns):\n",
      " #   Column    Non-Null Count    Dtype\n",
      "---  ------    --------------    -----\n",
      " 0   user_id   1000209 non-null  int64\n",
      " 1   movie_id  1000209 non-null  int64\n",
      " 2   rating    1000209 non-null  int64\n",
      " 3   time      1000209 non-null  int64\n",
      "dtypes: int64(4)\n",
      "memory usage: 30.5 MB\n"
     ]
    }
   ],
   "source": [
    "ratingData.info()"
   ]
  },
  {
   "cell_type": "code",
   "execution_count": 14,
   "id": "1c06bd13",
   "metadata": {},
   "outputs": [
    {
     "name": "stdout",
     "output_type": "stream",
     "text": [
      "<class 'pandas.core.frame.DataFrame'>\n",
      "RangeIndex: 3883 entries, 0 to 3882\n",
      "Data columns (total 3 columns):\n",
      " #   Column    Non-Null Count  Dtype \n",
      "---  ------    --------------  ----- \n",
      " 0   movie_id  3883 non-null   int64 \n",
      " 1   title     3883 non-null   object\n",
      " 2   genre     3883 non-null   object\n",
      "dtypes: int64(1), object(2)\n",
      "memory usage: 91.1+ KB\n"
     ]
    }
   ],
   "source": [
    "movieData.info()"
   ]
  },
  {
   "cell_type": "code",
   "execution_count": 15,
   "id": "9a725038",
   "metadata": {},
   "outputs": [],
   "source": [
    "# Checking null values\n",
    "def checknull(obj):\n",
    "    return obj.isnull().sum()"
   ]
  },
  {
   "cell_type": "code",
   "execution_count": 16,
   "id": "68eb254c",
   "metadata": {},
   "outputs": [
    {
     "data": {
      "text/plain": [
       "movie_id    0\n",
       "title       0\n",
       "genre       0\n",
       "dtype: int64"
      ]
     },
     "execution_count": 16,
     "metadata": {},
     "output_type": "execute_result"
    }
   ],
   "source": [
    "movieData.apply(checknull)"
   ]
  },
  {
   "cell_type": "code",
   "execution_count": 17,
   "id": "82529195",
   "metadata": {},
   "outputs": [
    {
     "data": {
      "text/plain": [
       "user_id     0\n",
       "movie_id    0\n",
       "rating      0\n",
       "time        0\n",
       "dtype: int64"
      ]
     },
     "execution_count": 17,
     "metadata": {},
     "output_type": "execute_result"
    }
   ],
   "source": [
    "ratingData.apply(checknull)"
   ]
  },
  {
   "cell_type": "code",
   "execution_count": 18,
   "id": "260647ce",
   "metadata": {},
   "outputs": [],
   "source": [
    "# Checking duplicate values\n",
    "def checkduplicate(obj):\n",
    "    return obj.duplicated().sum()"
   ]
  },
  {
   "cell_type": "code",
   "execution_count": 19,
   "id": "b357b772",
   "metadata": {},
   "outputs": [
    {
     "data": {
      "text/plain": [
       "movie_id       0\n",
       "title          0\n",
       "genre       3582\n",
       "dtype: int64"
      ]
     },
     "execution_count": 19,
     "metadata": {},
     "output_type": "execute_result"
    }
   ],
   "source": [
    "movieData.apply(checkduplicate)"
   ]
  },
  {
   "cell_type": "code",
   "execution_count": 20,
   "id": "d6686879",
   "metadata": {
    "scrolled": true
   },
   "outputs": [
    {
     "data": {
      "text/plain": [
       "user_id      994169\n",
       "movie_id     996503\n",
       "rating      1000204\n",
       "time         541754\n",
       "dtype: int64"
      ]
     },
     "execution_count": 20,
     "metadata": {},
     "output_type": "execute_result"
    }
   ],
   "source": [
    "ratingData.apply(checkduplicate)"
   ]
  },
  {
   "cell_type": "markdown",
   "id": "e1e34523",
   "metadata": {},
   "source": [
    "### Create the ratings matrix of shape (m×u)"
   ]
  },
  {
   "cell_type": "code",
   "execution_count": 21,
   "id": "b6361c60",
   "metadata": {},
   "outputs": [
    {
     "data": {
      "text/plain": [
       "array([1193,  661,  914, ...,  562, 1096, 1097], dtype=int64)"
      ]
     },
     "execution_count": 21,
     "metadata": {},
     "output_type": "execute_result"
    }
   ],
   "source": [
    "ratingData.movie_id.values"
   ]
  },
  {
   "cell_type": "code",
   "execution_count": 22,
   "id": "e474c7b9",
   "metadata": {},
   "outputs": [
    {
     "data": {
      "text/plain": [
       "3952"
      ]
     },
     "execution_count": 22,
     "metadata": {},
     "output_type": "execute_result"
    }
   ],
   "source": [
    "np.max(ratingData.movie_id.values)"
   ]
  },
  {
   "cell_type": "code",
   "execution_count": 23,
   "id": "e9dc9253",
   "metadata": {},
   "outputs": [
    {
     "data": {
      "text/plain": [
       "array([   1,    1,    1, ..., 6040, 6040, 6040], dtype=int64)"
      ]
     },
     "execution_count": 23,
     "metadata": {},
     "output_type": "execute_result"
    }
   ],
   "source": [
    "ratingData.user_id.values"
   ]
  },
  {
   "cell_type": "code",
   "execution_count": 24,
   "id": "bc5f9d3e",
   "metadata": {},
   "outputs": [
    {
     "data": {
      "text/plain": [
       "6040"
      ]
     },
     "execution_count": 24,
     "metadata": {},
     "output_type": "execute_result"
    }
   ],
   "source": [
    "np.max(ratingData.user_id.values)"
   ]
  },
  {
   "cell_type": "code",
   "execution_count": 25,
   "id": "08ad5e9e",
   "metadata": {},
   "outputs": [],
   "source": [
    "ratingMatrix = np.ndarray(\n",
    "    shape=(np.max(ratingData.movie_id.values), np.max(ratingData.user_id.values)),\n",
    "    dtype=np.uint8)"
   ]
  },
  {
   "cell_type": "code",
   "execution_count": 26,
   "id": "2bc67f89",
   "metadata": {},
   "outputs": [
    {
     "data": {
      "text/plain": [
       "array([1192,  660,  913, ...,  561, 1095, 1096], dtype=int64)"
      ]
     },
     "execution_count": 26,
     "metadata": {},
     "output_type": "execute_result"
    }
   ],
   "source": [
    "ratingData.movie_id.values-1"
   ]
  },
  {
   "cell_type": "code",
   "execution_count": 27,
   "id": "65ad7ce8",
   "metadata": {},
   "outputs": [
    {
     "data": {
      "text/plain": [
       "array([   0,    0,    0, ..., 6039, 6039, 6039], dtype=int64)"
      ]
     },
     "execution_count": 27,
     "metadata": {},
     "output_type": "execute_result"
    }
   ],
   "source": [
    "ratingData.user_id.values-1"
   ]
  },
  {
   "cell_type": "code",
   "execution_count": 28,
   "id": "0d263554",
   "metadata": {},
   "outputs": [
    {
     "data": {
      "text/plain": [
       "array([5, 3, 3, ..., 5, 4, 4], dtype=int64)"
      ]
     },
     "execution_count": 28,
     "metadata": {},
     "output_type": "execute_result"
    }
   ],
   "source": [
    "ratingData.rating.values"
   ]
  },
  {
   "cell_type": "code",
   "execution_count": 29,
   "id": "997754f8",
   "metadata": {},
   "outputs": [],
   "source": [
    "ratingMatrix[ratingData.movie_id.values-1, ratingData.user_id.values-1] = ratingData.rating.values"
   ]
  },
  {
   "cell_type": "code",
   "execution_count": 30,
   "id": "1c53f41c",
   "metadata": {},
   "outputs": [
    {
     "name": "stdout",
     "output_type": "stream",
     "text": [
      "[[5 0 0 ... 0 0 3]\n",
      " [0 0 0 ... 0 0 0]\n",
      " [0 0 0 ... 0 0 0]\n",
      " ...\n",
      " [0 0 0 ... 0 0 0]\n",
      " [0 0 0 ... 0 0 0]\n",
      " [0 0 0 ... 0 0 0]]\n"
     ]
    }
   ],
   "source": [
    "print(ratingMatrix)"
   ]
  },
  {
   "cell_type": "markdown",
   "id": "4670681c",
   "metadata": {},
   "source": [
    "### Subtract Mean off - Normalization"
   ]
  },
  {
   "cell_type": "code",
   "execution_count": 31,
   "id": "8ee01a76",
   "metadata": {},
   "outputs": [
    {
     "data": {
      "text/plain": [
       "0.15007545010322546"
      ]
     },
     "execution_count": 31,
     "metadata": {},
     "output_type": "execute_result"
    }
   ],
   "source": [
    "np.mean(ratingMatrix)"
   ]
  },
  {
   "cell_type": "code",
   "execution_count": 32,
   "id": "ee2832e6",
   "metadata": {},
   "outputs": [
    {
     "data": {
      "text/plain": [
       "array([1.42599338, 0.37152318, 0.23874172, ..., 0.03278146, 0.02582781,\n",
       "       0.24288079])"
      ]
     },
     "execution_count": 32,
     "metadata": {},
     "output_type": "execute_result"
    }
   ],
   "source": [
    "np.mean(ratingMatrix, 1)"
   ]
  },
  {
   "cell_type": "code",
   "execution_count": 33,
   "id": "d81ce690",
   "metadata": {},
   "outputs": [
    {
     "data": {
      "text/plain": [
       "(3952,)"
      ]
     },
     "execution_count": 33,
     "metadata": {},
     "output_type": "execute_result"
    }
   ],
   "source": [
    "np.mean(ratingMatrix, 1).shape"
   ]
  },
  {
   "cell_type": "code",
   "execution_count": 34,
   "id": "cd2d65c6",
   "metadata": {},
   "outputs": [
    {
     "data": {
      "text/plain": [
       "array([1.42599338, 0.37152318, 0.23874172, ..., 0.03278146, 0.02582781,\n",
       "       0.24288079])"
      ]
     },
     "execution_count": 34,
     "metadata": {},
     "output_type": "execute_result"
    }
   ],
   "source": [
    "np.asarray(np.mean(ratingMatrix, 1))"
   ]
  },
  {
   "cell_type": "code",
   "execution_count": 35,
   "id": "e8d26275",
   "metadata": {},
   "outputs": [
    {
     "data": {
      "text/plain": [
       "(3952,)"
      ]
     },
     "execution_count": 35,
     "metadata": {},
     "output_type": "execute_result"
    }
   ],
   "source": [
    "np.asarray(np.mean(ratingMatrix, 1)).shape"
   ]
  },
  {
   "cell_type": "code",
   "execution_count": 36,
   "id": "bab344e8",
   "metadata": {},
   "outputs": [],
   "source": [
    "normalizedMatrix = ratingMatrix - np.asarray([(np.mean(ratingMatrix, 1))]).T"
   ]
  },
  {
   "cell_type": "code",
   "execution_count": 37,
   "id": "f6d529d9",
   "metadata": {},
   "outputs": [
    {
     "name": "stdout",
     "output_type": "stream",
     "text": [
      "[[ 3.57400662 -1.42599338 -1.42599338 ... -1.42599338 -1.42599338\n",
      "   1.57400662]\n",
      " [-0.37152318 -0.37152318 -0.37152318 ... -0.37152318 -0.37152318\n",
      "  -0.37152318]\n",
      " [-0.23874172 -0.23874172 -0.23874172 ... -0.23874172 -0.23874172\n",
      "  -0.23874172]\n",
      " ...\n",
      " [-0.03278146 -0.03278146 -0.03278146 ... -0.03278146 -0.03278146\n",
      "  -0.03278146]\n",
      " [-0.02582781 -0.02582781 -0.02582781 ... -0.02582781 -0.02582781\n",
      "  -0.02582781]\n",
      " [-0.24288079 -0.24288079 -0.24288079 ... -0.24288079 -0.24288079\n",
      "  -0.24288079]]\n"
     ]
    }
   ],
   "source": [
    "print(normalizedMatrix)"
   ]
  },
  {
   "cell_type": "markdown",
   "id": "3792f770",
   "metadata": {},
   "source": [
    "### Computing SVD"
   ]
  },
  {
   "cell_type": "code",
   "execution_count": 38,
   "id": "dbcdf763",
   "metadata": {},
   "outputs": [
    {
     "data": {
      "text/plain": [
       "array([[ 3.57400662, -0.37152318, -0.23874172, ..., -0.03278146,\n",
       "        -0.02582781, -0.24288079],\n",
       "       [-1.42599338, -0.37152318, -0.23874172, ..., -0.03278146,\n",
       "        -0.02582781, -0.24288079],\n",
       "       [-1.42599338, -0.37152318, -0.23874172, ..., -0.03278146,\n",
       "        -0.02582781, -0.24288079],\n",
       "       ...,\n",
       "       [-1.42599338, -0.37152318, -0.23874172, ..., -0.03278146,\n",
       "        -0.02582781, -0.24288079],\n",
       "       [-1.42599338, -0.37152318, -0.23874172, ..., -0.03278146,\n",
       "        -0.02582781, -0.24288079],\n",
       "       [ 1.57400662, -0.37152318, -0.23874172, ..., -0.03278146,\n",
       "        -0.02582781, -0.24288079]])"
      ]
     },
     "execution_count": 38,
     "metadata": {},
     "output_type": "execute_result"
    }
   ],
   "source": [
    "normalizedMatrix.T"
   ]
  },
  {
   "cell_type": "code",
   "execution_count": 39,
   "id": "94712061",
   "metadata": {},
   "outputs": [
    {
     "data": {
      "text/plain": [
       "3951"
      ]
     },
     "execution_count": 39,
     "metadata": {},
     "output_type": "execute_result"
    }
   ],
   "source": [
    "ratingMatrix.shape[0] - 1"
   ]
  },
  {
   "cell_type": "code",
   "execution_count": 40,
   "id": "d75ce84c",
   "metadata": {},
   "outputs": [
    {
     "data": {
      "text/plain": [
       "62.85698051927089"
      ]
     },
     "execution_count": 40,
     "metadata": {},
     "output_type": "execute_result"
    }
   ],
   "source": [
    "np.sqrt(ratingMatrix.shape[0] - 1)"
   ]
  },
  {
   "cell_type": "code",
   "execution_count": 41,
   "id": "00d0b3a6",
   "metadata": {},
   "outputs": [
    {
     "data": {
      "text/plain": [
       "array([[ 0.05685934, -0.00591061, -0.00379817, ..., -0.00052152,\n",
       "        -0.0004109 , -0.00386402],\n",
       "       [-0.02268632, -0.00591061, -0.00379817, ..., -0.00052152,\n",
       "        -0.0004109 , -0.00386402],\n",
       "       [-0.02268632, -0.00591061, -0.00379817, ..., -0.00052152,\n",
       "        -0.0004109 , -0.00386402],\n",
       "       ...,\n",
       "       [-0.02268632, -0.00591061, -0.00379817, ..., -0.00052152,\n",
       "        -0.0004109 , -0.00386402],\n",
       "       [-0.02268632, -0.00591061, -0.00379817, ..., -0.00052152,\n",
       "        -0.0004109 , -0.00386402],\n",
       "       [ 0.02504108, -0.00591061, -0.00379817, ..., -0.00052152,\n",
       "        -0.0004109 , -0.00386402]])"
      ]
     },
     "execution_count": 41,
     "metadata": {},
     "output_type": "execute_result"
    }
   ],
   "source": [
    "A = normalizedMatrix.T / np.sqrt(ratingMatrix.shape[0] - 1)\n",
    "A"
   ]
  },
  {
   "cell_type": "code",
   "execution_count": 42,
   "id": "82cb617a",
   "metadata": {},
   "outputs": [],
   "source": [
    "U, S, V = np.linalg.svd(A)"
   ]
  },
  {
   "cell_type": "markdown",
   "id": "5447fde6",
   "metadata": {},
   "source": [
    "### Calculate cosine similarity, sort by most similar and return the top N"
   ]
  },
  {
   "cell_type": "code",
   "execution_count": 43,
   "id": "15eee8f0",
   "metadata": {},
   "outputs": [],
   "source": [
    "def similar(ratingData, movie_id, top_n):\n",
    "    index = movie_id - 1 # Movie id starts from 1\n",
    "    movie_row = ratingData[index, :]\n",
    "    magnitude = np.sqrt(np.einsum('ij, ij -> i', ratingData, ratingData)) #Einstein summation |  traditional matrix multiplication and is equivalent to np.matmul(a,b)\n",
    "    similarity = np.dot(movie_row, ratingData.T) / (magnitude[index] * magnitude)\n",
    "    sort_indexes = np.argsort(-similarity) #Perform an indirect sort along the given axis (Last axis)\n",
    "    return sort_indexes[:top_n]"
   ]
  },
  {
   "cell_type": "markdown",
   "id": "b1435ab1",
   "metadata": {},
   "source": [
    "### Select k principal components to represent the movies, a movie_id to find recommendations and print the top_n results"
   ]
  },
  {
   "cell_type": "code",
   "execution_count": 44,
   "id": "dc833c26",
   "metadata": {},
   "outputs": [
    {
     "name": "stdout",
     "output_type": "stream",
     "text": [
      "enter the total number of movies: 10000\n",
      "enter the movie id: 23\n",
      "ton n movies: 5\n",
      " \n",
      "Recommendations for Movie Assassins (1995): \n",
      "\n",
      "Assassins (1995)\n",
      "Boat, The (Das Boot) (1981)\n",
      "Return of the Pink Panther, The (1974)\n",
      "Braveheart (1995)\n",
      "Guns of Navarone, The (1961)\n"
     ]
    }
   ],
   "source": [
    "k = int(input(\"enter the total number of movies: \"))\n",
    "movie_id = int(input(\"enter the movie id: \"))\n",
    "top_n = int(input(\"ton n movies: \"))\n",
    "\n",
    "sliced = V.T[:, :k] # representative data\n",
    "indexes = similar(sliced, movie_id, top_n)\n",
    "\n",
    "print(\" \")\n",
    "print('Recommendations for Movie {0}: \\n'.format(\n",
    "movieData[movieData.movie_id == movie_id].title.values[0]))\n",
    "for id in indexes + 1:\n",
    "    print(movieData[movieData.movie_id == id].title.values[0])"
   ]
  },
  {
   "cell_type": "markdown",
   "id": "da8c1396",
   "metadata": {},
   "source": [
    "#### <font color=\"red\">Conclusions:</font>\n",
    "<font color=\"green\"></font>\n",
    "* <font color=\"green\">Here The Recommendation System is Developed for List of N Movies</font>\n",
    "* <font color=\"green\">Movie Recommendation System is Developed Based on Collabarating Based Recommendation</font>\n",
    "* <font color=\"green\">We Have to Give K Number of Features, Movie Id,Top N as Input and it Recommends Top N Movies as Output</font>\n",
    "* <font color=\"green\">These Top N Movies Recommended Using Collabarating Based Filtering Technique with Cosine Similarity and SVD</font>"
   ]
  }
 ],
 "metadata": {
  "kernelspec": {
   "display_name": "Python 3 (ipykernel)",
   "language": "python",
   "name": "python3"
  },
  "language_info": {
   "codemirror_mode": {
    "name": "ipython",
    "version": 3
   },
   "file_extension": ".py",
   "mimetype": "text/x-python",
   "name": "python",
   "nbconvert_exporter": "python",
   "pygments_lexer": "ipython3",
   "version": "3.9.12"
  },
  "latex_envs": {
   "LaTeX_envs_menu_present": true,
   "autoclose": false,
   "autocomplete": true,
   "bibliofile": "biblio.bib",
   "cite_by": "apalike",
   "current_citInitial": 1,
   "eqLabelWithNumbers": true,
   "eqNumInitial": 1,
   "hotkeys": {
    "equation": "Ctrl-E",
    "itemize": "Ctrl-I"
   },
   "labels_anchors": false,
   "latex_user_defs": false,
   "report_style_numbering": false,
   "user_envs_cfg": false
  },
  "varInspector": {
   "cols": {
    "lenName": 16,
    "lenType": 16,
    "lenVar": 40
   },
   "kernels_config": {
    "python": {
     "delete_cmd_postfix": "",
     "delete_cmd_prefix": "del ",
     "library": "var_list.py",
     "varRefreshCmd": "print(var_dic_list())"
    },
    "r": {
     "delete_cmd_postfix": ") ",
     "delete_cmd_prefix": "rm(",
     "library": "var_list.r",
     "varRefreshCmd": "cat(var_dic_list()) "
    }
   },
   "types_to_exclude": [
    "module",
    "function",
    "builtin_function_or_method",
    "instance",
    "_Feature"
   ],
   "window_display": false
  }
 },
 "nbformat": 4,
 "nbformat_minor": 5
}
